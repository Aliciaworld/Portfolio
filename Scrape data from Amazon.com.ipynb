{
 "cells": [
  {
   "cell_type": "markdown",
   "metadata": {},
   "source": [
    "# Amazon Web Scraper"
   ]
  },
  {
   "cell_type": "markdown",
   "metadata": {},
   "source": [
    "In this project, I will scrape product data(including Description, Price, Rating, ReviewCount and url) from amazon.com step by step. Then export the data to be a csv file. \n",
    "\n",
    "To get the data is the very first step for data analyst. So this is the very important, especially when we don't data at hand.\n",
    "\n",
    "- import libraries\n",
    "- startup the webdriver\n",
    "- extract the collection\n",
    "- prototype the record\n",
    "- generalize the pattern\n",
    "- Error handling\n",
    "- Getting the next page\n",
    "- Putting all together"
   ]
  },
  {
   "cell_type": "code",
   "execution_count": 71,
   "metadata": {},
   "outputs": [],
   "source": [
    "# the necessary library\n",
    "from selenium import webdriver\n",
    "from bs4 import BeautifulSoup\n",
    "import csv"
   ]
  },
  {
   "cell_type": "markdown",
   "metadata": {},
   "source": [
    "## Startup the webdriver"
   ]
  },
  {
   "cell_type": "code",
   "execution_count": 81,
   "metadata": {},
   "outputs": [],
   "source": [
    "driver = webdriver.Chrome()"
   ]
  },
  {
   "cell_type": "markdown",
   "metadata": {},
   "source": [
    "for **driver**, there are two things need to be paid attention: 1) for different webbrowser, this maybe different(edge is different from chrome); 2) the webdriver location is important, if it is located in the same folder with the file, it can be written as **webdriver.Chrome()**,leaving the parenthesis to be blank, otherwise we have to plug the detailed position in it."
   ]
  },
  {
   "cell_type": "code",
   "execution_count": 83,
   "metadata": {},
   "outputs": [],
   "source": [
    "# normally the following two step is the way to access the webdata\n",
    "url = 'http://www.amazon.com'\n",
    "driver.get(url)\n",
    "\n",
    "# to make it more specific, which means to make it target the goal product, we can define the function and get access to any product data\n",
    "def get_url(search_term):\n",
    "    \"\"\"generate a url from search term\"\"\"\n",
    "    template = 'https://www.amazon.com/s?k={}&ref=nb_sb_ss_ts-doa-p_3_4'\n",
    "    \n",
    "    # when we search product there are space between different words, we replace it with \"+\"\n",
    "    search_term = search_term.replace(' ', '+')\n",
    "    \n",
    "    return template.format(search_term)\n",
    "\n",
    "# make a concrete example\n",
    "url = get_url('adjustable desk')\n",
    "url\n",
    "driver.get(url)"
   ]
  },
  {
   "cell_type": "markdown",
   "metadata": {},
   "source": [
    "## Extract the collection"
   ]
  },
  {
   "cell_type": "code",
   "execution_count": 85,
   "metadata": {},
   "outputs": [],
   "source": [
    "soup = BeautifulSoup(driver.page_source, 'html.parser')\n",
    "\n",
    "result = soup.find_all('div',{'data-component-type':'s-search-result'})"
   ]
  },
  {
   "cell_type": "code",
   "execution_count": 86,
   "metadata": {},
   "outputs": [
    {
     "data": {
      "text/plain": [
       "60"
      ]
     },
     "execution_count": 86,
     "metadata": {},
     "output_type": "execute_result"
    }
   ],
   "source": [
    "len(result)"
   ]
  },
  {
   "cell_type": "markdown",
   "metadata": {},
   "source": [
    "The reason why the len(result) is different from the number on topleft of the websites is because there are some sponsored products, which are not included in the total amount of the search results."
   ]
  },
  {
   "cell_type": "markdown",
   "metadata": {},
   "source": [
    "## Prototype the record\n",
    "- Description\n",
    "- Price\n",
    "- Rating\n",
    "- Review Counts\n",
    "- URL"
   ]
  },
  {
   "cell_type": "code",
   "execution_count": 94,
   "metadata": {},
   "outputs": [],
   "source": [
    "# choose one item to prototype the record\n",
    "item = result[0]"
   ]
  },
  {
   "cell_type": "code",
   "execution_count": 95,
   "metadata": {},
   "outputs": [
    {
     "data": {
      "text/plain": [
       "'Amazon Basics Classic Home Office Computer Desk With Shelves - 29.5 x 19.6 x 35.5 Inches, Black'"
      ]
     },
     "execution_count": 95,
     "metadata": {},
     "output_type": "execute_result"
    }
   ],
   "source": [
    "# get the description\n",
    "atag = item.h2.a\n",
    "\n",
    "description = atag.text.strip()\n",
    "\n",
    "description"
   ]
  },
  {
   "cell_type": "code",
   "execution_count": 116,
   "metadata": {},
   "outputs": [
    {
     "data": {
      "text/plain": [
       "'$64.21'"
      ]
     },
     "execution_count": 116,
     "metadata": {},
     "output_type": "execute_result"
    }
   ],
   "source": [
    "#get the price\n",
    "price = item.find('span','a-offscreen').text\n",
    "\n",
    "price"
   ]
  },
  {
   "cell_type": "code",
   "execution_count": 132,
   "metadata": {},
   "outputs": [
    {
     "name": "stdout",
     "output_type": "stream",
     "text": [
      "4.5 out of 5 stars\n"
     ]
    },
    {
     "data": {
      "text/plain": [
       "'4.5 out of 5 stars'"
      ]
     },
     "execution_count": 132,
     "metadata": {},
     "output_type": "execute_result"
    }
   ],
   "source": [
    "# get the rating\n",
    "rating = item.i.text\n",
    "print(rating)\n",
    "\n",
    "# the above can also be written as item.find('span','a-icon-alt')\n",
    "item.find('span','a-icon-alt').text"
   ]
  },
  {
   "cell_type": "code",
   "execution_count": 133,
   "metadata": {},
   "outputs": [
    {
     "name": "stdout",
     "output_type": "stream",
     "text": [
      "<span class=\"a-size-base\">6,897</span>\n"
     ]
    },
    {
     "data": {
      "text/plain": [
       "'6,897'"
      ]
     },
     "execution_count": 133,
     "metadata": {},
     "output_type": "execute_result"
    }
   ],
   "source": [
    "# get the review counts\n",
    "review_count = item.find('span',{'class':'a-size-base'})\n",
    "print(review_count)\n",
    "# the above can also be writen as item.find('span','a-size-base')\n",
    "\n",
    "# if we only want to get the text\n",
    "review_count = item.find('span',{'class':'a-size-base'}).text\n",
    "review_count"
   ]
  },
  {
   "cell_type": "code",
   "execution_count": 100,
   "metadata": {},
   "outputs": [
    {
     "data": {
      "text/plain": [
       "'http://www.amazon.com/gp/slredirect/picassoRedirect.html/ref=pa_sp_atf_aps_sr_pg1_1?ie=UTF8&adId=A0933660UYTL8OF3G24R&url=%2FAmazonBasics-Classic-Computer-Desk-Shelves%2Fdp%2FB07PVL2N3D%2Fref%3Dsr_1_1_sspa%3Fkeywords%3Dadjustable%2Bdesk%26qid%3D1641411006%26sr%3D8-1-spons%26psc%3D1&qualifier=1641411006&id=1985587025016585&widgetName=sp_atf'"
      ]
     },
     "execution_count": 100,
     "metadata": {},
     "output_type": "execute_result"
    }
   ],
   "source": [
    "# get the url \n",
    "atag.get('href')\n",
    "\n",
    "# the previous line is not actually a url since no http://..., here add them\n",
    "url = 'http://www.amazon.com' + atag.get('href')\n",
    "\n",
    "url"
   ]
  },
  {
   "cell_type": "markdown",
   "metadata": {},
   "source": [
    "## Generalize the pattern"
   ]
  },
  {
   "cell_type": "code",
   "execution_count": 50,
   "metadata": {},
   "outputs": [],
   "source": [
    "def extract_record(item):\n",
    "    \n",
    "    # description and url\n",
    "    atag = item.h2.a\n",
    "    description = atag.text.strip()\n",
    "    url = 'http://www.amazon.com' + atag.get('href')\n",
    "    \n",
    "    # price\n",
    "    price_parent = item.find('span','a-price')\n",
    "    price = price_parent.find('span','a-offscreen').text\n",
    "    \n",
    "    # rank and rating\n",
    "    rating = item.i.text\n",
    "    review_count = item.find('span',{'class':'a-size-base'}).text\n",
    "    \n",
    "    result = (description, price, rating, review_count, url)\n",
    "    \n",
    "    return result"
   ]
  },
  {
   "cell_type": "code",
   "execution_count": 51,
   "metadata": {},
   "outputs": [
    {
     "ename": "AttributeError",
     "evalue": "'NoneType' object has no attribute 'find'",
     "output_type": "error",
     "traceback": [
      "\u001b[1;31m---------------------------------------------------------------------------\u001b[0m",
      "\u001b[1;31mAttributeError\u001b[0m                            Traceback (most recent call last)",
      "\u001b[1;32m<ipython-input-51-e1a632d1fdd3>\u001b[0m in \u001b[0;36m<module>\u001b[1;34m\u001b[0m\n\u001b[0;32m      3\u001b[0m \u001b[1;33m\u001b[0m\u001b[0m\n\u001b[0;32m      4\u001b[0m \u001b[1;32mfor\u001b[0m \u001b[0mitem\u001b[0m \u001b[1;32min\u001b[0m \u001b[0mresult\u001b[0m\u001b[1;33m:\u001b[0m\u001b[1;33m\u001b[0m\u001b[1;33m\u001b[0m\u001b[0m\n\u001b[1;32m----> 5\u001b[1;33m     \u001b[0mrecords\u001b[0m\u001b[1;33m.\u001b[0m\u001b[0mappend\u001b[0m\u001b[1;33m(\u001b[0m\u001b[0mextract_record\u001b[0m\u001b[1;33m(\u001b[0m\u001b[0mitem\u001b[0m\u001b[1;33m)\u001b[0m\u001b[1;33m)\u001b[0m\u001b[1;33m\u001b[0m\u001b[1;33m\u001b[0m\u001b[0m\n\u001b[0m",
      "\u001b[1;32m<ipython-input-50-d62c890832c9>\u001b[0m in \u001b[0;36mextract_record\u001b[1;34m(item)\u001b[0m\n\u001b[0;32m      8\u001b[0m     \u001b[1;31m# price\u001b[0m\u001b[1;33m\u001b[0m\u001b[1;33m\u001b[0m\u001b[1;33m\u001b[0m\u001b[0m\n\u001b[0;32m      9\u001b[0m     \u001b[0mprice_parent\u001b[0m \u001b[1;33m=\u001b[0m \u001b[0mitem\u001b[0m\u001b[1;33m.\u001b[0m\u001b[0mfind\u001b[0m\u001b[1;33m(\u001b[0m\u001b[1;34m'span'\u001b[0m\u001b[1;33m,\u001b[0m\u001b[1;34m'a-price'\u001b[0m\u001b[1;33m)\u001b[0m\u001b[1;33m\u001b[0m\u001b[1;33m\u001b[0m\u001b[0m\n\u001b[1;32m---> 10\u001b[1;33m     \u001b[0mprice\u001b[0m \u001b[1;33m=\u001b[0m \u001b[0mprice_parent\u001b[0m\u001b[1;33m.\u001b[0m\u001b[0mfind\u001b[0m\u001b[1;33m(\u001b[0m\u001b[1;34m'span'\u001b[0m\u001b[1;33m,\u001b[0m\u001b[1;34m'a-offscreen'\u001b[0m\u001b[1;33m)\u001b[0m\u001b[1;33m.\u001b[0m\u001b[0mtext\u001b[0m\u001b[1;33m\u001b[0m\u001b[1;33m\u001b[0m\u001b[0m\n\u001b[0m\u001b[0;32m     11\u001b[0m \u001b[1;33m\u001b[0m\u001b[0m\n\u001b[0;32m     12\u001b[0m     \u001b[1;31m# rank and rating\u001b[0m\u001b[1;33m\u001b[0m\u001b[1;33m\u001b[0m\u001b[1;33m\u001b[0m\u001b[0m\n",
      "\u001b[1;31mAttributeError\u001b[0m: 'NoneType' object has no attribute 'find'"
     ]
    }
   ],
   "source": [
    "soup = BeautifulSoup(driver.page_source, 'html.parser')\n",
    "result = soup.find_all('div',{'data-component-type':'s-search-result'})\n",
    "\n",
    "records =[]\n",
    "\n",
    "for item in result:\n",
    "    records.append(extract_record(item))"
   ]
  },
  {
   "cell_type": "markdown",
   "metadata": {},
   "source": [
    "The reason why such 'AttributeError' appear is because that some item may not have price or rating etc. So, we need to modify the function further."
   ]
  },
  {
   "cell_type": "markdown",
   "metadata": {},
   "source": [
    "## Error Handling"
   ]
  },
  {
   "cell_type": "code",
   "execution_count": 134,
   "metadata": {},
   "outputs": [],
   "source": [
    "def extract_record(item):\n",
    "    \n",
    "    # description and url\n",
    "    atag = item.h2.a\n",
    "    description = atag.text.strip()\n",
    "    url = 'http://www.amazon.com' + atag.get('href')\n",
    "    \n",
    "    # price\n",
    "    try:\n",
    "        price_parent = item.find('span','a-price')\n",
    "        price = price_parent.find('span','a-offscreen').text\n",
    "    except AttributeError:\n",
    "        return\n",
    "    \n",
    "    # rank and rating\n",
    "    try:\n",
    "        rating = item.i.text\n",
    "        review_count = item.find('span',{'class':'a-size-base'}).text\n",
    "    except AttributeError:\n",
    "        rating = ''\n",
    "        review_count = ''\n",
    "    \n",
    "    result = (description, price, rating, review_count, url)\n",
    "    \n",
    "    return result"
   ]
  },
  {
   "cell_type": "code",
   "execution_count": 135,
   "metadata": {},
   "outputs": [],
   "source": [
    "soup = BeautifulSoup(driver.page_source, 'html.parser')\n",
    "result = soup.find_all('div',{'data-component-type':'s-search-result'})\n",
    "\n",
    "records =[]\n",
    "\n",
    "for item in result:\n",
    "    record = extract_record(item)\n",
    "    if record:\n",
    "        records.append(extract_record(item))"
   ]
  },
  {
   "cell_type": "code",
   "execution_count": 136,
   "metadata": {},
   "outputs": [
    {
     "data": {
      "text/plain": [
       "('Amazon Basics Classic Home Office Computer Desk With Shelves - 29.5 x 19.6 x 35.5 Inches, Black',\n",
       " '$64.21',\n",
       " '4.5 out of 5 stars',\n",
       " '6,897',\n",
       " 'http://www.amazon.com/gp/slredirect/picassoRedirect.html/ref=pa_sp_atf_aps_sr_pg1_1?ie=UTF8&adId=A0933660UYTL8OF3G24R&url=%2FAmazonBasics-Classic-Computer-Desk-Shelves%2Fdp%2FB07PVL2N3D%2Fref%3Dsr_1_1_sspa%3Fkeywords%3Dadjustable%2Bdesk%26qid%3D1641411006%26sr%3D8-1-spons%26psc%3D1&qualifier=1641411006&id=1985587025016585&widgetName=sp_atf')"
      ]
     },
     "execution_count": 136,
     "metadata": {},
     "output_type": "execute_result"
    }
   ],
   "source": [
    "# check one item\n",
    "records[0]"
   ]
  },
  {
   "cell_type": "code",
   "execution_count": 137,
   "metadata": {},
   "outputs": [
    {
     "name": "stdout",
     "output_type": "stream",
     "text": [
      "$64.21\n",
      "$299.87\n",
      "$259.99\n",
      "$239.99\n",
      "$239.99\n",
      "$259.99\n",
      "$219.99\n",
      "$249.99\n",
      "$299.87\n",
      "$275.99\n",
      "$429.99\n",
      "$579.99\n",
      "$199.99\n",
      "$264.74\n",
      "$679.00\n",
      "$249.99\n",
      "$111.51\n",
      "$249.99\n",
      "$239.99\n",
      "$179.99\n",
      "$118.97\n",
      "$189.79\n",
      "$399.99\n",
      "$109.99\n",
      "$309.99\n",
      "$249.99\n",
      "$269.99\n",
      "$284.99\n",
      "$199.99\n",
      "$109.99\n",
      "$264.74\n",
      "$259.99\n",
      "$118.97\n",
      "$309.99\n",
      "$299.99\n",
      "$159.99\n",
      "$278.17\n",
      "$179.99\n",
      "$179.99\n",
      "$269.99\n",
      "$249.99\n",
      "$69.99\n",
      "$259.99\n",
      "$229.99\n",
      "$69.99\n",
      "$289.99\n",
      "$269.99\n",
      "$99.99\n",
      "$499.99\n",
      "$349.99\n",
      "$237.99\n",
      "$219.99\n",
      "$254.99\n",
      "$299.99\n",
      "$359.99\n",
      "$369.99\n",
      "$359.00\n",
      "$299.99\n"
     ]
    }
   ],
   "source": [
    "#check all prices listed so far\n",
    "for item in records:\n",
    "    print(item[1])"
   ]
  },
  {
   "cell_type": "markdown",
   "metadata": {},
   "source": [
    "## Getting the next page"
   ]
  },
  {
   "cell_type": "code",
   "execution_count": 57,
   "metadata": {},
   "outputs": [],
   "source": [
    "def get_url(search_term):\n",
    "    \"\"\"Generate a url from search term\"\"\"\n",
    "    template = 'https://www.amazon.com/s?k={}&ref=nb_sb_ss_ts-doa-p_3_4'\n",
    "    search_term = search_term.replace(' ', '+')\n",
    "    \n",
    "    # add term query to url\n",
    "    url = template.formate(search_term)\n",
    "    \n",
    "    # add page query placeholder\n",
    "    url += '&page{}'\n",
    "    \n",
    "    return url"
   ]
  },
  {
   "cell_type": "markdown",
   "metadata": {},
   "source": [
    "## Putting all together"
   ]
  },
  {
   "cell_type": "code",
   "execution_count": 138,
   "metadata": {},
   "outputs": [],
   "source": [
    "import csv\n",
    "from bs4 import BeautifulSoup\n",
    "from selenium import webdriver\n",
    "\n",
    "\n",
    "def get_url(search_term):\n",
    "    \"\"\"Generate a url from search term\"\"\"\n",
    "    template = 'https://www.amazon.com/s?k={}&ref=nb_sb_ss_ts-doa-p_3_4'\n",
    "    search_term = search_term.replace(' ', '+')\n",
    "    \n",
    "    # add term query to url\n",
    "    url = template.format(search_term)\n",
    "    \n",
    "    # add page query placeholder\n",
    "    url += '&page{}'\n",
    "    \n",
    "    return url\n",
    "\n",
    "\n",
    "\n",
    "def extract_record(item):\n",
    "    \n",
    "    # description and url\n",
    "    atag = item.h2.a\n",
    "    description = atag.text.strip()\n",
    "    url = 'http://www.amazon.com' + atag.get('href')\n",
    "    \n",
    "    # price\n",
    "    try:\n",
    "        price_parent = item.find('span','a-price')\n",
    "        price = price_parent.find('span','a-offscreen').text\n",
    "    except AttributeError:\n",
    "        return\n",
    "    \n",
    "    # rank and rating\n",
    "    try:\n",
    "        rating = item.i.text\n",
    "        review_count = item.find('span',{'class':'a-size-base'}).text\n",
    "    except AttributeError:\n",
    "        rating = ''\n",
    "        review_count = ''\n",
    "    \n",
    "    result = (description, price, rating, review_count, url)\n",
    "    \n",
    "    return result\n",
    "\n",
    "\n",
    "def main(search_term):\n",
    "    \"\"\"Run main program routine\"\"\"\n",
    "    # startup the webdriver\n",
    "    driver = webdriver.Chrome()\n",
    "    \n",
    "    records = []\n",
    "    url = get_url(search_term)\n",
    "    \n",
    "    for page in range(1,51):\n",
    "        driver.get(url.format(page))\n",
    "        soup = BeautifulSoup(driver.page_source,'html.parser')\n",
    "        results = soup.find_all('div',{'data-component-type':'s-search-result'})\n",
    "        \n",
    "        for item in results:\n",
    "            record = extract_record(item)\n",
    "            if record:\n",
    "                records.append(record)\n",
    "    \n",
    "    driver.close()\n",
    "    \n",
    "    # save data to csv file\n",
    "    with open('result.csv', 'w', newline ='', encoding = 'utf-8') as f:\n",
    "        writer = csv.writer(f)\n",
    "        writer.writerow(['Description','Price','Rating','ReviewCount','url'])\n",
    "        writer.writerows(records)"
   ]
  },
  {
   "cell_type": "code",
   "execution_count": 140,
   "metadata": {},
   "outputs": [],
   "source": [
    "# Make a specific example\n",
    "main('adjustable desk')"
   ]
  },
  {
   "cell_type": "code",
   "execution_count": 236,
   "metadata": {},
   "outputs": [
    {
     "data": {
      "text/html": [
       "<div>\n",
       "<style scoped>\n",
       "    .dataframe tbody tr th:only-of-type {\n",
       "        vertical-align: middle;\n",
       "    }\n",
       "\n",
       "    .dataframe tbody tr th {\n",
       "        vertical-align: top;\n",
       "    }\n",
       "\n",
       "    .dataframe thead th {\n",
       "        text-align: right;\n",
       "    }\n",
       "</style>\n",
       "<table border=\"1\" class=\"dataframe\">\n",
       "  <thead>\n",
       "    <tr style=\"text-align: right;\">\n",
       "      <th></th>\n",
       "      <th>Description</th>\n",
       "      <th>Price</th>\n",
       "      <th>Rating</th>\n",
       "      <th>ReviewCount</th>\n",
       "      <th>url</th>\n",
       "    </tr>\n",
       "  </thead>\n",
       "  <tbody>\n",
       "    <tr>\n",
       "      <th>0</th>\n",
       "      <td>Amazon Basics Classic Home Office Computer Desk With Shelves - 29.5 x 19.6 x 35.5 Inches, Black</td>\n",
       "      <td>$64.21</td>\n",
       "      <td>4.5 out of 5 stars</td>\n",
       "      <td>6,897</td>\n",
       "      <td>http://www.amazon.com/gp/slredirect/picassoRedirect.html/ref=pa_sp_atf_aps_sr_pg1_1?ie=UTF8&amp;adId=A0933660UYTL8OF3G24R&amp;url=%2FAmazonBasics-Classic-Computer-Desk-Shelves%2Fdp%2FB07PVL2N3D%2Fref%3Dsr_1_1_sspa%3Fkeywords%3Dadjustable%2Bdesk%26qid%3D1641434075%26sr%3D8-1-spons%26psc%3D1&amp;qualifier=1641434075&amp;id=692511382098507&amp;widgetName=sp_atf</td>\n",
       "    </tr>\n",
       "    <tr>\n",
       "      <th>1</th>\n",
       "      <td>VIVO 60-inch Electric Height Adjustable 60 x 24 inch Stand Up Desk, White Solid One-Piece Table Top, White Frame Standing Workstation, Home &amp; Office Furniture Sets, DESK-KIT-W06W</td>\n",
       "      <td>$259.99</td>\n",
       "      <td>4.7 out of 5 stars</td>\n",
       "      <td>2,955</td>\n",
       "      <td>http://www.amazon.com/gp/slredirect/picassoRedirect.html/ref=pa_sp_atf_aps_sr_pg1_1?ie=UTF8&amp;adId=A07960728MBCCWN6NCDR&amp;url=%2FVIVO-Adjustable-Workstation-Controller-DESK-KIT-W06W%2Fdp%2FB0829FV8MT%2Fref%3Dsr_1_2_sspa%3Fkeywords%3Dadjustable%2Bdesk%26qid%3D1641434075%26sr%3D8-2-spons%26psc%3D1&amp;qualifier=1641434075&amp;id=692511382098507&amp;widgetName=sp_atf</td>\n",
       "    </tr>\n",
       "    <tr>\n",
       "      <th>2</th>\n",
       "      <td>Flexispot EC1 Electric White Standing Desk Adjustable Height Desk, 48 x 30 Inches Whole Piece Board Sit Stand Desk Home Office Workstation Stand up Desk (White Frame + 48 in White Top)</td>\n",
       "      <td>$239.99</td>\n",
       "      <td>4.6 out of 5 stars</td>\n",
       "      <td>5,103</td>\n",
       "      <td>http://www.amazon.com/gp/slredirect/picassoRedirect.html/ref=pa_sp_atf_aps_sr_pg1_1?ie=UTF8&amp;adId=A0549693201M1ED2ESKE6&amp;url=%2FFlexispot-EC1W-R4830W-Electric-Adjustable-Standing%2Fdp%2FB07W42DSG8%2Fref%3Dsr_1_3_sspa%3Fkeywords%3Dadjustable%2Bdesk%26qid%3D1641434075%26sr%3D8-3-spons%26psc%3D1&amp;qualifier=1641434075&amp;id=692511382098507&amp;widgetName=sp_atf</td>\n",
       "    </tr>\n",
       "    <tr>\n",
       "      <th>3</th>\n",
       "      <td>FAMISKY Dual Motor Adjustable Height Standing Desk, Electric Sit Stand Desk with Screen Panel, 48 x 24 Inches Stand up Desk, Home Office Desk with Greige Top and Black Frame</td>\n",
       "      <td>$304.99</td>\n",
       "      <td>4.6 out of 5 stars</td>\n",
       "      <td>115</td>\n",
       "      <td>http://www.amazon.com/gp/slredirect/picassoRedirect.html/ref=pa_sp_atf_aps_sr_pg1_1?ie=UTF8&amp;adId=A06067243O1B8FW9X9TKU&amp;url=%2FFAMISKY-Adjustable-Electric-Standing-Tabletop%2Fdp%2FB08HMSCBZV%2Fref%3Dsr_1_4_sspa%3Fkeywords%3Dadjustable%2Bdesk%26qid%3D1641434075%26sr%3D8-4-spons%26psc%3D1&amp;qualifier=1641434075&amp;id=692511382098507&amp;widgetName=sp_atf</td>\n",
       "    </tr>\n",
       "    <tr>\n",
       "      <th>4</th>\n",
       "      <td>Flexispot EC1 Electric White Standing Desk Adjustable Height Desk, 48 x 30 Inches Whole Piece Board Sit Stand Desk Home Office Workstation Stand up Desk (White Frame + 48 in White Top)</td>\n",
       "      <td>$239.99</td>\n",
       "      <td>4.6 out of 5 stars</td>\n",
       "      <td>5,103</td>\n",
       "      <td>http://www.amazon.com/Flexispot-EC1W-R4830W-Electric-Adjustable-Standing/dp/B07W42DSG8/ref=sr_1_5?keywords=adjustable+desk&amp;qid=1641434075&amp;sr=8-5</td>\n",
       "    </tr>\n",
       "  </tbody>\n",
       "</table>\n",
       "</div>"
      ],
      "text/plain": [
       "                                                                                                                                                                                Description  \\\n",
       "0                                                                                           Amazon Basics Classic Home Office Computer Desk With Shelves - 29.5 x 19.6 x 35.5 Inches, Black   \n",
       "1        VIVO 60-inch Electric Height Adjustable 60 x 24 inch Stand Up Desk, White Solid One-Piece Table Top, White Frame Standing Workstation, Home & Office Furniture Sets, DESK-KIT-W06W   \n",
       "2  Flexispot EC1 Electric White Standing Desk Adjustable Height Desk, 48 x 30 Inches Whole Piece Board Sit Stand Desk Home Office Workstation Stand up Desk (White Frame + 48 in White Top)   \n",
       "3             FAMISKY Dual Motor Adjustable Height Standing Desk, Electric Sit Stand Desk with Screen Panel, 48 x 24 Inches Stand up Desk, Home Office Desk with Greige Top and Black Frame   \n",
       "4  Flexispot EC1 Electric White Standing Desk Adjustable Height Desk, 48 x 30 Inches Whole Piece Board Sit Stand Desk Home Office Workstation Stand up Desk (White Frame + 48 in White Top)   \n",
       "\n",
       "     Price              Rating ReviewCount  \\\n",
       "0   $64.21  4.5 out of 5 stars       6,897   \n",
       "1  $259.99  4.7 out of 5 stars       2,955   \n",
       "2  $239.99  4.6 out of 5 stars       5,103   \n",
       "3  $304.99  4.6 out of 5 stars         115   \n",
       "4  $239.99  4.6 out of 5 stars       5,103   \n",
       "\n",
       "                                                                                                                                                                                                                                                                                                                                                              url  \n",
       "0            http://www.amazon.com/gp/slredirect/picassoRedirect.html/ref=pa_sp_atf_aps_sr_pg1_1?ie=UTF8&adId=A0933660UYTL8OF3G24R&url=%2FAmazonBasics-Classic-Computer-Desk-Shelves%2Fdp%2FB07PVL2N3D%2Fref%3Dsr_1_1_sspa%3Fkeywords%3Dadjustable%2Bdesk%26qid%3D1641434075%26sr%3D8-1-spons%26psc%3D1&qualifier=1641434075&id=692511382098507&widgetName=sp_atf  \n",
       "1  http://www.amazon.com/gp/slredirect/picassoRedirect.html/ref=pa_sp_atf_aps_sr_pg1_1?ie=UTF8&adId=A07960728MBCCWN6NCDR&url=%2FVIVO-Adjustable-Workstation-Controller-DESK-KIT-W06W%2Fdp%2FB0829FV8MT%2Fref%3Dsr_1_2_sspa%3Fkeywords%3Dadjustable%2Bdesk%26qid%3D1641434075%26sr%3D8-2-spons%26psc%3D1&qualifier=1641434075&id=692511382098507&widgetName=sp_atf  \n",
       "2   http://www.amazon.com/gp/slredirect/picassoRedirect.html/ref=pa_sp_atf_aps_sr_pg1_1?ie=UTF8&adId=A0549693201M1ED2ESKE6&url=%2FFlexispot-EC1W-R4830W-Electric-Adjustable-Standing%2Fdp%2FB07W42DSG8%2Fref%3Dsr_1_3_sspa%3Fkeywords%3Dadjustable%2Bdesk%26qid%3D1641434075%26sr%3D8-3-spons%26psc%3D1&qualifier=1641434075&id=692511382098507&widgetName=sp_atf  \n",
       "3        http://www.amazon.com/gp/slredirect/picassoRedirect.html/ref=pa_sp_atf_aps_sr_pg1_1?ie=UTF8&adId=A06067243O1B8FW9X9TKU&url=%2FFAMISKY-Adjustable-Electric-Standing-Tabletop%2Fdp%2FB08HMSCBZV%2Fref%3Dsr_1_4_sspa%3Fkeywords%3Dadjustable%2Bdesk%26qid%3D1641434075%26sr%3D8-4-spons%26psc%3D1&qualifier=1641434075&id=692511382098507&widgetName=sp_atf  \n",
       "4                                                                                                                                                                                                                http://www.amazon.com/Flexispot-EC1W-R4830W-Electric-Adjustable-Standing/dp/B07W42DSG8/ref=sr_1_5?keywords=adjustable+desk&qid=1641434075&sr=8-5  "
      ]
     },
     "execution_count": 236,
     "metadata": {},
     "output_type": "execute_result"
    }
   ],
   "source": [
    "# read the csv file and show the top 10 items\n",
    "import pandas as pd\n",
    "df = pd.read_csv('result.csv')\n",
    "df.head()"
   ]
  },
  {
   "cell_type": "code",
   "execution_count": 230,
   "metadata": {},
   "outputs": [
    {
     "data": {
      "text/plain": [
       "Description    object\n",
       "Price          object\n",
       "Rating         object\n",
       "ReviewCount    object\n",
       "url            object\n",
       "dtype: object"
      ]
     },
     "execution_count": 230,
     "metadata": {},
     "output_type": "execute_result"
    }
   ],
   "source": [
    "df.dtypes"
   ]
  },
  {
   "cell_type": "code",
   "execution_count": 231,
   "metadata": {},
   "outputs": [
    {
     "name": "stdout",
     "output_type": "stream",
     "text": [
      "<class 'pandas.core.frame.DataFrame'>\n",
      "RangeIndex: 2778 entries, 0 to 2777\n",
      "Data columns (total 5 columns):\n",
      " #   Column       Non-Null Count  Dtype \n",
      "---  ------       --------------  ----- \n",
      " 0   Description  2778 non-null   object\n",
      " 1   Price        2778 non-null   object\n",
      " 2   Rating       2778 non-null   object\n",
      " 3   ReviewCount  2778 non-null   object\n",
      " 4   url          2778 non-null   object\n",
      "dtypes: object(5)\n",
      "memory usage: 108.6+ KB\n"
     ]
    }
   ],
   "source": [
    "df.info()"
   ]
  },
  {
   "cell_type": "code",
   "execution_count": 232,
   "metadata": {},
   "outputs": [],
   "source": [
    "# define the dataframe\n",
    "df = pd.read_csv('result.csv')\n",
    "\n",
    "# only take the 'ReviewCount' >= 500\n",
    "df['ReviewCount'] = df['ReviewCount'].str.replace(',','').astype(int)\n",
    "df = df[df['ReviewCount']>=500 ]\n",
    "\n",
    "# sort the dataframe according to their rating and ReviewCount\n",
    "df['Rating'] = df['Rating'].str[:3]\n",
    "sorted_df = df.sort_values(['Rating','ReviewCount','Price'],ascending = (False,False,True))"
   ]
  },
  {
   "cell_type": "code",
   "execution_count": 239,
   "metadata": {},
   "outputs": [
    {
     "data": {
      "text/html": [
       "<div>\n",
       "<style scoped>\n",
       "    .dataframe tbody tr th:only-of-type {\n",
       "        vertical-align: middle;\n",
       "    }\n",
       "\n",
       "    .dataframe tbody tr th {\n",
       "        vertical-align: top;\n",
       "    }\n",
       "\n",
       "    .dataframe thead th {\n",
       "        text-align: right;\n",
       "    }\n",
       "</style>\n",
       "<table border=\"1\" class=\"dataframe\">\n",
       "  <thead>\n",
       "    <tr style=\"text-align: right;\">\n",
       "      <th></th>\n",
       "      <th>Description</th>\n",
       "      <th>Price</th>\n",
       "      <th>Rating</th>\n",
       "      <th>ReviewCount</th>\n",
       "      <th>url</th>\n",
       "    </tr>\n",
       "  </thead>\n",
       "  <tbody>\n",
       "    <tr>\n",
       "      <th>25</th>\n",
       "      <td>FLEXISPOT Standing Desk Converter 28 Inches Stand up Desk Riser, Height Adjustable Home Office Desk with Deep Keyboard Tray for Laptop (M7B)</td>\n",
       "      <td>$109.99</td>\n",
       "      <td>4.8</td>\n",
       "      <td>10790</td>\n",
       "      <td>http://www.amazon.com/FlexiSpot-Converter-Standing-Keyboard-M7B/dp/B0762K7JJT/ref=sr_1_26?keywords=adjustable+desk&amp;qid=1641434075&amp;sr=8-26</td>\n",
       "    </tr>\n",
       "    <tr>\n",
       "      <th>82</th>\n",
       "      <td>FLEXISPOT Standing Desk Converter 28 Inches Stand up Desk Riser, Height Adjustable Home Office Desk with Deep Keyboard Tray for Laptop (M7B)</td>\n",
       "      <td>$109.99</td>\n",
       "      <td>4.8</td>\n",
       "      <td>10790</td>\n",
       "      <td>http://www.amazon.com/FlexiSpot-Converter-Standing-Keyboard-M7B/dp/B0762K7JJT/ref=sr_1_26?keywords=adjustable+desk&amp;qid=1641434080&amp;sr=8-26</td>\n",
       "    </tr>\n",
       "    <tr>\n",
       "      <th>139</th>\n",
       "      <td>FLEXISPOT Standing Desk Converter 28 Inches Stand up Desk Riser, Height Adjustable Home Office Desk with Deep Keyboard Tray for Laptop (M7B)</td>\n",
       "      <td>$109.99</td>\n",
       "      <td>4.8</td>\n",
       "      <td>10790</td>\n",
       "      <td>http://www.amazon.com/FlexiSpot-Converter-Standing-Keyboard-M7B/dp/B0762K7JJT/ref=sr_1_26?keywords=adjustable+desk&amp;qid=1641434084&amp;sr=8-26</td>\n",
       "    </tr>\n",
       "    <tr>\n",
       "      <th>196</th>\n",
       "      <td>FLEXISPOT Standing Desk Converter 28 Inches Stand up Desk Riser, Height Adjustable Home Office Desk with Deep Keyboard Tray for Laptop (M7B)</td>\n",
       "      <td>$109.99</td>\n",
       "      <td>4.8</td>\n",
       "      <td>10790</td>\n",
       "      <td>http://www.amazon.com/FlexiSpot-Converter-Standing-Keyboard-M7B/dp/B0762K7JJT/ref=sr_1_26?keywords=adjustable+desk&amp;qid=1641434087&amp;sr=8-26</td>\n",
       "    </tr>\n",
       "    <tr>\n",
       "      <th>253</th>\n",
       "      <td>FLEXISPOT Standing Desk Converter 28 Inches Stand up Desk Riser, Height Adjustable Home Office Desk with Deep Keyboard Tray for Laptop (M7B)</td>\n",
       "      <td>$109.99</td>\n",
       "      <td>4.8</td>\n",
       "      <td>10790</td>\n",
       "      <td>http://www.amazon.com/FlexiSpot-Converter-Standing-Keyboard-M7B/dp/B0762K7JJT/ref=sr_1_26?keywords=adjustable+desk&amp;qid=1641434091&amp;sr=8-26</td>\n",
       "    </tr>\n",
       "    <tr>\n",
       "      <th>310</th>\n",
       "      <td>FLEXISPOT Standing Desk Converter 28 Inches Stand up Desk Riser, Height Adjustable Home Office Desk with Deep Keyboard Tray for Laptop (M7B)</td>\n",
       "      <td>$109.99</td>\n",
       "      <td>4.8</td>\n",
       "      <td>10790</td>\n",
       "      <td>http://www.amazon.com/FlexiSpot-Converter-Standing-Keyboard-M7B/dp/B0762K7JJT/ref=sr_1_26?keywords=adjustable+desk&amp;qid=1641434093&amp;sr=8-26</td>\n",
       "    </tr>\n",
       "    <tr>\n",
       "      <th>367</th>\n",
       "      <td>FLEXISPOT Standing Desk Converter 28 Inches Stand up Desk Riser, Height Adjustable Home Office Desk with Deep Keyboard Tray for Laptop (M7B)</td>\n",
       "      <td>$109.99</td>\n",
       "      <td>4.8</td>\n",
       "      <td>10790</td>\n",
       "      <td>http://www.amazon.com/FlexiSpot-Converter-Standing-Keyboard-M7B/dp/B0762K7JJT/ref=sr_1_26?keywords=adjustable+desk&amp;qid=1641434097&amp;sr=8-26</td>\n",
       "    </tr>\n",
       "    <tr>\n",
       "      <th>424</th>\n",
       "      <td>FLEXISPOT Standing Desk Converter 28 Inches Stand up Desk Riser, Height Adjustable Home Office Desk with Deep Keyboard Tray for Laptop (M7B)</td>\n",
       "      <td>$109.99</td>\n",
       "      <td>4.8</td>\n",
       "      <td>10790</td>\n",
       "      <td>http://www.amazon.com/FlexiSpot-Converter-Standing-Keyboard-M7B/dp/B0762K7JJT/ref=sr_1_26?keywords=adjustable+desk&amp;qid=1641434100&amp;sr=8-26</td>\n",
       "    </tr>\n",
       "    <tr>\n",
       "      <th>474</th>\n",
       "      <td>FLEXISPOT Standing Desk Converter 28 Inches Stand up Desk Riser, Height Adjustable Home Office Desk with Deep Keyboard Tray for Laptop (M7B)</td>\n",
       "      <td>$109.99</td>\n",
       "      <td>4.8</td>\n",
       "      <td>10790</td>\n",
       "      <td>http://www.amazon.com/FlexiSpot-Converter-Standing-Keyboard-M7B/dp/B0762K7JJT/ref=sr_1_19?keywords=adjustable+desk&amp;qid=1641434103&amp;sr=8-19</td>\n",
       "    </tr>\n",
       "    <tr>\n",
       "      <th>526</th>\n",
       "      <td>FLEXISPOT Standing Desk Converter 28 Inches Stand up Desk Riser, Height Adjustable Home Office Desk with Deep Keyboard Tray for Laptop (M7B)</td>\n",
       "      <td>$109.99</td>\n",
       "      <td>4.8</td>\n",
       "      <td>10790</td>\n",
       "      <td>http://www.amazon.com/FlexiSpot-Converter-Standing-Keyboard-M7B/dp/B0762K7JJT/ref=sr_1_26?keywords=adjustable+desk&amp;qid=1641434106&amp;sr=8-26</td>\n",
       "    </tr>\n",
       "  </tbody>\n",
       "</table>\n",
       "</div>"
      ],
      "text/plain": [
       "                                                                                                                                      Description  \\\n",
       "25   FLEXISPOT Standing Desk Converter 28 Inches Stand up Desk Riser, Height Adjustable Home Office Desk with Deep Keyboard Tray for Laptop (M7B)   \n",
       "82   FLEXISPOT Standing Desk Converter 28 Inches Stand up Desk Riser, Height Adjustable Home Office Desk with Deep Keyboard Tray for Laptop (M7B)   \n",
       "139  FLEXISPOT Standing Desk Converter 28 Inches Stand up Desk Riser, Height Adjustable Home Office Desk with Deep Keyboard Tray for Laptop (M7B)   \n",
       "196  FLEXISPOT Standing Desk Converter 28 Inches Stand up Desk Riser, Height Adjustable Home Office Desk with Deep Keyboard Tray for Laptop (M7B)   \n",
       "253  FLEXISPOT Standing Desk Converter 28 Inches Stand up Desk Riser, Height Adjustable Home Office Desk with Deep Keyboard Tray for Laptop (M7B)   \n",
       "310  FLEXISPOT Standing Desk Converter 28 Inches Stand up Desk Riser, Height Adjustable Home Office Desk with Deep Keyboard Tray for Laptop (M7B)   \n",
       "367  FLEXISPOT Standing Desk Converter 28 Inches Stand up Desk Riser, Height Adjustable Home Office Desk with Deep Keyboard Tray for Laptop (M7B)   \n",
       "424  FLEXISPOT Standing Desk Converter 28 Inches Stand up Desk Riser, Height Adjustable Home Office Desk with Deep Keyboard Tray for Laptop (M7B)   \n",
       "474  FLEXISPOT Standing Desk Converter 28 Inches Stand up Desk Riser, Height Adjustable Home Office Desk with Deep Keyboard Tray for Laptop (M7B)   \n",
       "526  FLEXISPOT Standing Desk Converter 28 Inches Stand up Desk Riser, Height Adjustable Home Office Desk with Deep Keyboard Tray for Laptop (M7B)   \n",
       "\n",
       "       Price Rating  ReviewCount  \\\n",
       "25   $109.99    4.8        10790   \n",
       "82   $109.99    4.8        10790   \n",
       "139  $109.99    4.8        10790   \n",
       "196  $109.99    4.8        10790   \n",
       "253  $109.99    4.8        10790   \n",
       "310  $109.99    4.8        10790   \n",
       "367  $109.99    4.8        10790   \n",
       "424  $109.99    4.8        10790   \n",
       "474  $109.99    4.8        10790   \n",
       "526  $109.99    4.8        10790   \n",
       "\n",
       "                                                                                                                                           url  \n",
       "25   http://www.amazon.com/FlexiSpot-Converter-Standing-Keyboard-M7B/dp/B0762K7JJT/ref=sr_1_26?keywords=adjustable+desk&qid=1641434075&sr=8-26  \n",
       "82   http://www.amazon.com/FlexiSpot-Converter-Standing-Keyboard-M7B/dp/B0762K7JJT/ref=sr_1_26?keywords=adjustable+desk&qid=1641434080&sr=8-26  \n",
       "139  http://www.amazon.com/FlexiSpot-Converter-Standing-Keyboard-M7B/dp/B0762K7JJT/ref=sr_1_26?keywords=adjustable+desk&qid=1641434084&sr=8-26  \n",
       "196  http://www.amazon.com/FlexiSpot-Converter-Standing-Keyboard-M7B/dp/B0762K7JJT/ref=sr_1_26?keywords=adjustable+desk&qid=1641434087&sr=8-26  \n",
       "253  http://www.amazon.com/FlexiSpot-Converter-Standing-Keyboard-M7B/dp/B0762K7JJT/ref=sr_1_26?keywords=adjustable+desk&qid=1641434091&sr=8-26  \n",
       "310  http://www.amazon.com/FlexiSpot-Converter-Standing-Keyboard-M7B/dp/B0762K7JJT/ref=sr_1_26?keywords=adjustable+desk&qid=1641434093&sr=8-26  \n",
       "367  http://www.amazon.com/FlexiSpot-Converter-Standing-Keyboard-M7B/dp/B0762K7JJT/ref=sr_1_26?keywords=adjustable+desk&qid=1641434097&sr=8-26  \n",
       "424  http://www.amazon.com/FlexiSpot-Converter-Standing-Keyboard-M7B/dp/B0762K7JJT/ref=sr_1_26?keywords=adjustable+desk&qid=1641434100&sr=8-26  \n",
       "474  http://www.amazon.com/FlexiSpot-Converter-Standing-Keyboard-M7B/dp/B0762K7JJT/ref=sr_1_19?keywords=adjustable+desk&qid=1641434103&sr=8-19  \n",
       "526  http://www.amazon.com/FlexiSpot-Converter-Standing-Keyboard-M7B/dp/B0762K7JJT/ref=sr_1_26?keywords=adjustable+desk&qid=1641434106&sr=8-26  "
      ]
     },
     "execution_count": 239,
     "metadata": {},
     "output_type": "execute_result"
    }
   ],
   "source": [
    "pd.set_option('display.max_colwidth',None)\n",
    "sorted_df.head(10)"
   ]
  },
  {
   "cell_type": "code",
   "execution_count": null,
   "metadata": {},
   "outputs": [],
   "source": []
  }
 ],
 "metadata": {
  "kernelspec": {
   "display_name": "Python 3",
   "language": "python",
   "name": "python3"
  },
  "language_info": {
   "codemirror_mode": {
    "name": "ipython",
    "version": 3
   },
   "file_extension": ".py",
   "mimetype": "text/x-python",
   "name": "python",
   "nbconvert_exporter": "python",
   "pygments_lexer": "ipython3",
   "version": "3.8.3"
  }
 },
 "nbformat": 4,
 "nbformat_minor": 4
}
