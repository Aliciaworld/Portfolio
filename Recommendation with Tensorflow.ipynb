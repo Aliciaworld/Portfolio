{
 "cells": [
  {
   "cell_type": "markdown",
   "id": "b08d9b21",
   "metadata": {},
   "source": [
    "### Collaborative Filtering\n",
    "Collaborative filtering is a recommendation approach based on filtering out items that a user might prefer on the basis of the **reactions of users with similar preferences**.\n",
    "\n",
    "The primary asumption of the collaborative filtering is that the users who have agreed in the past tend to agree \n",
    "in the future.\n",
    "\n",
    "#### Sub-approaches in Collaborative Filtering\n",
    "1) Memory based\n",
    "\n",
    "Memory-based approach is based on **finding similar users** using a selected measure(e,g.,cosine similarity or Pearson correlation) and taking a weighed average of rating.\n",
    "\n",
    "Pro and Con\n",
    "\n",
    "It is easy to build and more interpretable, but does not perform well when the data is limited.\n",
    "\n",
    "2) Model based\n",
    "\n",
    "The model based approach utilizes **machine learning** to predict expected user ratings of **unrated** items.(The following case used this approach)\n",
    "\n",
    "Pro and con\n",
    "\n",
    "It is hard to interprete but it is more effective when the avaiable data is limited.\n",
    "\n",
    "#### Data Collection in Collaborative Filtering\n",
    "Collaborative filtering is based on users' historical data, so we need to collect data about the users' feedbacks and preferences. \n",
    "1) Explicit Data Collection\n",
    "Explicit data collection comprises of all data that the user **directly provides** to the system.\n",
    "- user's rate on an item\n",
    "- user's item ranking(inside a collection from most favorite to least favorite)\n",
    "- user's selection between two or more items\n",
    "- user's list of favorate items\n",
    "\n",
    "\n",
    "2) Implicit Data Collection\n",
    "Implicit data collection is based on a user's observable behaviors, which can be within the system as well outside of the systems.\n",
    "- records of items that user purchased online\n",
    "- websites that a user visited\n",
    "- user's viewed items list\n",
    "- user's social network engagements"
   ]
  },
  {
   "cell_type": "markdown",
   "id": "eeb44096",
   "metadata": {},
   "source": [
    "### Content-Based Filtering\n",
    "Content refers to the content or attributes of the items that the user engages with. In the content-based filtering approach, **items are categoried**, and based on the user's limited feedback, the system recommends new items belonging to the categories the user likes.\n",
    "\n",
    "For content-based filtering, **both items and users are tagged with keywords** to categorize them. Items are tagged **based on their attributions**, whereas to tag users, a dedicated model is designed to create user profiles **based on their interaction with the recommender system**. A vector space representation algorithm(eg. **tf-idf**) is used to abstract the features of the items. "
   ]
  },
  {
   "cell_type": "markdown",
   "id": "9259f104",
   "metadata": {},
   "source": [
    "### Case - Deep Collaborative Filtering with MovieLens Dataset"
   ]
  },
  {
   "cell_type": "markdown",
   "id": "632a5786",
   "metadata": {},
   "source": [
    "### 1. Initial Imports"
   ]
  },
  {
   "cell_type": "code",
   "execution_count": 4,
   "id": "67aea87a",
   "metadata": {},
   "outputs": [],
   "source": [
    "# to build and train out model and make predictions\n",
    "import tensorflow as tf\n",
    "\n",
    "# to unzip the zip file\n",
    "from zipfile import ZipFile\n",
    "\n",
    "import pandas as pd\n",
    "import numpy as np\n",
    "from sklearn.model_selection import train_test_split\n",
    "\n",
    "# to import the embedding layer from Tensorflow\n",
    "from tensorflow.keras.layers import Embedding\n",
    "\n",
    "# to download the dataset from the external URL\n",
    "from tensorflow.keras.utils import get_file"
   ]
  },
  {
   "cell_type": "markdown",
   "id": "217c7837",
   "metadata": {},
   "source": [
    "### 2. Loading the Data"
   ]
  },
  {
   "cell_type": "code",
   "execution_count": 46,
   "id": "74ae5a5f",
   "metadata": {},
   "outputs": [
    {
     "data": {
      "text/html": [
       "<div>\n",
       "<style scoped>\n",
       "    .dataframe tbody tr th:only-of-type {\n",
       "        vertical-align: middle;\n",
       "    }\n",
       "\n",
       "    .dataframe tbody tr th {\n",
       "        vertical-align: top;\n",
       "    }\n",
       "\n",
       "    .dataframe thead th {\n",
       "        text-align: right;\n",
       "    }\n",
       "</style>\n",
       "<table border=\"1\" class=\"dataframe\">\n",
       "  <thead>\n",
       "    <tr style=\"text-align: right;\">\n",
       "      <th></th>\n",
       "      <th>userId</th>\n",
       "      <th>movieId</th>\n",
       "      <th>rating</th>\n",
       "      <th>timestamp</th>\n",
       "    </tr>\n",
       "  </thead>\n",
       "  <tbody>\n",
       "    <tr>\n",
       "      <th>0</th>\n",
       "      <td>1</td>\n",
       "      <td>1</td>\n",
       "      <td>4.0</td>\n",
       "      <td>964982703</td>\n",
       "    </tr>\n",
       "    <tr>\n",
       "      <th>1</th>\n",
       "      <td>1</td>\n",
       "      <td>3</td>\n",
       "      <td>4.0</td>\n",
       "      <td>964981247</td>\n",
       "    </tr>\n",
       "    <tr>\n",
       "      <th>2</th>\n",
       "      <td>1</td>\n",
       "      <td>6</td>\n",
       "      <td>4.0</td>\n",
       "      <td>964982224</td>\n",
       "    </tr>\n",
       "    <tr>\n",
       "      <th>3</th>\n",
       "      <td>1</td>\n",
       "      <td>47</td>\n",
       "      <td>5.0</td>\n",
       "      <td>964983815</td>\n",
       "    </tr>\n",
       "    <tr>\n",
       "      <th>4</th>\n",
       "      <td>1</td>\n",
       "      <td>50</td>\n",
       "      <td>5.0</td>\n",
       "      <td>964982931</td>\n",
       "    </tr>\n",
       "  </tbody>\n",
       "</table>\n",
       "</div>"
      ],
      "text/plain": [
       "   userId  movieId  rating  timestamp\n",
       "0       1        1     4.0  964982703\n",
       "1       1        3     4.0  964981247\n",
       "2       1        6     4.0  964982224\n",
       "3       1       47     5.0  964983815\n",
       "4       1       50     5.0  964982931"
      ]
     },
     "execution_count": 46,
     "metadata": {},
     "output_type": "execute_result"
    }
   ],
   "source": [
    "# Use the url to open the 'rating.csv' file\n",
    "\n",
    "url = 'http://files.grouplens.org/datasets/movielens/ml-latest-small.zip'\n",
    "movielens_path = get_file('movielens.zip',url,extract = True)\n",
    "\n",
    "\"\"\"extract = True means extract the file as an archive, like zip\"\"\"\n",
    "\n",
    "with ZipFile(movielens_path) as z:\n",
    "    with z.open(\"ml-latest-small/ratings.csv\") as f:\n",
    "        df = pd.read_csv(f)\n",
    "\n",
    "df.head()"
   ]
  },
  {
   "cell_type": "markdown",
   "id": "36e9e5dc",
   "metadata": {},
   "source": [
    "### 3. Processing the Data"
   ]
  },
  {
   "cell_type": "markdown",
   "id": "be0746d1",
   "metadata": {},
   "source": [
    "#### 3.1 processing userIds"
   ]
  },
  {
   "cell_type": "code",
   "execution_count": 47,
   "id": "3a3142a0",
   "metadata": {},
   "outputs": [],
   "source": [
    "user_ids = df['userId'].unique().tolist()\n",
    "user2encoder = {x:i for i, x in enumerate(user_ids)}\n",
    "encoder2user = {i:x for i, x in enumerate(user_ids)}\n",
    "df['user'] = df['userId'].map(user2encoder)\n",
    "num_users = len(user2encoder)"
   ]
  },
  {
   "cell_type": "markdown",
   "id": "43209a4a",
   "metadata": {},
   "source": [
    "#### 3.2 processing Movie IDs"
   ]
  },
  {
   "cell_type": "code",
   "execution_count": 48,
   "id": "83c1109f",
   "metadata": {},
   "outputs": [],
   "source": [
    "movie_ids = df['movieId'].unique().tolist()\n",
    "movie2encoder = {x:i for i, x in enumerate(movie_ids)}\n",
    "encoder2movie = {i:x for i, x in enumerate(movie_ids)}\n",
    "df['movie'] = df['movieId'].map(movie2encoder)\n",
    "num_movies = len(movie2encoder)"
   ]
  },
  {
   "cell_type": "markdown",
   "id": "efb6cdae",
   "metadata": {},
   "source": [
    "#### 3.3 Processing the Ratings"
   ]
  },
  {
   "cell_type": "markdown",
   "id": "6e996edf",
   "metadata": {},
   "source": [
    "For the rating, we normalize them for computational efficiency and the reliability of the model. Herein, we did Minmax normalization."
   ]
  },
  {
   "cell_type": "code",
   "execution_count": 49,
   "id": "ca145ddb",
   "metadata": {},
   "outputs": [],
   "source": [
    "min, max = df['rating'].min(), df['rating'].max()\n",
    "df['rating'] = df['rating'].apply(lambda x: (x - min)/ (max - min))"
   ]
  },
  {
   "cell_type": "code",
   "execution_count": 50,
   "id": "f0b5288f",
   "metadata": {},
   "outputs": [
    {
     "data": {
      "text/html": [
       "<div>\n",
       "<style scoped>\n",
       "    .dataframe tbody tr th:only-of-type {\n",
       "        vertical-align: middle;\n",
       "    }\n",
       "\n",
       "    .dataframe tbody tr th {\n",
       "        vertical-align: top;\n",
       "    }\n",
       "\n",
       "    .dataframe thead th {\n",
       "        text-align: right;\n",
       "    }\n",
       "</style>\n",
       "<table border=\"1\" class=\"dataframe\">\n",
       "  <thead>\n",
       "    <tr style=\"text-align: right;\">\n",
       "      <th></th>\n",
       "      <th>userId</th>\n",
       "      <th>movieId</th>\n",
       "      <th>rating</th>\n",
       "      <th>timestamp</th>\n",
       "      <th>user</th>\n",
       "      <th>movie</th>\n",
       "    </tr>\n",
       "  </thead>\n",
       "  <tbody>\n",
       "    <tr>\n",
       "      <th>0</th>\n",
       "      <td>1</td>\n",
       "      <td>1</td>\n",
       "      <td>0.777778</td>\n",
       "      <td>964982703</td>\n",
       "      <td>0</td>\n",
       "      <td>0</td>\n",
       "    </tr>\n",
       "    <tr>\n",
       "      <th>1</th>\n",
       "      <td>1</td>\n",
       "      <td>3</td>\n",
       "      <td>0.777778</td>\n",
       "      <td>964981247</td>\n",
       "      <td>0</td>\n",
       "      <td>1</td>\n",
       "    </tr>\n",
       "    <tr>\n",
       "      <th>2</th>\n",
       "      <td>1</td>\n",
       "      <td>6</td>\n",
       "      <td>0.777778</td>\n",
       "      <td>964982224</td>\n",
       "      <td>0</td>\n",
       "      <td>2</td>\n",
       "    </tr>\n",
       "    <tr>\n",
       "      <th>3</th>\n",
       "      <td>1</td>\n",
       "      <td>47</td>\n",
       "      <td>1.000000</td>\n",
       "      <td>964983815</td>\n",
       "      <td>0</td>\n",
       "      <td>3</td>\n",
       "    </tr>\n",
       "    <tr>\n",
       "      <th>4</th>\n",
       "      <td>1</td>\n",
       "      <td>50</td>\n",
       "      <td>1.000000</td>\n",
       "      <td>964982931</td>\n",
       "      <td>0</td>\n",
       "      <td>4</td>\n",
       "    </tr>\n",
       "  </tbody>\n",
       "</table>\n",
       "</div>"
      ],
      "text/plain": [
       "   userId  movieId    rating  timestamp  user  movie\n",
       "0       1        1  0.777778  964982703     0      0\n",
       "1       1        3  0.777778  964981247     0      1\n",
       "2       1        6  0.777778  964982224     0      2\n",
       "3       1       47  1.000000  964983815     0      3\n",
       "4       1       50  1.000000  964982931     0      4"
      ]
     },
     "execution_count": 50,
     "metadata": {},
     "output_type": "execute_result"
    }
   ],
   "source": [
    "df.head()"
   ]
  },
  {
   "cell_type": "markdown",
   "id": "e8ed1865",
   "metadata": {},
   "source": [
    "### 4. Splitting the Dataset"
   ]
  },
  {
   "cell_type": "code",
   "execution_count": 51,
   "id": "4736d383",
   "metadata": {},
   "outputs": [
    {
     "name": "stdout",
     "output_type": "stream",
     "text": [
      "Shape of the x_train:  (90752, 2)\n",
      "Shape of the y_train:  (90752,)\n",
      "Shape of the x_val:  (10084, 2)\n",
      "Shape of the y_val: (10084,)\n"
     ]
    }
   ],
   "source": [
    "# choose features\n",
    "x = df[['user','movie']].values\n",
    "y = df['rating'].values\n",
    "\n",
    "# train and validation split\n",
    "x_train, x_val, y_train, y_val = train_test_split(x,y,test_size = 0.1, random_state = 42)\n",
    "print('Shape of the x_train: ', x_train.shape)\n",
    "print('Shape of the y_train: ', y_train.shape)\n",
    "print('Shape of the x_val: ', x_val.shape)\n",
    "print('Shape of the y_val:', y_val.shape)"
   ]
  },
  {
   "cell_type": "markdown",
   "id": "7fe1460a",
   "metadata": {},
   "source": [
    "### 5. Building the Model"
   ]
  },
  {
   "cell_type": "markdown",
   "id": "1e86da18",
   "metadata": {},
   "source": [
    "Just a simple recap: In tensorflow, there are three ways to build model: 1) Sequential API; 2) Functional API; and 3) Model Subclassing. The last one is very powerful and fully customerizable. Here we will use the last one."
   ]
  },
  {
   "cell_type": "code",
   "execution_count": 97,
   "id": "a53d834e",
   "metadata": {},
   "outputs": [],
   "source": [
    "class RecommenderNet(tf.keras.Model):\n",
    "    #__init function is to initialize the values of instance, and define the layers    \n",
    "    def __init__(self, num_users, num_movies, embedding_size, **kwargs):\n",
    "        # super function is used to call the parent constructor(tf.keras.Model)\n",
    "        super(RecommenderNet, self).__init__(**kwargs)\n",
    "        \n",
    "        # variable for embedding size\n",
    "        self.embedding_size = embedding_size\n",
    "        \n",
    "        # variable for user count, and related weights and biases\n",
    "        self.num_users = num_users\n",
    "        # tf.keras.layers.Embedding() can only be used as the first layer in a model\n",
    "        self.user_embedding = Embedding(num_users, embedding_size, \n",
    "                                        embeddings_initializer='he_normal',\n",
    "                                        embeddings_regularizer = tf.keras.regularizers.l2(1e-6))\n",
    "        self.user_bias = Embedding(num_users,1)\n",
    "        \n",
    "        # variables for movie count, and realted weights and biases\n",
    "        self.num_movies = num_movies\n",
    "        self.movie_embedding = Embedding(num_movies, embedding_size,\n",
    "                                        embeddings_initializer = 'he_normal',\n",
    "                                        embeddings_regularizer = tf.keras.regularizers.l2(16-6))\n",
    "        self.movie_bias = Embedding(num_users, 1)\n",
    "    \n",
    "    # call function is where the operations are defined after layers are indifned in the __init__\n",
    "    # call function accept the inputs, feeds them into the layers and final sigmoid layer\n",
    "    def call(self,inputs):\n",
    "        user_vector = self.user_embedding(inputs[:,0])\n",
    "        user_bias = self.user_bias(inputs[:,0])\n",
    "        \n",
    "        movie_vector = self.movie_embedding(inputs[:,0])\n",
    "        movie_bias = self.movie_bias(inputs[:,0])\n",
    "        \n",
    "        dot_user_movie = tf.tensordot(user_vector, movie_vector, 2)\n",
    "        x = dot_user_movie + user_bias + movie_bias\n",
    "        \n",
    "        # The sigmoid activation forces the rating to between 0 and 1\n",
    "        return tf.nn.sigmoid(x)\n",
    "        \n",
    "model = RecommenderNet(num_users, num_movies, embedding_size = 50)      "
   ]
  },
  {
   "cell_type": "markdown",
   "id": "31f781de",
   "metadata": {},
   "source": [
    "### 6. Compile and Train the Model"
   ]
  },
  {
   "cell_type": "code",
   "execution_count": 98,
   "id": "7bf12431",
   "metadata": {},
   "outputs": [],
   "source": [
    "model.compile(loss = 'mse',optimizer = tf.keras.optimizers.Adam(learning_rate = 0.001))"
   ]
  },
  {
   "cell_type": "code",
   "execution_count": 99,
   "id": "ae162fa0",
   "metadata": {},
   "outputs": [
    {
     "name": "stdout",
     "output_type": "stream",
     "text": [
      "Epoch 1/5\n",
      "1418/1418 [==============================] - 14s 9ms/step - loss: 5.7850 - val_loss: 0.0541\n",
      "Epoch 2/5\n",
      "1418/1418 [==============================] - 12s 8ms/step - loss: 0.0499 - val_loss: 0.0493\n",
      "Epoch 3/5\n",
      "1418/1418 [==============================] - 13s 9ms/step - loss: 0.0470 - val_loss: 0.0484\n",
      "Epoch 4/5\n",
      "1418/1418 [==============================] - 13s 9ms/step - loss: 0.0455 - val_loss: 0.0466\n",
      "Epoch 5/5\n",
      "1418/1418 [==============================] - 14s 10ms/step - loss: 0.0448 - val_loss: 0.0465\n"
     ]
    }
   ],
   "source": [
    "history = model.fit(x=x_train, y=y_train, batch_size = 64, epochs = 5, verbose =1, validation_data = (x_val,y_val))"
   ]
  },
  {
   "cell_type": "markdown",
   "id": "fe951368",
   "metadata": {},
   "source": [
    "### 7. Make Recommendations"
   ]
  },
  {
   "cell_type": "code",
   "execution_count": 100,
   "id": "278b8840",
   "metadata": {},
   "outputs": [
    {
     "name": "stdout",
     "output_type": "stream",
     "text": [
      "The selected user ID is:  490\n"
     ]
    }
   ],
   "source": [
    "# Randomly pick a user ID\n",
    "user_id = df['userId'].sample(2).iloc[0]\n",
    "print('The selected user ID is: ', user_id)"
   ]
  },
  {
   "cell_type": "code",
   "execution_count": 101,
   "id": "b2048128",
   "metadata": {},
   "outputs": [
    {
     "name": "stdout",
     "output_type": "stream",
     "text": [
      "The number of movies the user has not seen before:  9611\n"
     ]
    }
   ],
   "source": [
    "# filter out the movies the user watched before\n",
    "movies_watched = df[df['userId'] == user_id]\n",
    "\n",
    "# filter out the movies the user not watched and corresponding encoder\n",
    "not_watched = df[~df['movieId'].isin(movies_watched['movieId'].values)]['movieId'].unique()\n",
    "\n",
    "not_watched_encoder = [[movie2encoder.get(x)] for x in not_watched]\n",
    "\n",
    "print('The number of movies the user has not seen before: ', len(not_watched))"
   ]
  },
  {
   "cell_type": "code",
   "execution_count": 102,
   "id": "5126a6f1",
   "metadata": {},
   "outputs": [
    {
     "name": "stdout",
     "output_type": "stream",
     "text": [
      "not_watched_encoder:  [[1], [2], [3], [4], [5]]\n",
      "take one from not_watched_encoder:  [2]\n",
      "not_watched_encoder[1][0]:  2\n"
     ]
    }
   ],
   "source": [
    "# to understand the result of each step\n",
    "print(\"not_watched_encoder: \", not_watched_encoder[:5])\n",
    "\n",
    "print('take one from not_watched_encoder: ', not_watched_encoder[1])\n",
    "\n",
    "print('not_watched_encoder[1][0]: ', not_watched_encoder[1][0])"
   ]
  },
  {
   "cell_type": "code",
   "execution_count": 103,
   "id": "c3d55af8",
   "metadata": {},
   "outputs": [
    {
     "data": {
      "text/plain": [
       "array([[ 489,    1],\n",
       "       [ 489,    2],\n",
       "       [ 489,    3],\n",
       "       ...,\n",
       "       [ 489, 9721],\n",
       "       [ 489, 9722],\n",
       "       [ 489, 9723]])"
      ]
     },
     "execution_count": 103,
     "metadata": {},
     "output_type": "execute_result"
    }
   ],
   "source": [
    "user_encoder = user2encoder.get(user_id)\n",
    "\n",
    "user_movie_array = np.hstack(([[user_encoder]]*len(not_watched), not_watched_encoder))\n",
    "\n",
    "user_movie_array"
   ]
  },
  {
   "cell_type": "code",
   "execution_count": 111,
   "id": "7fc017cd",
   "metadata": {},
   "outputs": [
    {
     "data": {
      "text/plain": [
       "array([0.58840495, 0.58840495, 0.58840495, ..., 0.5884053 , 0.5884053 ,\n",
       "       0.5884053 ], dtype=float32)"
      ]
     },
     "execution_count": 111,
     "metadata": {},
     "output_type": "execute_result"
    }
   ],
   "source": [
    "# use the model.predict() functions to generate the predicted movie ratings\n",
    "ratings = model.predict(user_movie_array).flatten()\n",
    "ratings"
   ]
  },
  {
   "cell_type": "code",
   "execution_count": 123,
   "id": "25009150",
   "metadata": {},
   "outputs": [
    {
     "data": {
      "text/plain": [
       "[163981,\n",
       " 152372,\n",
       " 147657,\n",
       " 147662,\n",
       " 148166,\n",
       " 149011,\n",
       " 163937,\n",
       " 158721,\n",
       " 160527,\n",
       " 160836]"
      ]
     },
     "execution_count": 123,
     "metadata": {},
     "output_type": "execute_result"
    }
   ],
   "source": [
    "# Tope 10 ratings\n",
    "top10_indices = ratings.argsort()[-10:][::-1]\n",
    "\n",
    "# convert our assigned movie ID to their original movieId\n",
    "recommended_movie_ids = [encoder2movie.get(not_watched_encoder[x][0]) for x in top10_indices]\n",
    "recommended_movie_ids"
   ]
  },
  {
   "cell_type": "code",
   "execution_count": 117,
   "id": "fe57eb10",
   "metadata": {},
   "outputs": [
    {
     "data": {
      "text/html": [
       "<div>\n",
       "<style scoped>\n",
       "    .dataframe tbody tr th:only-of-type {\n",
       "        vertical-align: middle;\n",
       "    }\n",
       "\n",
       "    .dataframe tbody tr th {\n",
       "        vertical-align: top;\n",
       "    }\n",
       "\n",
       "    .dataframe thead th {\n",
       "        text-align: right;\n",
       "    }\n",
       "</style>\n",
       "<table border=\"1\" class=\"dataframe\">\n",
       "  <thead>\n",
       "    <tr style=\"text-align: right;\">\n",
       "      <th></th>\n",
       "      <th>movieId</th>\n",
       "      <th>title</th>\n",
       "      <th>genres</th>\n",
       "    </tr>\n",
       "  </thead>\n",
       "  <tbody>\n",
       "    <tr>\n",
       "      <th>0</th>\n",
       "      <td>1</td>\n",
       "      <td>Toy Story (1995)</td>\n",
       "      <td>Adventure|Animation|Children|Comedy|Fantasy</td>\n",
       "    </tr>\n",
       "    <tr>\n",
       "      <th>1</th>\n",
       "      <td>2</td>\n",
       "      <td>Jumanji (1995)</td>\n",
       "      <td>Adventure|Children|Fantasy</td>\n",
       "    </tr>\n",
       "    <tr>\n",
       "      <th>2</th>\n",
       "      <td>3</td>\n",
       "      <td>Grumpier Old Men (1995)</td>\n",
       "      <td>Comedy|Romance</td>\n",
       "    </tr>\n",
       "    <tr>\n",
       "      <th>3</th>\n",
       "      <td>4</td>\n",
       "      <td>Waiting to Exhale (1995)</td>\n",
       "      <td>Comedy|Drama|Romance</td>\n",
       "    </tr>\n",
       "    <tr>\n",
       "      <th>4</th>\n",
       "      <td>5</td>\n",
       "      <td>Father of the Bride Part II (1995)</td>\n",
       "      <td>Comedy</td>\n",
       "    </tr>\n",
       "  </tbody>\n",
       "</table>\n",
       "</div>"
      ],
      "text/plain": [
       "   movieId                               title  \\\n",
       "0        1                    Toy Story (1995)   \n",
       "1        2                      Jumanji (1995)   \n",
       "2        3             Grumpier Old Men (1995)   \n",
       "3        4            Waiting to Exhale (1995)   \n",
       "4        5  Father of the Bride Part II (1995)   \n",
       "\n",
       "                                        genres  \n",
       "0  Adventure|Animation|Children|Comedy|Fantasy  \n",
       "1                   Adventure|Children|Fantasy  \n",
       "2                               Comedy|Romance  \n",
       "3                         Comedy|Drama|Romance  \n",
       "4                                       Comedy  "
      ]
     },
     "execution_count": 117,
     "metadata": {},
     "output_type": "execute_result"
    }
   ],
   "source": [
    "# load another dataset to connect the movieId with its name\n",
    "with ZipFile(movielens_path) as z:\n",
    "    with z.open('ml-latest-small/movies.csv') as f:\n",
    "        movie_df = pd.read_csv(f)\n",
    "movie_df.head()"
   ]
  },
  {
   "cell_type": "code",
   "execution_count": 118,
   "id": "0b0f9c68",
   "metadata": {},
   "outputs": [
    {
     "data": {
      "text/plain": [
       "array([ 6669,   306,   307,  1251,  4144, 78499,  4226, 79132,  2571,\n",
       "        7361], dtype=int64)"
      ]
     },
     "execution_count": 118,
     "metadata": {},
     "output_type": "execute_result"
    }
   ],
   "source": [
    "# top 10 movie watched, get the id first\n",
    "top_watched_movieId = (movies_watched.sort_values(by = 'rating', ascending = False).head(10)['movieId'].values)\n",
    "top_watched_movieId"
   ]
  },
  {
   "cell_type": "code",
   "execution_count": 119,
   "id": "c66d9872",
   "metadata": {},
   "outputs": [
    {
     "data": {
      "text/html": [
       "<div>\n",
       "<style scoped>\n",
       "    .dataframe tbody tr th:only-of-type {\n",
       "        vertical-align: middle;\n",
       "    }\n",
       "\n",
       "    .dataframe tbody tr th {\n",
       "        vertical-align: top;\n",
       "    }\n",
       "\n",
       "    .dataframe thead th {\n",
       "        text-align: right;\n",
       "    }\n",
       "</style>\n",
       "<table border=\"1\" class=\"dataframe\">\n",
       "  <thead>\n",
       "    <tr style=\"text-align: right;\">\n",
       "      <th></th>\n",
       "      <th>movieId</th>\n",
       "      <th>title</th>\n",
       "      <th>genres</th>\n",
       "    </tr>\n",
       "  </thead>\n",
       "  <tbody>\n",
       "    <tr>\n",
       "      <th>266</th>\n",
       "      <td>306</td>\n",
       "      <td>Three Colors: Red (Trois couleurs: Rouge) (1994)</td>\n",
       "      <td>Drama</td>\n",
       "    </tr>\n",
       "    <tr>\n",
       "      <th>267</th>\n",
       "      <td>307</td>\n",
       "      <td>Three Colors: Blue (Trois couleurs: Bleu) (1993)</td>\n",
       "      <td>Drama</td>\n",
       "    </tr>\n",
       "    <tr>\n",
       "      <th>950</th>\n",
       "      <td>1251</td>\n",
       "      <td>8 1/2 (8½) (1963)</td>\n",
       "      <td>Drama|Fantasy</td>\n",
       "    </tr>\n",
       "    <tr>\n",
       "      <th>1939</th>\n",
       "      <td>2571</td>\n",
       "      <td>Matrix, The (1999)</td>\n",
       "      <td>Action|Sci-Fi|Thriller</td>\n",
       "    </tr>\n",
       "    <tr>\n",
       "      <th>3087</th>\n",
       "      <td>4144</td>\n",
       "      <td>In the Mood For Love (Fa yeung nin wa) (2000)</td>\n",
       "      <td>Drama|Romance</td>\n",
       "    </tr>\n",
       "    <tr>\n",
       "      <th>3141</th>\n",
       "      <td>4226</td>\n",
       "      <td>Memento (2000)</td>\n",
       "      <td>Mystery|Thriller</td>\n",
       "    </tr>\n",
       "    <tr>\n",
       "      <th>4507</th>\n",
       "      <td>6669</td>\n",
       "      <td>Ikiru (1952)</td>\n",
       "      <td>Drama</td>\n",
       "    </tr>\n",
       "    <tr>\n",
       "      <th>4909</th>\n",
       "      <td>7361</td>\n",
       "      <td>Eternal Sunshine of the Spotless Mind (2004)</td>\n",
       "      <td>Drama|Romance|Sci-Fi</td>\n",
       "    </tr>\n",
       "    <tr>\n",
       "      <th>7355</th>\n",
       "      <td>78499</td>\n",
       "      <td>Toy Story 3 (2010)</td>\n",
       "      <td>Adventure|Animation|Children|Comedy|Fantasy|IMAX</td>\n",
       "    </tr>\n",
       "    <tr>\n",
       "      <th>7372</th>\n",
       "      <td>79132</td>\n",
       "      <td>Inception (2010)</td>\n",
       "      <td>Action|Crime|Drama|Mystery|Sci-Fi|Thriller|IMAX</td>\n",
       "    </tr>\n",
       "  </tbody>\n",
       "</table>\n",
       "</div>"
      ],
      "text/plain": [
       "      movieId                                             title  \\\n",
       "266       306  Three Colors: Red (Trois couleurs: Rouge) (1994)   \n",
       "267       307  Three Colors: Blue (Trois couleurs: Bleu) (1993)   \n",
       "950      1251                                 8 1/2 (8½) (1963)   \n",
       "1939     2571                                Matrix, The (1999)   \n",
       "3087     4144     In the Mood For Love (Fa yeung nin wa) (2000)   \n",
       "3141     4226                                    Memento (2000)   \n",
       "4507     6669                                      Ikiru (1952)   \n",
       "4909     7361      Eternal Sunshine of the Spotless Mind (2004)   \n",
       "7355    78499                                Toy Story 3 (2010)   \n",
       "7372    79132                                  Inception (2010)   \n",
       "\n",
       "                                                genres  \n",
       "266                                              Drama  \n",
       "267                                              Drama  \n",
       "950                                      Drama|Fantasy  \n",
       "1939                            Action|Sci-Fi|Thriller  \n",
       "3087                                     Drama|Romance  \n",
       "3141                                  Mystery|Thriller  \n",
       "4507                                             Drama  \n",
       "4909                              Drama|Romance|Sci-Fi  \n",
       "7355  Adventure|Animation|Children|Comedy|Fantasy|IMAX  \n",
       "7372   Action|Crime|Drama|Mystery|Sci-Fi|Thriller|IMAX  "
      ]
     },
     "execution_count": 119,
     "metadata": {},
     "output_type": "execute_result"
    }
   ],
   "source": [
    "# connect the top 10 watched movie id to their names\n",
    "top_watched_movieinfo = movie_df[movie_df['movieId'].isin(top_watched_movieId)]\n",
    "top_watched_movieinfo"
   ]
  },
  {
   "cell_type": "code",
   "execution_count": 125,
   "id": "63c5632a",
   "metadata": {},
   "outputs": [
    {
     "data": {
      "text/html": [
       "<div>\n",
       "<style scoped>\n",
       "    .dataframe tbody tr th:only-of-type {\n",
       "        vertical-align: middle;\n",
       "    }\n",
       "\n",
       "    .dataframe tbody tr th {\n",
       "        vertical-align: top;\n",
       "    }\n",
       "\n",
       "    .dataframe thead th {\n",
       "        text-align: right;\n",
       "    }\n",
       "</style>\n",
       "<table border=\"1\" class=\"dataframe\">\n",
       "  <thead>\n",
       "    <tr style=\"text-align: right;\">\n",
       "      <th></th>\n",
       "      <th>title</th>\n",
       "      <th>genres</th>\n",
       "    </tr>\n",
       "  </thead>\n",
       "  <tbody>\n",
       "    <tr>\n",
       "      <th>9153</th>\n",
       "      <td>Masked Avengers (1981)</td>\n",
       "      <td>Action</td>\n",
       "    </tr>\n",
       "    <tr>\n",
       "      <th>9154</th>\n",
       "      <td>Return of the One-Armed Swordsman (1969)</td>\n",
       "      <td>Action|Adventure</td>\n",
       "    </tr>\n",
       "    <tr>\n",
       "      <th>9156</th>\n",
       "      <td>Hitchcock/Truffaut (2015)</td>\n",
       "      <td>Documentary</td>\n",
       "    </tr>\n",
       "    <tr>\n",
       "      <th>9175</th>\n",
       "      <td>He Never Died (2015)</td>\n",
       "      <td>Comedy|Drama|Horror</td>\n",
       "    </tr>\n",
       "    <tr>\n",
       "      <th>9231</th>\n",
       "      <td>Southbound (2016)</td>\n",
       "      <td>Horror</td>\n",
       "    </tr>\n",
       "    <tr>\n",
       "      <th>9292</th>\n",
       "      <td>Gen-X Cops (1999)</td>\n",
       "      <td>Action|Comedy|Thriller</td>\n",
       "    </tr>\n",
       "    <tr>\n",
       "      <th>9330</th>\n",
       "      <td>Sympathy for the Underdog (1971)</td>\n",
       "      <td>Action|Crime|Drama</td>\n",
       "    </tr>\n",
       "    <tr>\n",
       "      <th>9342</th>\n",
       "      <td>Hazard (2005)</td>\n",
       "      <td>Action|Drama|Thriller</td>\n",
       "    </tr>\n",
       "    <tr>\n",
       "      <th>9389</th>\n",
       "      <td>Blair Witch (2016)</td>\n",
       "      <td>Horror|Thriller</td>\n",
       "    </tr>\n",
       "    <tr>\n",
       "      <th>9390</th>\n",
       "      <td>31 (2016)</td>\n",
       "      <td>Horror</td>\n",
       "    </tr>\n",
       "  </tbody>\n",
       "</table>\n",
       "</div>"
      ],
      "text/plain": [
       "                                         title                  genres\n",
       "9153                    Masked Avengers (1981)                  Action\n",
       "9154  Return of the One-Armed Swordsman (1969)        Action|Adventure\n",
       "9156                 Hitchcock/Truffaut (2015)             Documentary\n",
       "9175                      He Never Died (2015)     Comedy|Drama|Horror\n",
       "9231                         Southbound (2016)                  Horror\n",
       "9292                         Gen-X Cops (1999)  Action|Comedy|Thriller\n",
       "9330          Sympathy for the Underdog (1971)      Action|Crime|Drama\n",
       "9342                             Hazard (2005)   Action|Drama|Thriller\n",
       "9389                        Blair Witch (2016)         Horror|Thriller\n",
       "9390                                 31 (2016)                  Horror"
      ]
     },
     "execution_count": 125,
     "metadata": {},
     "output_type": "execute_result"
    }
   ],
   "source": [
    "# top 10 movies the collaborative filtering model would recommend the user \n",
    "recommended_movies = movie_df[movie_df['movieId'].isin(recommended_movie_ids)][['title','genres']]\n",
    "recommended_movies"
   ]
  },
  {
   "cell_type": "markdown",
   "id": "10f07fb0",
   "metadata": {},
   "source": [
    "-- Great Job! End! --"
   ]
  },
  {
   "cell_type": "markdown",
   "id": "89969b45",
   "metadata": {},
   "source": [
    "### Complentary Reading"
   ]
  },
  {
   "cell_type": "markdown",
   "id": "ee4b0d1c",
   "metadata": {},
   "source": [
    "### Similarity\n",
    "You have 2 vectors x and y and want to measure similarity between them. A basic similarity function is the **inner product**---If x tends to be high where y is also high, and low where y is low, **the inner product** will be **high**, then the **vectors** are **more similar**.\n",
    "\n",
    "However, the inner product is unbounded. One way to make it **bounded between -1 to 1** is to divide by the vectors, giving **cosine similarity**. Cosine similarity is actully bounded between 0 and 1 if x and y are non-negative. It can also be interpreted as the cosine of the angle between two vectors. \n",
    "\n",
    "But cosine similarity is not invariant to shifts. If x was shifted to x+1, the cosine similarity would change. So, that's why **Pearson correlation** come out. Pearson Correlation is the cosine similarity between centered versions of x and y, again bounded between -1 and 1. Unlike the cosine, the correlation is invariant to both scale and location changes of x and y.\n",
    "\n",
    "Summary: Cosine similarity is normalized inner product. Pearson correlation is centered cosine similarity.\n",
    "\n",
    "ref:https://brenocon.com/blog/2012/03/cosine-similarity-pearson-correlation-and-ols-coefficients/"
   ]
  },
  {
   "cell_type": "markdown",
   "id": "2acc51d2",
   "metadata": {},
   "source": [
    "### Batch and Epoch\n",
    "**Batch** is a hyperparameter that defines the number of samples to work through before updating the model parameters.\n",
    "- Batch Gradient Descent: Batch size = size of training set\n",
    "- Stochastic Gradient Descent: Batch size = 1\n",
    "- Mini-Batch Gradient Descent: 1 < Batch Size < Size of training set\n",
    "\n",
    "\n",
    "**Epoch** is a hyperparameter that defines the number times that the learning algorithm will work through the **entire training dataset**. The number of epochs is traditionally large, often hundreds or thousands, allowing the learning algorithm to run until the error from the model has been sufficiently minimized.\n",
    "\n",
    "**Example**\n",
    "\n",
    "Assume you have a dataset with 200 samples (rows of data) and you choose a batch size of 5 and 1,000 epochs.\n",
    "\n",
    "This means that the dataset will be divided into 40 batches, each with five samples. The model weights will be updated after each batch of five samples.\n",
    "\n",
    "This also means that one epoch will involve 40 batches or 40 updates to the model.\n",
    "\n",
    "With 1,000 epochs, the model will be exposed to or pass through the whole dataset 1,000 times. That is a total of 40,000 batches during the entire training process."
   ]
  },
  {
   "cell_type": "code",
   "execution_count": null,
   "id": "7d476c7e",
   "metadata": {},
   "outputs": [],
   "source": []
  }
 ],
 "metadata": {
  "kernelspec": {
   "display_name": "Python 3 (ipykernel)",
   "language": "python",
   "name": "python3"
  },
  "language_info": {
   "codemirror_mode": {
    "name": "ipython",
    "version": 3
   },
   "file_extension": ".py",
   "mimetype": "text/x-python",
   "name": "python",
   "nbconvert_exporter": "python",
   "pygments_lexer": "ipython3",
   "version": "3.8.11"
  }
 },
 "nbformat": 4,
 "nbformat_minor": 5
}
