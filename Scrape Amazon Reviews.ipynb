{
 "cells": [
  {
   "cell_type": "markdown",
   "metadata": {},
   "source": [
    "# Scrape Amazon Reviews"
   ]
  },
  {
   "cell_type": "code",
   "execution_count": 67,
   "metadata": {},
   "outputs": [],
   "source": [
    "from selenium import webdriver\n",
    "\n",
    "# BeautifulSoup converts the contents of a page into a proper format\n",
    "from bs4 import BeautifulSoup\n",
    "\n",
    "import csv"
   ]
  },
  {
   "cell_type": "code",
   "execution_count": 32,
   "metadata": {},
   "outputs": [],
   "source": [
    "url = 'https://www.amazon.com/Flexispot-Electric-Height-Adjustable-Standing/product-reviews/B0813MN98G/ref=cm_cr_arp_d_paging_btm_next_2?ie=UTF8&reviewerType=all_reviews&pageNumber=1'\n",
    "\n",
    "driver = webdriver.Chrome()\n",
    "driver.get(url)"
   ]
  },
  {
   "cell_type": "code",
   "execution_count": 33,
   "metadata": {},
   "outputs": [],
   "source": [
    "soup = BeautifulSoup(driver.page_source, 'html.parser')\n",
    "\n",
    "result = soup.find_all('div',{'data-hook':'review'})"
   ]
  },
  {
   "cell_type": "code",
   "execution_count": 35,
   "metadata": {},
   "outputs": [
    {
     "data": {
      "text/plain": [
       "<div class=\"a-section review aok-relative\" data-hook=\"review\" id=\"ROM3I9WFCN84X\"><div class=\"a-row a-spacing-none\" id=\"ROM3I9WFCN84X-review-card\"><div class=\"a-section celwidget\" data-cel-widget=\"customer_review-ROM3I9WFCN84X\" data-csa-c-id=\"i11qe2-7m8dqw-r93v66-v9d33h\" id=\"customer_review-ROM3I9WFCN84X\"><div class=\"a-row a-spacing-mini\" data-hook=\"genome-widget\"><a class=\"a-profile\" data-a-size=\"small\" href=\"/gp/profile/amzn1.account.AF3ICHIOM7QGFBRLMKFG3M7YBKPA/ref=cm_cr_arp_d_gw_btm?ie=UTF8\"><div aria-hidden=\"true\" class=\"a-profile-avatar-wrapper\"><div class=\"a-profile-avatar\"><img class=\"a-lazy-loaded\" data-src=\"https://images-na.ssl-images-amazon.com/images/S/amazon-avatars-global/5b337b2f-3586-4fcb-b6ff-1a7be5f57c0e._CR0,0,368,368_SX48_.jpg\" src=\"https://images-na.ssl-images-amazon.com/images/G/01/x-locale/common/grey-pixel.gif\"/><noscript><img src=\"https://images-na.ssl-images-amazon.com/images/S/amazon-avatars-global/5b337b2f-3586-4fcb-b6ff-1a7be5f57c0e._CR0,0,368,368_SX48_.jpg\"/></noscript></div></div><div class=\"a-profile-content\"><span class=\"a-profile-name\">Ibrahim Merie</span></div></a></div><div class=\"a-row\"><a class=\"a-link-normal\" href=\"/gp/customer-reviews/ROM3I9WFCN84X/ref=cm_cr_arp_d_rvw_ttl?ie=UTF8&amp;ASIN=B0813MN98G\" title=\"5.0 out of 5 stars\"><i class=\"a-icon a-icon-star a-star-5 review-rating\" data-hook=\"review-star-rating\"><span class=\"a-icon-alt\">5.0 out of 5 stars</span></i></a><span class=\"a-letter-space\"></span><a class=\"a-size-base a-link-normal review-title a-color-base review-title-content a-text-bold\" data-hook=\"review-title\" href=\"/gp/customer-reviews/ROM3I9WFCN84X/ref=cm_cr_arp_d_rvw_ttl?ie=UTF8&amp;ASIN=B0813MN98G\">\n",
       "<span>Some tradeoffs, but overall a great desk</span>\n",
       "</a></div><span class=\"a-size-base a-color-secondary review-date\" data-hook=\"review-date\">Reviewed in the United States on July 16, 2020</span><div class=\"a-row a-spacing-mini review-data review-format-strip\"><a class=\"a-size-mini a-link-normal a-color-secondary\" data-hook=\"format-strip\" href=\"/Flexispot-Electric-Height-Adjustable-Standing/product-reviews/B07W42DSG8/ref=cm_cr_arp_d_rvw_fmt?ie=UTF8&amp;formatType=current_format\">Size: 48x30\"<i aria-label=\"|\" class=\"a-icon a-icon-text-separator\" role=\"img\"></i>Color: White</a><i aria-label=\"|\" class=\"a-icon a-icon-text-separator\" role=\"img\"></i><span class=\"a-declarative\" data-action=\"reviews:filter-action:push-state\" data-csa-c-func-deps=\"aui-da-reviews:filter-action:push-state\" data-csa-c-id=\"lemw0n-pk3lyf-pwatt4-i2vkvy\" data-csa-c-type=\"widget\" data-reviews:filter-action:push-state=\"{}\"><a class=\"a-link-normal\" data-reftag=\"cm_cr_arp_d_rvw_rvwer\" data-reviews-state-param='{\"pageNumber\":\"1\",\"reviewerType\":\"avp_only_reviews\"}' href=\"/Flexispot-Electric-Height-Adjustable-Standing/product-reviews/B0813MN98G/ref=cm_cr_arp_d_rvw_rvwer?ie=UTF8&amp;reviewerType=avp_only_reviews\"><span class=\"a-size-mini a-color-state a-text-bold\" data-hook=\"avp-badge\">Verified Purchase</span></a></span></div><div class=\"a-row a-spacing-small review-data\"><span class=\"a-size-base review-text review-text-content\" data-hook=\"review-body\">\n",
       "<span>\n",
       "  Built pretty well and tall enough for a 6'0'' person.<br/>This desk has dramatically improved my computer intensive lifestyle.<br/>It's great value but there are trade offs at this price point.<br/>Firstly, the legs must start at the same height to avoid a crooked desk. If you happened to offset the heights of the legs during assembly, the instructions won't help you fix it at all. This is how to do it. Assemble the entire desk with the exception of the transmission rod. Plug the desk into your wall socket. Adjust the height of the motorized leg to its lowest setting by simply pressing the down button (use the motor). Next, insert the transmission rod only into the non-motorized leg. Clamp an adjustable wrench onto the transmission rod (hexagonal part) and manually crank the leg to its lowest setting. Next connect the transmission rod to both legs and test it out.<br/>Secondly, the four threaded holes that allow the center beam to bolt to the legs are tapped at an angle slightly off from 90 degrees. This means that fastening the four bolts in this assembly is not possible without breaking some threads (which I was forced to do on one bolt). Maybe a lock nut is a better idea here.<br/>Lastly, the quality of the paint is not great and it will fade relatively quickly.\n",
       "</span>\n",
       "</span></div><div class=\"a-row review-comments comments-for-ROM3I9WFCN84X\"><div class=\"a-row a-expander-container a-expander-inline-container cr-vote-action-bar\" data-a-expander-name=\"review_comment_expander\" data-reftag=\"cm_cr_arp_d_cmt_opn\"><span class=\"cr-vote\" data-hook=\"review-voting-widget\">\n",
       "<div class=\"a-row a-spacing-small\"><span class=\"a-size-base a-color-tertiary cr-vote-text\" data-hook=\"helpful-vote-statement\">308 people found this helpful</span></div><div class=\"cr-helpful-button aok-float-left\">\n",
       "<span class=\"a-button a-button-base\" id=\"a-autoid-9\"><span class=\"a-button-inner\"><a class=\"a-button-text\" data-hook=\"vote-helpful-button\" href=\"https://www.amazon.com/ap/signin?openid.return_to=https%3A%2F%2Fwww.amazon.com%2FFlexispot-Electric-Height-Adjustable-Standing%2Fproduct-reviews%2FB0813MN98G%2Fref%3Dcm_cr_arp_d_vote_lft%3Fie%3DUTF8%26reviewerType%3Dall_reviews%26csrfT%3DglqW1hbjQu8uS0%252BQbTOkaycAI4kBxa0adc9glacAAAABAAAAAGHW7QlyYXcAAAAA%252B4kUEk%252F7iMGR3xPcX6iU%26reviewId%3DROM3I9WFCN84X&amp;openid.identity=http%3A%2F%2Fspecs.openid.net%2Fauth%2F2.0%2Fidentifier_select&amp;openid.claimed_id=http%3A%2F%2Fspecs.openid.net%2Fauth%2F2.0%2Fidentifier_select&amp;openid.assoc_handle=usflex&amp;openid.mode=checkid_setup&amp;openid.ns=http%3A%2F%2Fspecs.openid.net%2Fauth%2F2.0\" id=\"a-autoid-9-announce\"><div class=\"cr-helpful-text\">\n",
       "          Helpful</div>\n",
       "</a></span></span></div>\n",
       "</span><span class=\"cr-footer-line-height\">\n",
       "<span><i aria-label=\"|\" class=\"a-icon a-icon-text-separator\" role=\"img\"></i><span class=\"a-declarative\" data-action=\"cr-popup\" data-cr-popup='{\"width\":\"580\",\"title\":\"ReportAbuse\",\"url\":\"/hz/reviews-render/report-review?ie=UTF8&amp;ref=cm_cr_arp_d_rvw_hlp&amp;csrfT=glqW1hbjQu8uS0%2BQbTOkaycAI4kBxa0adc9glacAAAABAAAAAGHW7QlyYXcAAAAA%2B4kUEk%2F7iMGR3xPcX6iU&amp;reviewId=ROM3I9WFCN84X\",\"height\":\"380\"}' data-csa-c-func-deps=\"aui-da-cr-popup\" data-csa-c-id=\"84ri0v-6rr8mx-wcd336-ukl057\" data-csa-c-type=\"widget\"><a class=\"a-size-base a-link-normal a-color-secondary report-abuse-link a-text-normal\" href=\"/hz/reviews-render/report-review?ie=UTF8&amp;ref=cm_cr_arp_d_rvw_hlp&amp;csrfT=glqW1hbjQu8uS0%2BQbTOkaycAI4kBxa0adc9glacAAAABAAAAAGHW7QlyYXcAAAAA%2B4kUEk%2F7iMGR3xPcX6iU&amp;reviewId=ROM3I9WFCN84X\">Report abuse</a></span></span></span>\n",
       "<div aria-expanded=\"false\" class=\"a-expander-content a-spacing-top-base a-spacing-large a-expander-inline-content a-expander-inner\" style=\"display:none\"><div class=\"a-row a-spacing-mini review-comments-header aok-hidden\"><ul class=\"a-viewoptions-list a-viewoptions-section a-span12\">\n",
       "<div class=\"a-row a-spacing-none a-grid-vertical-align a-grid-center\"><div class=\"a-column a-span6\"><span class=\"a-size-base a-viewoptions-list-label\">Showing <span class=\"review-comment-count\">0</span> comments</span></div></div></ul>\n",
       "</div><div class=\"a-section a-spacing-extra-large a-spacing-top-medium a-text-center comment-load-error aok-hidden\"><div class=\"a-box a-alert a-alert-error cr-error\" role=\"alert\"><div class=\"a-box-inner a-alert-container\"><h4 class=\"a-alert-heading\">There was a problem loading comments right now. Please try again later.</h4><i class=\"a-icon a-icon-alert\"></i><div class=\"a-alert-content\"></div></div></div></div><div class=\"a-section a-spacing-none review-comments\"></div><div class=\"a-spinner-wrapper comment-loading aok-hidden a-spacing-top-medium a-spacing-extra-large\"><span class=\"a-spinner a-spinner-medium\"></span></div><hr aria-hidden=\"true\" class=\"a-spacing-none a-spacing-top-large a-divider-normal\"/></div></div></div></div></div></div>"
      ]
     },
     "execution_count": 35,
     "metadata": {},
     "output_type": "execute_result"
    }
   ],
   "source": [
    "item = result[0]\n",
    "item"
   ]
  },
  {
   "cell_type": "code",
   "execution_count": 36,
   "metadata": {},
   "outputs": [
    {
     "data": {
      "text/plain": [
       "'5.0 out of 5 stars'"
      ]
     },
     "execution_count": 36,
     "metadata": {},
     "output_type": "execute_result"
    }
   ],
   "source": [
    "item.find('span',{'class':'a-icon-alt'}).text"
   ]
  },
  {
   "cell_type": "code",
   "execution_count": 56,
   "metadata": {},
   "outputs": [
    {
     "data": {
      "text/plain": [
       "'Some tradeoffs, but overall a great desk'"
      ]
     },
     "execution_count": 56,
     "metadata": {},
     "output_type": "execute_result"
    }
   ],
   "source": [
    "item.find('a',{'data-hook':'review-title'}).text.strip()"
   ]
  },
  {
   "cell_type": "code",
   "execution_count": 38,
   "metadata": {},
   "outputs": [
    {
     "data": {
      "text/plain": [
       "'Reviewed in the United States on July 16, 2020'"
      ]
     },
     "execution_count": 38,
     "metadata": {},
     "output_type": "execute_result"
    }
   ],
   "source": [
    "item.find('span',{'data-hook':'review-date'}).text"
   ]
  },
  {
   "cell_type": "code",
   "execution_count": 40,
   "metadata": {},
   "outputs": [
    {
     "data": {
      "text/plain": [
       "\"Built pretty well and tall enough for a 6'0'' person.This desk has dramatically improved my computer intensive lifestyle.It's great value but there are trade offs at this price point.Firstly, the legs must start at the same height to avoid a crooked desk. If you happened to offset the heights of the legs during assembly, the instructions won't help you fix it at all. This is how to do it. Assemble the entire desk with the exception of the transmission rod. Plug the desk into your wall socket. Adjust the height of the motorized leg to its lowest setting by simply pressing the down button (use the motor). Next, insert the transmission rod only into the non-motorized leg. Clamp an adjustable wrench onto the transmission rod (hexagonal part) and manually crank the leg to its lowest setting. Next connect the transmission rod to both legs and test it out.Secondly, the four threaded holes that allow the center beam to bolt to the legs are tapped at an angle slightly off from 90 degrees. This means that fastening the four bolts in this assembly is not possible without breaking some threads (which I was forced to do on one bolt). Maybe a lock nut is a better idea here.Lastly, the quality of the paint is not great and it will fade relatively quickly.\""
      ]
     },
     "execution_count": 40,
     "metadata": {},
     "output_type": "execute_result"
    }
   ],
   "source": [
    "item.find('span',{'data-hook':'review-body'}).text.strip()"
   ]
  },
  {
   "cell_type": "code",
   "execution_count": 61,
   "metadata": {},
   "outputs": [],
   "source": [
    "def extract_record(item):\n",
    "    \n",
    "    # rating\n",
    "    try:\n",
    "        rating = item.find('span',{'class':'a-icon-alt'}).text\n",
    "    except AttributeError:\n",
    "        rating = ''\n",
    "    \n",
    "    # review_title\n",
    "    try:\n",
    "        review_title = item.find('a',{'data-hook':'review-title'}).text.strip()    \n",
    "    except AttributeError:\n",
    "        review_title = ''   \n",
    "    \n",
    "    #review_date\n",
    "    review_date = item.find('span',{'data-hook':'review-date'}).text\n",
    "    \n",
    "    #review_content \n",
    "    try:\n",
    "        review_content = item.find('span',{'data-hook':'review-body'}).text.strip()  \n",
    "    except AttributeError:\n",
    "        review_content = ''   \n",
    "        \n",
    "    result = (rating, review_title, review_date, review_content)\n",
    "    \n",
    "    return result"
   ]
  },
  {
   "cell_type": "code",
   "execution_count": 68,
   "metadata": {},
   "outputs": [],
   "source": [
    "def main(base_url):\n",
    "    \n",
    "    \n",
    "    driver = webdriver.Chrome()\n",
    "    records = []\n",
    "    \n",
    "    for page in range(1,51):\n",
    "        url = base_url + str(page)\n",
    "        driver.get(url)\n",
    "        soup = BeautifulSoup(driver.page_source, 'html.parser')\n",
    "        results = soup.find_all('div',{'data-hook':'review'})\n",
    "\n",
    "        for item in results:\n",
    "            record = extract_record(item)\n",
    "            if record:\n",
    "                records.append(record)\n",
    "    \n",
    "    driver.close()\n",
    "    with open('review_result.csv', 'w', newline ='', encoding = 'utf-8') as f:\n",
    "        writer = csv.writer(f)\n",
    "        writer.writerow(['Rating','Review_title','Review_date','Review_content'])\n",
    "        writer.writerows(records)    \n"
   ]
  },
  {
   "cell_type": "code",
   "execution_count": 69,
   "metadata": {},
   "outputs": [],
   "source": [
    "main('https://www.amazon.com/Flexispot-Electric-Height-Adjustable-Standing/product-reviews/B0813MN98G/ref=cm_cr_arp_d_paging_btm_next_2?ie=UTF8&reviewerType=all_reviews&pageNumber=')"
   ]
  },
  {
   "cell_type": "code",
   "execution_count": 70,
   "metadata": {},
   "outputs": [
    {
     "data": {
      "text/html": [
       "<div>\n",
       "<style scoped>\n",
       "    .dataframe tbody tr th:only-of-type {\n",
       "        vertical-align: middle;\n",
       "    }\n",
       "\n",
       "    .dataframe tbody tr th {\n",
       "        vertical-align: top;\n",
       "    }\n",
       "\n",
       "    .dataframe thead th {\n",
       "        text-align: right;\n",
       "    }\n",
       "</style>\n",
       "<table border=\"1\" class=\"dataframe\">\n",
       "  <thead>\n",
       "    <tr style=\"text-align: right;\">\n",
       "      <th></th>\n",
       "      <th>Rating</th>\n",
       "      <th>Review_title</th>\n",
       "      <th>Review_date</th>\n",
       "      <th>Review_content</th>\n",
       "    </tr>\n",
       "  </thead>\n",
       "  <tbody>\n",
       "    <tr>\n",
       "      <th>0</th>\n",
       "      <td>5.0 out of 5 stars</td>\n",
       "      <td>Some tradeoffs, but overall a great desk</td>\n",
       "      <td>Reviewed in the United States on July 16, 2020</td>\n",
       "      <td>Built pretty well and tall enough for a 6'0'' ...</td>\n",
       "    </tr>\n",
       "    <tr>\n",
       "      <th>1</th>\n",
       "      <td>5.0 out of 5 stars</td>\n",
       "      <td>Perfect size and easy setup</td>\n",
       "      <td>Reviewed in the United States on August 13, 2019</td>\n",
       "      <td>I've been looking for a standing desk to add t...</td>\n",
       "    </tr>\n",
       "    <tr>\n",
       "      <th>2</th>\n",
       "      <td>5.0 out of 5 stars</td>\n",
       "      <td>Great investment for virtual school and work</td>\n",
       "      <td>Reviewed in the United States on September 14,...</td>\n",
       "      <td>The media could not be loaded.\\n              ...</td>\n",
       "    </tr>\n",
       "    <tr>\n",
       "      <th>3</th>\n",
       "      <td>4.0 out of 5 stars</td>\n",
       "      <td>Best value for Motorized Height Adjustable Tab...</td>\n",
       "      <td>Reviewed in the United States on May 25, 2020</td>\n",
       "      <td>Pros:* For under $300, this was a good buy.* F...</td>\n",
       "    </tr>\n",
       "    <tr>\n",
       "      <th>4</th>\n",
       "      <td>5.0 out of 5 stars</td>\n",
       "      <td>DON'T HESITATE - BUY THIS DESK!!!</td>\n",
       "      <td>Reviewed in the United States on May 18, 2020</td>\n",
       "      <td>I just purchased this desk on Thursday, May 14...</td>\n",
       "    </tr>\n",
       "  </tbody>\n",
       "</table>\n",
       "</div>"
      ],
      "text/plain": [
       "               Rating                                       Review_title  \\\n",
       "0  5.0 out of 5 stars           Some tradeoffs, but overall a great desk   \n",
       "1  5.0 out of 5 stars                        Perfect size and easy setup   \n",
       "2  5.0 out of 5 stars       Great investment for virtual school and work   \n",
       "3  4.0 out of 5 stars  Best value for Motorized Height Adjustable Tab...   \n",
       "4  5.0 out of 5 stars                  DON'T HESITATE - BUY THIS DESK!!!   \n",
       "\n",
       "                                         Review_date  \\\n",
       "0     Reviewed in the United States on July 16, 2020   \n",
       "1   Reviewed in the United States on August 13, 2019   \n",
       "2  Reviewed in the United States on September 14,...   \n",
       "3      Reviewed in the United States on May 25, 2020   \n",
       "4      Reviewed in the United States on May 18, 2020   \n",
       "\n",
       "                                      Review_content  \n",
       "0  Built pretty well and tall enough for a 6'0'' ...  \n",
       "1  I've been looking for a standing desk to add t...  \n",
       "2  The media could not be loaded.\\n              ...  \n",
       "3  Pros:* For under $300, this was a good buy.* F...  \n",
       "4  I just purchased this desk on Thursday, May 14...  "
      ]
     },
     "execution_count": 70,
     "metadata": {},
     "output_type": "execute_result"
    }
   ],
   "source": [
    "import pandas as pd\n",
    "df = pd.read_csv('review_result.csv')\n",
    "df.head()"
   ]
  },
  {
   "cell_type": "code",
   "execution_count": null,
   "metadata": {},
   "outputs": [],
   "source": []
  }
 ],
 "metadata": {
  "kernelspec": {
   "display_name": "Python 3",
   "language": "python",
   "name": "python3"
  },
  "language_info": {
   "codemirror_mode": {
    "name": "ipython",
    "version": 3
   },
   "file_extension": ".py",
   "mimetype": "text/x-python",
   "name": "python",
   "nbconvert_exporter": "python",
   "pygments_lexer": "ipython3",
   "version": "3.8.3"
  }
 },
 "nbformat": 4,
 "nbformat_minor": 4
}
