{
 "cells": [
  {
   "cell_type": "markdown",
   "metadata": {},
   "source": [
    "# Porject 07. Marketing Email Campaign"
   ]
  },
  {
   "cell_type": "code",
   "execution_count": 49,
   "metadata": {},
   "outputs": [
    {
     "data": {
      "text/plain": [
       "<Figure size 432x288 with 0 Axes>"
      ]
     },
     "metadata": {},
     "output_type": "display_data"
    }
   ],
   "source": [
    "import numpy as np\n",
    "import pandas as pd\n",
    "import matplotlib.pyplot as plt\n",
    "import seaborn as sns\n",
    "\n",
    "from sklearn.preprocessing import LabelEncoder\n",
    "from sklearn.feature_selection import chi2\n",
    "from sklearn.model_selection import train_test_split\n",
    "from sklearn.metrics import classification_report, roc_curve, precision_score, recall_score\n",
    "\n",
    "import xgboost as xgb\n",
    "\n",
    "%matplotlib inline\n",
    "plt.tight_layout()"
   ]
  },
  {
   "cell_type": "markdown",
   "metadata": {},
   "source": [
    "# Table of Contents\n",
    "  1. [Read Data](#read_data)\n",
    "  2. [Exploratory Data Analysis](#exploratorydataanalysis)\n",
    "  3. [Build Predictive Model](#buildpredictivemodel)\n",
    "  4. [Question 1](#question1)\n",
    "  5. [Question 2](#question2)\n",
    "  6. [Question3(1)](#question3(1))\n",
    "  7. [Question3(2)](#question3(2))\n",
    "  8. [Question 4](#question4)"
   ]
  },
  {
   "cell_type": "markdown",
   "metadata": {},
   "source": [
    "<a id='read_data'></a>\n",
    "## Read Data"
   ]
  },
  {
   "cell_type": "code",
   "execution_count": 50,
   "metadata": {},
   "outputs": [
    {
     "data": {
      "text/html": [
       "<div>\n",
       "<style scoped>\n",
       "    .dataframe tbody tr th:only-of-type {\n",
       "        vertical-align: middle;\n",
       "    }\n",
       "\n",
       "    .dataframe tbody tr th {\n",
       "        vertical-align: top;\n",
       "    }\n",
       "\n",
       "    .dataframe thead th {\n",
       "        text-align: right;\n",
       "    }\n",
       "</style>\n",
       "<table border=\"1\" class=\"dataframe\">\n",
       "  <thead>\n",
       "    <tr style=\"text-align: right;\">\n",
       "      <th></th>\n",
       "      <th>email_text</th>\n",
       "      <th>email_version</th>\n",
       "      <th>hour</th>\n",
       "      <th>weekday</th>\n",
       "      <th>user_country</th>\n",
       "      <th>user_past_purchases</th>\n",
       "    </tr>\n",
       "    <tr>\n",
       "      <th>email_id</th>\n",
       "      <th></th>\n",
       "      <th></th>\n",
       "      <th></th>\n",
       "      <th></th>\n",
       "      <th></th>\n",
       "      <th></th>\n",
       "    </tr>\n",
       "  </thead>\n",
       "  <tbody>\n",
       "    <tr>\n",
       "      <th>85120</th>\n",
       "      <td>short_email</td>\n",
       "      <td>personalized</td>\n",
       "      <td>2</td>\n",
       "      <td>Sunday</td>\n",
       "      <td>US</td>\n",
       "      <td>5</td>\n",
       "    </tr>\n",
       "    <tr>\n",
       "      <th>966622</th>\n",
       "      <td>long_email</td>\n",
       "      <td>personalized</td>\n",
       "      <td>12</td>\n",
       "      <td>Sunday</td>\n",
       "      <td>UK</td>\n",
       "      <td>2</td>\n",
       "    </tr>\n",
       "    <tr>\n",
       "      <th>777221</th>\n",
       "      <td>long_email</td>\n",
       "      <td>personalized</td>\n",
       "      <td>11</td>\n",
       "      <td>Wednesday</td>\n",
       "      <td>US</td>\n",
       "      <td>2</td>\n",
       "    </tr>\n",
       "    <tr>\n",
       "      <th>493711</th>\n",
       "      <td>short_email</td>\n",
       "      <td>generic</td>\n",
       "      <td>6</td>\n",
       "      <td>Monday</td>\n",
       "      <td>UK</td>\n",
       "      <td>1</td>\n",
       "    </tr>\n",
       "    <tr>\n",
       "      <th>106887</th>\n",
       "      <td>long_email</td>\n",
       "      <td>generic</td>\n",
       "      <td>14</td>\n",
       "      <td>Monday</td>\n",
       "      <td>US</td>\n",
       "      <td>6</td>\n",
       "    </tr>\n",
       "  </tbody>\n",
       "</table>\n",
       "</div>"
      ],
      "text/plain": [
       "           email_text email_version  hour    weekday user_country  \\\n",
       "email_id                                                            \n",
       "85120     short_email  personalized     2     Sunday           US   \n",
       "966622     long_email  personalized    12     Sunday           UK   \n",
       "777221     long_email  personalized    11  Wednesday           US   \n",
       "493711    short_email       generic     6     Monday           UK   \n",
       "106887     long_email       generic    14     Monday           US   \n",
       "\n",
       "          user_past_purchases  \n",
       "email_id                       \n",
       "85120                       5  \n",
       "966622                      2  \n",
       "777221                      2  \n",
       "493711                      1  \n",
       "106887                      6  "
      ]
     },
     "execution_count": 50,
     "metadata": {},
     "output_type": "execute_result"
    }
   ],
   "source": [
    "# read the email table and corresponding describe and statistical information\n",
    "email = pd.read_csv('C:/Users/xiaoj/Desktop/CS/collection of data science-take home challenges/Data/7. email/email_table.csv',index_col = 'email_id')\n",
    "email.head()"
   ]
  },
  {
   "cell_type": "code",
   "execution_count": 51,
   "metadata": {},
   "outputs": [
    {
     "name": "stdout",
     "output_type": "stream",
     "text": [
      "<class 'pandas.core.frame.DataFrame'>\n",
      "Int64Index: 100000 entries, 85120 to 348333\n",
      "Data columns (total 6 columns):\n",
      " #   Column               Non-Null Count   Dtype \n",
      "---  ------               --------------   ----- \n",
      " 0   email_text           100000 non-null  object\n",
      " 1   email_version        100000 non-null  object\n",
      " 2   hour                 100000 non-null  int64 \n",
      " 3   weekday              100000 non-null  object\n",
      " 4   user_country         100000 non-null  object\n",
      " 5   user_past_purchases  100000 non-null  int64 \n",
      "dtypes: int64(2), object(4)\n",
      "memory usage: 5.3+ MB\n"
     ]
    }
   ],
   "source": [
    "email.info()"
   ]
  },
  {
   "cell_type": "code",
   "execution_count": 52,
   "metadata": {},
   "outputs": [
    {
     "data": {
      "text/html": [
       "<div>\n",
       "<style scoped>\n",
       "    .dataframe tbody tr th:only-of-type {\n",
       "        vertical-align: middle;\n",
       "    }\n",
       "\n",
       "    .dataframe tbody tr th {\n",
       "        vertical-align: top;\n",
       "    }\n",
       "\n",
       "    .dataframe thead th {\n",
       "        text-align: right;\n",
       "    }\n",
       "</style>\n",
       "<table border=\"1\" class=\"dataframe\">\n",
       "  <thead>\n",
       "    <tr style=\"text-align: right;\">\n",
       "      <th></th>\n",
       "      <th>hour</th>\n",
       "      <th>user_past_purchases</th>\n",
       "    </tr>\n",
       "  </thead>\n",
       "  <tbody>\n",
       "    <tr>\n",
       "      <th>count</th>\n",
       "      <td>100000.000000</td>\n",
       "      <td>100000.00000</td>\n",
       "    </tr>\n",
       "    <tr>\n",
       "      <th>mean</th>\n",
       "      <td>9.059300</td>\n",
       "      <td>3.87845</td>\n",
       "    </tr>\n",
       "    <tr>\n",
       "      <th>std</th>\n",
       "      <td>4.439637</td>\n",
       "      <td>3.19611</td>\n",
       "    </tr>\n",
       "    <tr>\n",
       "      <th>min</th>\n",
       "      <td>1.000000</td>\n",
       "      <td>0.00000</td>\n",
       "    </tr>\n",
       "    <tr>\n",
       "      <th>25%</th>\n",
       "      <td>6.000000</td>\n",
       "      <td>1.00000</td>\n",
       "    </tr>\n",
       "    <tr>\n",
       "      <th>50%</th>\n",
       "      <td>9.000000</td>\n",
       "      <td>3.00000</td>\n",
       "    </tr>\n",
       "    <tr>\n",
       "      <th>75%</th>\n",
       "      <td>12.000000</td>\n",
       "      <td>6.00000</td>\n",
       "    </tr>\n",
       "    <tr>\n",
       "      <th>max</th>\n",
       "      <td>24.000000</td>\n",
       "      <td>22.00000</td>\n",
       "    </tr>\n",
       "  </tbody>\n",
       "</table>\n",
       "</div>"
      ],
      "text/plain": [
       "                hour  user_past_purchases\n",
       "count  100000.000000         100000.00000\n",
       "mean        9.059300              3.87845\n",
       "std         4.439637              3.19611\n",
       "min         1.000000              0.00000\n",
       "25%         6.000000              1.00000\n",
       "50%         9.000000              3.00000\n",
       "75%        12.000000              6.00000\n",
       "max        24.000000             22.00000"
      ]
     },
     "execution_count": 52,
     "metadata": {},
     "output_type": "execute_result"
    }
   ],
   "source": [
    "email.describe()"
   ]
  },
  {
   "cell_type": "code",
   "execution_count": 53,
   "metadata": {},
   "outputs": [
    {
     "data": {
      "text/plain": [
       "email_text             0\n",
       "email_version          0\n",
       "hour                   0\n",
       "weekday                0\n",
       "user_country           0\n",
       "user_past_purchases    0\n",
       "dtype: int64"
      ]
     },
     "execution_count": 53,
     "metadata": {},
     "output_type": "execute_result"
    }
   ],
   "source": [
    "# check if there are any NaN values\n",
    "email.isnull().sum()"
   ]
  },
  {
   "cell_type": "code",
   "execution_count": 54,
   "metadata": {},
   "outputs": [
    {
     "data": {
      "text/plain": [
       "[2, 2, 7, 4]"
      ]
     },
     "execution_count": 54,
     "metadata": {},
     "output_type": "execute_result"
    }
   ],
   "source": [
    "#check the categories in categorical field\n",
    "[email[x].nunique() for x in ['email_text','email_version','weekday','user_country']]"
   ]
  },
  {
   "cell_type": "code",
   "execution_count": 55,
   "metadata": {},
   "outputs": [
    {
     "data": {
      "text/html": [
       "<div>\n",
       "<style scoped>\n",
       "    .dataframe tbody tr th:only-of-type {\n",
       "        vertical-align: middle;\n",
       "    }\n",
       "\n",
       "    .dataframe tbody tr th {\n",
       "        vertical-align: top;\n",
       "    }\n",
       "\n",
       "    .dataframe thead th {\n",
       "        text-align: right;\n",
       "    }\n",
       "</style>\n",
       "<table border=\"1\" class=\"dataframe\">\n",
       "  <thead>\n",
       "    <tr style=\"text-align: right;\">\n",
       "      <th></th>\n",
       "      <th>is_short</th>\n",
       "      <th>is_personalized</th>\n",
       "      <th>hour</th>\n",
       "      <th>weekday</th>\n",
       "      <th>country</th>\n",
       "      <th>purchases</th>\n",
       "    </tr>\n",
       "    <tr>\n",
       "      <th>email_id</th>\n",
       "      <th></th>\n",
       "      <th></th>\n",
       "      <th></th>\n",
       "      <th></th>\n",
       "      <th></th>\n",
       "      <th></th>\n",
       "    </tr>\n",
       "  </thead>\n",
       "  <tbody>\n",
       "    <tr>\n",
       "      <th>85120</th>\n",
       "      <td>short_email</td>\n",
       "      <td>personalized</td>\n",
       "      <td>2</td>\n",
       "      <td>Sunday</td>\n",
       "      <td>US</td>\n",
       "      <td>5</td>\n",
       "    </tr>\n",
       "    <tr>\n",
       "      <th>966622</th>\n",
       "      <td>long_email</td>\n",
       "      <td>personalized</td>\n",
       "      <td>12</td>\n",
       "      <td>Sunday</td>\n",
       "      <td>UK</td>\n",
       "      <td>2</td>\n",
       "    </tr>\n",
       "    <tr>\n",
       "      <th>777221</th>\n",
       "      <td>long_email</td>\n",
       "      <td>personalized</td>\n",
       "      <td>11</td>\n",
       "      <td>Wednesday</td>\n",
       "      <td>US</td>\n",
       "      <td>2</td>\n",
       "    </tr>\n",
       "    <tr>\n",
       "      <th>493711</th>\n",
       "      <td>short_email</td>\n",
       "      <td>generic</td>\n",
       "      <td>6</td>\n",
       "      <td>Monday</td>\n",
       "      <td>UK</td>\n",
       "      <td>1</td>\n",
       "    </tr>\n",
       "    <tr>\n",
       "      <th>106887</th>\n",
       "      <td>long_email</td>\n",
       "      <td>generic</td>\n",
       "      <td>14</td>\n",
       "      <td>Monday</td>\n",
       "      <td>US</td>\n",
       "      <td>6</td>\n",
       "    </tr>\n",
       "  </tbody>\n",
       "</table>\n",
       "</div>"
      ],
      "text/plain": [
       "             is_short is_personalized  hour    weekday country  purchases\n",
       "email_id                                                                 \n",
       "85120     short_email    personalized     2     Sunday      US          5\n",
       "966622     long_email    personalized    12     Sunday      UK          2\n",
       "777221     long_email    personalized    11  Wednesday      US          2\n",
       "493711    short_email         generic     6     Monday      UK          1\n",
       "106887     long_email         generic    14     Monday      US          6"
      ]
     },
     "execution_count": 55,
     "metadata": {},
     "output_type": "execute_result"
    }
   ],
   "source": [
    "# rename long column names to shorter and understandable ones to make it easier to manipulation\n",
    "email.rename(columns = {'email_id':'id', 'email_text':'is_short', 'email_version':'is_personalized','user_country':'country', 'user_past_purchases':'purchases'},inplace=True)\n",
    "email.head()"
   ]
  },
  {
   "cell_type": "code",
   "execution_count": 56,
   "metadata": {},
   "outputs": [
    {
     "data": {
      "text/html": [
       "<div>\n",
       "<style scoped>\n",
       "    .dataframe tbody tr th:only-of-type {\n",
       "        vertical-align: middle;\n",
       "    }\n",
       "\n",
       "    .dataframe tbody tr th {\n",
       "        vertical-align: top;\n",
       "    }\n",
       "\n",
       "    .dataframe thead th {\n",
       "        text-align: right;\n",
       "    }\n",
       "</style>\n",
       "<table border=\"1\" class=\"dataframe\">\n",
       "  <thead>\n",
       "    <tr style=\"text-align: right;\">\n",
       "      <th></th>\n",
       "      <th>email_id</th>\n",
       "    </tr>\n",
       "  </thead>\n",
       "  <tbody>\n",
       "    <tr>\n",
       "      <th>0</th>\n",
       "      <td>284534</td>\n",
       "    </tr>\n",
       "    <tr>\n",
       "      <th>1</th>\n",
       "      <td>609056</td>\n",
       "    </tr>\n",
       "    <tr>\n",
       "      <th>2</th>\n",
       "      <td>220820</td>\n",
       "    </tr>\n",
       "    <tr>\n",
       "      <th>3</th>\n",
       "      <td>905936</td>\n",
       "    </tr>\n",
       "    <tr>\n",
       "      <th>4</th>\n",
       "      <td>164034</td>\n",
       "    </tr>\n",
       "  </tbody>\n",
       "</table>\n",
       "</div>"
      ],
      "text/plain": [
       "   email_id\n",
       "0    284534\n",
       "1    609056\n",
       "2    220820\n",
       "3    905936\n",
       "4    164034"
      ]
     },
     "execution_count": 56,
     "metadata": {},
     "output_type": "execute_result"
    }
   ],
   "source": [
    "# read the data in another two tables\n",
    "open = pd.read_csv('C:/Users/xiaoj/Desktop/CS/collection of data science-take home challenges/Data/7. email/email_opened_table.csv')\n",
    "open.head()"
   ]
  },
  {
   "cell_type": "code",
   "execution_count": 57,
   "metadata": {},
   "outputs": [
    {
     "data": {
      "text/html": [
       "<div>\n",
       "<style scoped>\n",
       "    .dataframe tbody tr th:only-of-type {\n",
       "        vertical-align: middle;\n",
       "    }\n",
       "\n",
       "    .dataframe tbody tr th {\n",
       "        vertical-align: top;\n",
       "    }\n",
       "\n",
       "    .dataframe thead th {\n",
       "        text-align: right;\n",
       "    }\n",
       "</style>\n",
       "<table border=\"1\" class=\"dataframe\">\n",
       "  <thead>\n",
       "    <tr style=\"text-align: right;\">\n",
       "      <th></th>\n",
       "      <th>email_id</th>\n",
       "    </tr>\n",
       "  </thead>\n",
       "  <tbody>\n",
       "    <tr>\n",
       "      <th>0</th>\n",
       "      <td>609056</td>\n",
       "    </tr>\n",
       "    <tr>\n",
       "      <th>1</th>\n",
       "      <td>870980</td>\n",
       "    </tr>\n",
       "    <tr>\n",
       "      <th>2</th>\n",
       "      <td>935124</td>\n",
       "    </tr>\n",
       "    <tr>\n",
       "      <th>3</th>\n",
       "      <td>158501</td>\n",
       "    </tr>\n",
       "    <tr>\n",
       "      <th>4</th>\n",
       "      <td>177561</td>\n",
       "    </tr>\n",
       "  </tbody>\n",
       "</table>\n",
       "</div>"
      ],
      "text/plain": [
       "   email_id\n",
       "0    609056\n",
       "1    870980\n",
       "2    935124\n",
       "3    158501\n",
       "4    177561"
      ]
     },
     "execution_count": 57,
     "metadata": {},
     "output_type": "execute_result"
    }
   ],
   "source": [
    "click = pd.read_csv('C:/Users/xiaoj/Desktop/CS/collection of data science-take home challenges/Data/7. email/link_clicked_table.csv')\n",
    "click.head()"
   ]
  },
  {
   "cell_type": "markdown",
   "metadata": {},
   "source": [
    "<a id='question1'></a>\n",
    "## Question 1\n",
    "What percentage of users opened the email and what percentage clicked on the link within the email?"
   ]
  },
  {
   "cell_type": "code",
   "execution_count": 58,
   "metadata": {},
   "outputs": [
    {
     "data": {
      "text/plain": [
       "0.10345"
      ]
     },
     "execution_count": 58,
     "metadata": {},
     "output_type": "execute_result"
    }
   ],
   "source": [
    "#calculate percentage of users opened the email\n",
    "open_percentage = open.shape[0]/email.shape[0]\n",
    "open_percentage"
   ]
  },
  {
   "cell_type": "code",
   "execution_count": 59,
   "metadata": {},
   "outputs": [
    {
     "data": {
      "text/plain": [
       "0.02119"
      ]
     },
     "execution_count": 59,
     "metadata": {},
     "output_type": "execute_result"
    }
   ],
   "source": [
    "# calculate percentage of users clicked on the link within the email \n",
    "click_percentage = click.shape[0]/email.shape[0]\n",
    "click_percentage"
   ]
  },
  {
   "cell_type": "code",
   "execution_count": 60,
   "metadata": {},
   "outputs": [
    {
     "name": "stdout",
     "output_type": "stream",
     "text": [
      "10.35% of users opened the email\n",
      "2.12% of users clicked the link\n"
     ]
    }
   ],
   "source": [
    "print(\"{:.2f}% of users opened the email\".format(open_percentage * 100))\n",
    "print(\"{:.2f}% of users clicked the link\".format(click_percentage * 100))"
   ]
  },
  {
   "cell_type": "markdown",
   "metadata": {},
   "source": [
    "<a id='exploratorydataanalysis'></a>\n",
    "## Exploratory Data Analysis"
   ]
  },
  {
   "cell_type": "code",
   "execution_count": 61,
   "metadata": {},
   "outputs": [
    {
     "data": {
      "text/html": [
       "<div>\n",
       "<style scoped>\n",
       "    .dataframe tbody tr th:only-of-type {\n",
       "        vertical-align: middle;\n",
       "    }\n",
       "\n",
       "    .dataframe tbody tr th {\n",
       "        vertical-align: top;\n",
       "    }\n",
       "\n",
       "    .dataframe thead th {\n",
       "        text-align: right;\n",
       "    }\n",
       "</style>\n",
       "<table border=\"1\" class=\"dataframe\">\n",
       "  <thead>\n",
       "    <tr style=\"text-align: right;\">\n",
       "      <th></th>\n",
       "      <th>is_short</th>\n",
       "      <th>is_personalized</th>\n",
       "      <th>hour</th>\n",
       "      <th>weekday</th>\n",
       "      <th>country</th>\n",
       "      <th>purchases</th>\n",
       "      <th>final</th>\n",
       "    </tr>\n",
       "    <tr>\n",
       "      <th>email_id</th>\n",
       "      <th></th>\n",
       "      <th></th>\n",
       "      <th></th>\n",
       "      <th></th>\n",
       "      <th></th>\n",
       "      <th></th>\n",
       "      <th></th>\n",
       "    </tr>\n",
       "  </thead>\n",
       "  <tbody>\n",
       "    <tr>\n",
       "      <th>85120</th>\n",
       "      <td>short_email</td>\n",
       "      <td>personalized</td>\n",
       "      <td>2</td>\n",
       "      <td>Sunday</td>\n",
       "      <td>US</td>\n",
       "      <td>5</td>\n",
       "      <td>received</td>\n",
       "    </tr>\n",
       "    <tr>\n",
       "      <th>966622</th>\n",
       "      <td>long_email</td>\n",
       "      <td>personalized</td>\n",
       "      <td>12</td>\n",
       "      <td>Sunday</td>\n",
       "      <td>UK</td>\n",
       "      <td>2</td>\n",
       "      <td>clicked</td>\n",
       "    </tr>\n",
       "    <tr>\n",
       "      <th>777221</th>\n",
       "      <td>long_email</td>\n",
       "      <td>personalized</td>\n",
       "      <td>11</td>\n",
       "      <td>Wednesday</td>\n",
       "      <td>US</td>\n",
       "      <td>2</td>\n",
       "      <td>received</td>\n",
       "    </tr>\n",
       "    <tr>\n",
       "      <th>493711</th>\n",
       "      <td>short_email</td>\n",
       "      <td>generic</td>\n",
       "      <td>6</td>\n",
       "      <td>Monday</td>\n",
       "      <td>UK</td>\n",
       "      <td>1</td>\n",
       "      <td>received</td>\n",
       "    </tr>\n",
       "    <tr>\n",
       "      <th>106887</th>\n",
       "      <td>long_email</td>\n",
       "      <td>generic</td>\n",
       "      <td>14</td>\n",
       "      <td>Monday</td>\n",
       "      <td>US</td>\n",
       "      <td>6</td>\n",
       "      <td>received</td>\n",
       "    </tr>\n",
       "  </tbody>\n",
       "</table>\n",
       "</div>"
      ],
      "text/plain": [
       "             is_short is_personalized  hour    weekday country  purchases  \\\n",
       "email_id                                                                    \n",
       "85120     short_email    personalized     2     Sunday      US          5   \n",
       "966622     long_email    personalized    12     Sunday      UK          2   \n",
       "777221     long_email    personalized    11  Wednesday      US          2   \n",
       "493711    short_email         generic     6     Monday      UK          1   \n",
       "106887     long_email         generic    14     Monday      US          6   \n",
       "\n",
       "             final  \n",
       "email_id            \n",
       "85120     received  \n",
       "966622     clicked  \n",
       "777221    received  \n",
       "493711    received  \n",
       "106887    received  "
      ]
     },
     "execution_count": 61,
     "metadata": {},
     "output_type": "execute_result"
    }
   ],
   "source": [
    "# add a new column to email table\n",
    "email['final'] = 'received'\n",
    "email.loc[open['email_id'],'final'] = 'opened'\n",
    "email.loc[click['email_id'],'final'] = 'clicked'\n",
    "email.head()"
   ]
  },
  {
   "cell_type": "code",
   "execution_count": 62,
   "metadata": {},
   "outputs": [],
   "source": [
    "# to define functions that can be generally applied to the various features when chek their influence on final click rate\n",
    "def final_ratio(data):\n",
    "    final_counts = data['final'].value_counts(normalize = True)\n",
    "    return final_counts\n",
    "\n",
    "def feature_plot(column):\n",
    "    feature_inf = email.groupby(column).apply(final_ratio)\n",
    "    feature_inf.loc[:,'clicked'].plot(kind='bar')\n",
    "    plt.ylabel('Click Ratio')\n",
    "    plt.xlabel(column)\n",
    "    plt.xticks(rotation=0)\n",
    "    plt.title('Click Ratio vs.{}'.format(column))\n",
    "    return feature_inf"
   ]
  },
  {
   "cell_type": "code",
   "execution_count": 63,
   "metadata": {},
   "outputs": [
    {
     "data": {
      "text/html": [
       "<div>\n",
       "<style scoped>\n",
       "    .dataframe tbody tr th:only-of-type {\n",
       "        vertical-align: middle;\n",
       "    }\n",
       "\n",
       "    .dataframe tbody tr th {\n",
       "        vertical-align: top;\n",
       "    }\n",
       "\n",
       "    .dataframe thead th {\n",
       "        text-align: right;\n",
       "    }\n",
       "</style>\n",
       "<table border=\"1\" class=\"dataframe\">\n",
       "  <thead>\n",
       "    <tr style=\"text-align: right;\">\n",
       "      <th>final</th>\n",
       "      <th>received</th>\n",
       "      <th>opened</th>\n",
       "      <th>clicked</th>\n",
       "    </tr>\n",
       "    <tr>\n",
       "      <th>is_short</th>\n",
       "      <th></th>\n",
       "      <th></th>\n",
       "      <th></th>\n",
       "    </tr>\n",
       "  </thead>\n",
       "  <tbody>\n",
       "    <tr>\n",
       "      <th>long_email</th>\n",
       "      <td>0.908266</td>\n",
       "      <td>0.073196</td>\n",
       "      <td>0.018538</td>\n",
       "    </tr>\n",
       "    <tr>\n",
       "      <th>short_email</th>\n",
       "      <td>0.883698</td>\n",
       "      <td>0.092430</td>\n",
       "      <td>0.023872</td>\n",
       "    </tr>\n",
       "  </tbody>\n",
       "</table>\n",
       "</div>"
      ],
      "text/plain": [
       "final        received    opened   clicked\n",
       "is_short                                 \n",
       "long_email   0.908266  0.073196  0.018538\n",
       "short_email  0.883698  0.092430  0.023872"
      ]
     },
     "execution_count": 63,
     "metadata": {},
     "output_type": "execute_result"
    },
    {
     "data": {
      "image/png": "[encoded data removed]",
      "text/plain": [
       "<Figure size 432x288 with 1 Axes>"
      ]
     },
     "metadata": {
      "needs_background": "light"
     },
     "output_type": "display_data"
    }
   ],
   "source": [
    "# check if 'email text' is short has influence on final click rate\n",
    "feature_plot('is_short')"
   ]
  },
  {
   "cell_type": "markdown",
   "metadata": {},
   "source": [
    "People prefer short emails which induce higher click rate. People prefer simple and shorter sensences to save their time and energy."
   ]
  },
  {
   "cell_type": "code",
   "execution_count": 64,
   "metadata": {},
   "outputs": [
    {
     "data": {
      "text/html": [
       "<div>\n",
       "<style scoped>\n",
       "    .dataframe tbody tr th:only-of-type {\n",
       "        vertical-align: middle;\n",
       "    }\n",
       "\n",
       "    .dataframe tbody tr th {\n",
       "        vertical-align: top;\n",
       "    }\n",
       "\n",
       "    .dataframe thead th {\n",
       "        text-align: right;\n",
       "    }\n",
       "</style>\n",
       "<table border=\"1\" class=\"dataframe\">\n",
       "  <thead>\n",
       "    <tr style=\"text-align: right;\">\n",
       "      <th>final</th>\n",
       "      <th>received</th>\n",
       "      <th>opened</th>\n",
       "      <th>clicked</th>\n",
       "    </tr>\n",
       "    <tr>\n",
       "      <th>is_personalized</th>\n",
       "      <th></th>\n",
       "      <th></th>\n",
       "      <th></th>\n",
       "    </tr>\n",
       "  </thead>\n",
       "  <tbody>\n",
       "    <tr>\n",
       "      <th>generic</th>\n",
       "      <td>0.920034</td>\n",
       "      <td>0.064829</td>\n",
       "      <td>0.015137</td>\n",
       "    </tr>\n",
       "    <tr>\n",
       "      <th>personalized</th>\n",
       "      <td>0.871864</td>\n",
       "      <td>0.100842</td>\n",
       "      <td>0.027294</td>\n",
       "    </tr>\n",
       "  </tbody>\n",
       "</table>\n",
       "</div>"
      ],
      "text/plain": [
       "final            received    opened   clicked\n",
       "is_personalized                              \n",
       "generic          0.920034  0.064829  0.015137\n",
       "personalized     0.871864  0.100842  0.027294"
      ]
     },
     "execution_count": 64,
     "metadata": {},
     "output_type": "execute_result"
    },
    {
     "data": {
      "image/png": "[encoded data removed]",
      "text/plain": [
       "<Figure size 432x288 with 1 Axes>"
      ]
     },
     "metadata": {
      "needs_background": "light"
     },
     "output_type": "display_data"
    }
   ],
   "source": [
    "# check if personlized email will produce more click rate\n",
    "feature_plot('is_personalized')"
   ]
  },
  {
   "cell_type": "markdown",
   "metadata": {},
   "source": [
    "Personliazed email has absolutely great infulence. It showed 1.8 times higher click rate compared with general email does."
   ]
  },
  {
   "cell_type": "code",
   "execution_count": 65,
   "metadata": {
    "scrolled": true
   },
   "outputs": [
    {
     "data": {
      "text/html": [
       "<div>\n",
       "<style scoped>\n",
       "    .dataframe tbody tr th:only-of-type {\n",
       "        vertical-align: middle;\n",
       "    }\n",
       "\n",
       "    .dataframe tbody tr th {\n",
       "        vertical-align: top;\n",
       "    }\n",
       "\n",
       "    .dataframe thead th {\n",
       "        text-align: right;\n",
       "    }\n",
       "</style>\n",
       "<table border=\"1\" class=\"dataframe\">\n",
       "  <thead>\n",
       "    <tr style=\"text-align: right;\">\n",
       "      <th>final</th>\n",
       "      <th>received</th>\n",
       "      <th>opened</th>\n",
       "      <th>clicked</th>\n",
       "    </tr>\n",
       "    <tr>\n",
       "      <th>weekday</th>\n",
       "      <th></th>\n",
       "      <th></th>\n",
       "      <th></th>\n",
       "    </tr>\n",
       "  </thead>\n",
       "  <tbody>\n",
       "    <tr>\n",
       "      <th>1</th>\n",
       "      <td>0.883590</td>\n",
       "      <td>0.093504</td>\n",
       "      <td>0.022906</td>\n",
       "    </tr>\n",
       "    <tr>\n",
       "      <th>2</th>\n",
       "      <td>0.879092</td>\n",
       "      <td>0.096019</td>\n",
       "      <td>0.024889</td>\n",
       "    </tr>\n",
       "    <tr>\n",
       "      <th>3</th>\n",
       "      <td>0.879296</td>\n",
       "      <td>0.093084</td>\n",
       "      <td>0.027620</td>\n",
       "    </tr>\n",
       "    <tr>\n",
       "      <th>4</th>\n",
       "      <td>0.881348</td>\n",
       "      <td>0.094207</td>\n",
       "      <td>0.024445</td>\n",
       "    </tr>\n",
       "    <tr>\n",
       "      <th>5</th>\n",
       "      <td>0.925019</td>\n",
       "      <td>0.060944</td>\n",
       "      <td>0.014037</td>\n",
       "    </tr>\n",
       "    <tr>\n",
       "      <th>6</th>\n",
       "      <td>0.912005</td>\n",
       "      <td>0.070149</td>\n",
       "      <td>0.017846</td>\n",
       "    </tr>\n",
       "    <tr>\n",
       "      <th>7</th>\n",
       "      <td>0.911448</td>\n",
       "      <td>0.071801</td>\n",
       "      <td>0.016751</td>\n",
       "    </tr>\n",
       "  </tbody>\n",
       "</table>\n",
       "</div>"
      ],
      "text/plain": [
       "final    received    opened   clicked\n",
       "weekday                              \n",
       "1        0.883590  0.093504  0.022906\n",
       "2        0.879092  0.096019  0.024889\n",
       "3        0.879296  0.093084  0.027620\n",
       "4        0.881348  0.094207  0.024445\n",
       "5        0.925019  0.060944  0.014037\n",
       "6        0.912005  0.070149  0.017846\n",
       "7        0.911448  0.071801  0.016751"
      ]
     },
     "execution_count": 65,
     "metadata": {},
     "output_type": "execute_result"
    },
    {
     "data": {
      "image/png": "[encoded data removed]",
      "text/plain": [
       "<Figure size 432x288 with 1 Axes>"
      ]
     },
     "metadata": {
      "needs_background": "light"
     },
     "output_type": "display_data"
    }
   ],
   "source": [
    "# check if weekday has relationship with click rate\n",
    "weekday_to_index={'Monday':1,'Tuesday':2,'Wednesday':3,'Thursday':4,'Friday':5,'Saturday':6,'Sunday':7}\n",
    "email['weekday'] = email['weekday'].map(weekday_to_index)\n",
    "feature_plot('weekday')"
   ]
  },
  {
   "cell_type": "markdown",
   "metadata": {},
   "source": [
    "On Friday,Saturday and sunday,there are obviously lower'click rate' than other days.This does make sense since people normaly don't like to process emails during weekends."
   ]
  },
  {
   "cell_type": "code",
   "execution_count": 66,
   "metadata": {},
   "outputs": [
    {
     "data": {
      "text/html": [
       "<div>\n",
       "<style scoped>\n",
       "    .dataframe tbody tr th:only-of-type {\n",
       "        vertical-align: middle;\n",
       "    }\n",
       "\n",
       "    .dataframe tbody tr th {\n",
       "        vertical-align: top;\n",
       "    }\n",
       "\n",
       "    .dataframe thead th {\n",
       "        text-align: right;\n",
       "    }\n",
       "</style>\n",
       "<table border=\"1\" class=\"dataframe\">\n",
       "  <thead>\n",
       "    <tr style=\"text-align: right;\">\n",
       "      <th>final</th>\n",
       "      <th>received</th>\n",
       "      <th>opened</th>\n",
       "      <th>clicked</th>\n",
       "    </tr>\n",
       "    <tr>\n",
       "      <th>country</th>\n",
       "      <th></th>\n",
       "      <th></th>\n",
       "      <th></th>\n",
       "    </tr>\n",
       "  </thead>\n",
       "  <tbody>\n",
       "    <tr>\n",
       "      <th>ES</th>\n",
       "      <td>0.960570</td>\n",
       "      <td>0.031103</td>\n",
       "      <td>0.008327</td>\n",
       "    </tr>\n",
       "    <tr>\n",
       "      <th>FR</th>\n",
       "      <td>0.958779</td>\n",
       "      <td>0.033217</td>\n",
       "      <td>0.008004</td>\n",
       "    </tr>\n",
       "    <tr>\n",
       "      <th>UK</th>\n",
       "      <td>0.879282</td>\n",
       "      <td>0.096043</td>\n",
       "      <td>0.024675</td>\n",
       "    </tr>\n",
       "    <tr>\n",
       "      <th>US</th>\n",
       "      <td>0.880481</td>\n",
       "      <td>0.095160</td>\n",
       "      <td>0.024360</td>\n",
       "    </tr>\n",
       "  </tbody>\n",
       "</table>\n",
       "</div>"
      ],
      "text/plain": [
       "final    received    opened   clicked\n",
       "country                              \n",
       "ES       0.960570  0.031103  0.008327\n",
       "FR       0.958779  0.033217  0.008004\n",
       "UK       0.879282  0.096043  0.024675\n",
       "US       0.880481  0.095160  0.024360"
      ]
     },
     "execution_count": 66,
     "metadata": {},
     "output_type": "execute_result"
    },
    {
     "data": {
      "image/png": "[encoded data removed]",
      "text/plain": [
       "<Figure size 432x288 with 1 Axes>"
      ]
     },
     "metadata": {
      "needs_background": "light"
     },
     "output_type": "display_data"
    }
   ],
   "source": [
    "# check if country has influence on click rate\n",
    "feature_plot('country')"
   ]
  },
  {
   "cell_type": "markdown",
   "metadata": {},
   "source": [
    "UK and US has obviously higher click rates compared to the other two countries.\n",
    "\n",
    "This may be caused by the language. If the email are written in English, those whose english are not good enough won't understand it, which lead to lower click rate. "
   ]
  },
  {
   "cell_type": "code",
   "execution_count": 67,
   "metadata": {},
   "outputs": [
    {
     "data": {
      "text/html": [
       "<div>\n",
       "<style scoped>\n",
       "    .dataframe tbody tr th:only-of-type {\n",
       "        vertical-align: middle;\n",
       "    }\n",
       "\n",
       "    .dataframe tbody tr th {\n",
       "        vertical-align: top;\n",
       "    }\n",
       "\n",
       "    .dataframe thead th {\n",
       "        text-align: right;\n",
       "    }\n",
       "</style>\n",
       "<table border=\"1\" class=\"dataframe\">\n",
       "  <thead>\n",
       "    <tr style=\"text-align: right;\">\n",
       "      <th></th>\n",
       "      <th>clicked</th>\n",
       "      <th>opened</th>\n",
       "      <th>received</th>\n",
       "    </tr>\n",
       "    <tr>\n",
       "      <th>hour</th>\n",
       "      <th></th>\n",
       "      <th></th>\n",
       "      <th></th>\n",
       "    </tr>\n",
       "  </thead>\n",
       "  <tbody>\n",
       "    <tr>\n",
       "      <th>1</th>\n",
       "      <td>0.018128</td>\n",
       "      <td>0.071032</td>\n",
       "      <td>0.910840</td>\n",
       "    </tr>\n",
       "    <tr>\n",
       "      <th>2</th>\n",
       "      <td>0.016322</td>\n",
       "      <td>0.072089</td>\n",
       "      <td>0.911589</td>\n",
       "    </tr>\n",
       "    <tr>\n",
       "      <th>3</th>\n",
       "      <td>0.019523</td>\n",
       "      <td>0.065293</td>\n",
       "      <td>0.915184</td>\n",
       "    </tr>\n",
       "    <tr>\n",
       "      <th>4</th>\n",
       "      <td>0.016186</td>\n",
       "      <td>0.072394</td>\n",
       "      <td>0.911419</td>\n",
       "    </tr>\n",
       "    <tr>\n",
       "      <th>5</th>\n",
       "      <td>0.018013</td>\n",
       "      <td>0.064570</td>\n",
       "      <td>0.917417</td>\n",
       "    </tr>\n",
       "    <tr>\n",
       "      <th>6</th>\n",
       "      <td>0.017147</td>\n",
       "      <td>0.073677</td>\n",
       "      <td>0.909176</td>\n",
       "    </tr>\n",
       "    <tr>\n",
       "      <th>7</th>\n",
       "      <td>0.018284</td>\n",
       "      <td>0.072282</td>\n",
       "      <td>0.909434</td>\n",
       "    </tr>\n",
       "    <tr>\n",
       "      <th>8</th>\n",
       "      <td>0.018933</td>\n",
       "      <td>0.069659</td>\n",
       "      <td>0.911407</td>\n",
       "    </tr>\n",
       "    <tr>\n",
       "      <th>9</th>\n",
       "      <td>0.025794</td>\n",
       "      <td>0.100481</td>\n",
       "      <td>0.873725</td>\n",
       "    </tr>\n",
       "    <tr>\n",
       "      <th>10</th>\n",
       "      <td>0.028240</td>\n",
       "      <td>0.104768</td>\n",
       "      <td>0.866993</td>\n",
       "    </tr>\n",
       "    <tr>\n",
       "      <th>11</th>\n",
       "      <td>0.027128</td>\n",
       "      <td>0.100227</td>\n",
       "      <td>0.872645</td>\n",
       "    </tr>\n",
       "    <tr>\n",
       "      <th>12</th>\n",
       "      <td>0.025661</td>\n",
       "      <td>0.099109</td>\n",
       "      <td>0.875230</td>\n",
       "    </tr>\n",
       "    <tr>\n",
       "      <th>13</th>\n",
       "      <td>0.019889</td>\n",
       "      <td>0.089590</td>\n",
       "      <td>0.890521</td>\n",
       "    </tr>\n",
       "    <tr>\n",
       "      <th>14</th>\n",
       "      <td>0.020742</td>\n",
       "      <td>0.089738</td>\n",
       "      <td>0.889520</td>\n",
       "    </tr>\n",
       "    <tr>\n",
       "      <th>15</th>\n",
       "      <td>0.024907</td>\n",
       "      <td>0.081019</td>\n",
       "      <td>0.894074</td>\n",
       "    </tr>\n",
       "    <tr>\n",
       "      <th>16</th>\n",
       "      <td>0.023197</td>\n",
       "      <td>0.082639</td>\n",
       "      <td>0.894165</td>\n",
       "    </tr>\n",
       "    <tr>\n",
       "      <th>17</th>\n",
       "      <td>0.018489</td>\n",
       "      <td>0.090861</td>\n",
       "      <td>0.890650</td>\n",
       "    </tr>\n",
       "    <tr>\n",
       "      <th>18</th>\n",
       "      <td>0.016186</td>\n",
       "      <td>0.078114</td>\n",
       "      <td>0.905700</td>\n",
       "    </tr>\n",
       "    <tr>\n",
       "      <th>19</th>\n",
       "      <td>0.016575</td>\n",
       "      <td>0.058564</td>\n",
       "      <td>0.924862</td>\n",
       "    </tr>\n",
       "    <tr>\n",
       "      <th>20</th>\n",
       "      <td>0.012195</td>\n",
       "      <td>0.076220</td>\n",
       "      <td>0.911585</td>\n",
       "    </tr>\n",
       "    <tr>\n",
       "      <th>21</th>\n",
       "      <td>0.008219</td>\n",
       "      <td>0.049315</td>\n",
       "      <td>0.942466</td>\n",
       "    </tr>\n",
       "    <tr>\n",
       "      <th>22</th>\n",
       "      <td>0.019608</td>\n",
       "      <td>0.049020</td>\n",
       "      <td>0.931373</td>\n",
       "    </tr>\n",
       "    <tr>\n",
       "      <th>23</th>\n",
       "      <td>0.041379</td>\n",
       "      <td>0.041379</td>\n",
       "      <td>0.917241</td>\n",
       "    </tr>\n",
       "    <tr>\n",
       "      <th>24</th>\n",
       "      <td>0.028986</td>\n",
       "      <td>0.130435</td>\n",
       "      <td>0.840580</td>\n",
       "    </tr>\n",
       "  </tbody>\n",
       "</table>\n",
       "</div>"
      ],
      "text/plain": [
       "       clicked    opened  received\n",
       "hour                              \n",
       "1     0.018128  0.071032  0.910840\n",
       "2     0.016322  0.072089  0.911589\n",
       "3     0.019523  0.065293  0.915184\n",
       "4     0.016186  0.072394  0.911419\n",
       "5     0.018013  0.064570  0.917417\n",
       "6     0.017147  0.073677  0.909176\n",
       "7     0.018284  0.072282  0.909434\n",
       "8     0.018933  0.069659  0.911407\n",
       "9     0.025794  0.100481  0.873725\n",
       "10    0.028240  0.104768  0.866993\n",
       "11    0.027128  0.100227  0.872645\n",
       "12    0.025661  0.099109  0.875230\n",
       "13    0.019889  0.089590  0.890521\n",
       "14    0.020742  0.089738  0.889520\n",
       "15    0.024907  0.081019  0.894074\n",
       "16    0.023197  0.082639  0.894165\n",
       "17    0.018489  0.090861  0.890650\n",
       "18    0.016186  0.078114  0.905700\n",
       "19    0.016575  0.058564  0.924862\n",
       "20    0.012195  0.076220  0.911585\n",
       "21    0.008219  0.049315  0.942466\n",
       "22    0.019608  0.049020  0.931373\n",
       "23    0.041379  0.041379  0.917241\n",
       "24    0.028986  0.130435  0.840580"
      ]
     },
     "execution_count": 67,
     "metadata": {},
     "output_type": "execute_result"
    }
   ],
   "source": [
    "# check if sending time has relationship with click rate\n",
    "hour_inf = email.groupby(\"hour\").apply(final_ratio).unstack()\n",
    "hour_inf.fillna(value=0,inplace=True)\n",
    "hour_inf\n",
    "#hour_inf.loc[:,'final'].plot(kind='bar')"
   ]
  },
  {
   "cell_type": "code",
   "execution_count": 68,
   "metadata": {},
   "outputs": [
    {
     "data": {
      "text/plain": [
       "<matplotlib.axes._subplots.AxesSubplot at 0x221078c7d60>"
      ]
     },
     "execution_count": 68,
     "metadata": {},
     "output_type": "execute_result"
    },
    {
     "data": {
      "image/png": "[encoded data removed]",
      "text/plain": [
       "<Figure size 432x288 with 1 Axes>"
      ]
     },
     "metadata": {
      "needs_background": "light"
     },
     "output_type": "display_data"
    }
   ],
   "source": [
    "# check how users'past purchases influence the final click rate\n",
    "purchase_inf = email.groupby(\"purchases\").apply(final_ratio).unstack()\n",
    "purchase_inf.fillna(value=0,inplace=True)\n",
    "purchase_inf.loc[:,'clicked'].plot(kind='line',marker='o')"
   ]
  },
  {
   "cell_type": "markdown",
   "metadata": {},
   "source": [
    "It can be found that the more items a user purchased previously, the more likely that user will open the email and click it."
   ]
  },
  {
   "cell_type": "markdown",
   "metadata": {},
   "source": [
    "### Chi2-test\n",
    "After the analysis on the individual segments of email, I will do the Chi-squre test to see which segment is more important and more reated to the final click rate compared with others."
   ]
  },
  {
   "cell_type": "code",
   "execution_count": 69,
   "metadata": {},
   "outputs": [
    {
     "data": {
      "text/html": [
       "<div>\n",
       "<style scoped>\n",
       "    .dataframe tbody tr th:only-of-type {\n",
       "        vertical-align: middle;\n",
       "    }\n",
       "\n",
       "    .dataframe tbody tr th {\n",
       "        vertical-align: top;\n",
       "    }\n",
       "\n",
       "    .dataframe thead th {\n",
       "        text-align: right;\n",
       "    }\n",
       "</style>\n",
       "<table border=\"1\" class=\"dataframe\">\n",
       "  <thead>\n",
       "    <tr style=\"text-align: right;\">\n",
       "      <th></th>\n",
       "      <th>chi2score</th>\n",
       "    </tr>\n",
       "  </thead>\n",
       "  <tbody>\n",
       "    <tr>\n",
       "      <th>purchases</th>\n",
       "      <td>3448.795660</td>\n",
       "    </tr>\n",
       "    <tr>\n",
       "      <th>country</th>\n",
       "      <td>378.554465</td>\n",
       "    </tr>\n",
       "    <tr>\n",
       "      <th>is_personalized</th>\n",
       "      <td>316.752872</td>\n",
       "    </tr>\n",
       "    <tr>\n",
       "      <th>weekday</th>\n",
       "      <td>210.006087</td>\n",
       "    </tr>\n",
       "    <tr>\n",
       "      <th>hour</th>\n",
       "      <td>147.815921</td>\n",
       "    </tr>\n",
       "    <tr>\n",
       "      <th>is_short</th>\n",
       "      <td>81.527600</td>\n",
       "    </tr>\n",
       "  </tbody>\n",
       "</table>\n",
       "</div>"
      ],
      "text/plain": [
       "                   chi2score\n",
       "purchases        3448.795660\n",
       "country           378.554465\n",
       "is_personalized   316.752872\n",
       "weekday           210.006087\n",
       "hour              147.815921\n",
       "is_short           81.527600"
      ]
     },
     "execution_count": 69,
     "metadata": {},
     "output_type": "execute_result"
    }
   ],
   "source": [
    "# Chi2-test\n",
    "X = email.copy()\n",
    "X['final'] = LabelEncoder().fit_transform(X['final'])\n",
    "X['is_short'] = LabelEncoder().fit_transform(X['is_short'])\n",
    "X['is_personalized'] = LabelEncoder().fit_transform(X['is_personalized'])\n",
    "X['country'] = LabelEncoder().fit_transform(X['country'])\n",
    "x = X.drop(columns='final')\n",
    "y = X['final']\n",
    "\n",
    "chi2score,pvalue = chi2(x,y)\n",
    "pd.DataFrame({'chi2score':chi2score},index = X.drop(columns='final').columns).sort_values(by='chi2score',ascending=False)"
   ]
  },
  {
   "cell_type": "markdown",
   "metadata": {},
   "source": [
    "From the **chi2** test, it can be fount that:\n",
    "- The most important feature that influence the final click rate is if the users has the past-purchase experience or not;\n",
    "\n",
    "- The second most important features are country and email's version;\n",
    "\n",
    "- The less features are weekday,hour and if the email text is short or long.\n"
   ]
  },
  {
   "cell_type": "markdown",
   "metadata": {},
   "source": [
    "<a id='question4'></a>\n",
    "## Question 4\n",
    "Any interesting pattern on how the email campaign performed for different segments of users? Explain."
   ]
  },
  {
   "cell_type": "markdown",
   "metadata": {},
   "source": [
    "From the above analysis, it can be found that:\n",
    "- Users_past_purchase is the most important feature.\n",
    "\n",
    "- Country also play a vital role in determining final click rate. UK and US are the most likely to click the link.\n",
    "\n",
    "- Personalized emails are more likely to be opened and linked.\n",
    "\n",
    "- The other features are not so important. But there are still some patterns we can follow, For example, people prefer short emails. On weekends, there are more click rate."
   ]
  },
  {
   "cell_type": "markdown",
   "metadata": {},
   "source": [
    "## Build Predictive Model\n",
    "Build a model to predict whether a user will open the email and click the link inside it."
   ]
  },
  {
   "cell_type": "markdown",
   "metadata": {},
   "source": [
    "### Prepare the data"
   ]
  },
  {
   "cell_type": "code",
   "execution_count": 70,
   "metadata": {},
   "outputs": [
    {
     "data": {
      "text/html": [
       "<div>\n",
       "<style scoped>\n",
       "    .dataframe tbody tr th:only-of-type {\n",
       "        vertical-align: middle;\n",
       "    }\n",
       "\n",
       "    .dataframe tbody tr th {\n",
       "        vertical-align: top;\n",
       "    }\n",
       "\n",
       "    .dataframe thead th {\n",
       "        text-align: right;\n",
       "    }\n",
       "</style>\n",
       "<table border=\"1\" class=\"dataframe\">\n",
       "  <thead>\n",
       "    <tr style=\"text-align: right;\">\n",
       "      <th></th>\n",
       "      <th>is_short</th>\n",
       "      <th>is_personalized</th>\n",
       "      <th>hour</th>\n",
       "      <th>weekday</th>\n",
       "      <th>country</th>\n",
       "      <th>purchases</th>\n",
       "      <th>final</th>\n",
       "    </tr>\n",
       "    <tr>\n",
       "      <th>email_id</th>\n",
       "      <th></th>\n",
       "      <th></th>\n",
       "      <th></th>\n",
       "      <th></th>\n",
       "      <th></th>\n",
       "      <th></th>\n",
       "      <th></th>\n",
       "    </tr>\n",
       "  </thead>\n",
       "  <tbody>\n",
       "    <tr>\n",
       "      <th>85120</th>\n",
       "      <td>short_email</td>\n",
       "      <td>personalized</td>\n",
       "      <td>2</td>\n",
       "      <td>7</td>\n",
       "      <td>US</td>\n",
       "      <td>5</td>\n",
       "      <td>received</td>\n",
       "    </tr>\n",
       "    <tr>\n",
       "      <th>966622</th>\n",
       "      <td>long_email</td>\n",
       "      <td>personalized</td>\n",
       "      <td>12</td>\n",
       "      <td>7</td>\n",
       "      <td>UK</td>\n",
       "      <td>2</td>\n",
       "      <td>clicked</td>\n",
       "    </tr>\n",
       "    <tr>\n",
       "      <th>777221</th>\n",
       "      <td>long_email</td>\n",
       "      <td>personalized</td>\n",
       "      <td>11</td>\n",
       "      <td>3</td>\n",
       "      <td>US</td>\n",
       "      <td>2</td>\n",
       "      <td>received</td>\n",
       "    </tr>\n",
       "    <tr>\n",
       "      <th>493711</th>\n",
       "      <td>short_email</td>\n",
       "      <td>generic</td>\n",
       "      <td>6</td>\n",
       "      <td>1</td>\n",
       "      <td>UK</td>\n",
       "      <td>1</td>\n",
       "      <td>received</td>\n",
       "    </tr>\n",
       "    <tr>\n",
       "      <th>106887</th>\n",
       "      <td>long_email</td>\n",
       "      <td>generic</td>\n",
       "      <td>14</td>\n",
       "      <td>1</td>\n",
       "      <td>US</td>\n",
       "      <td>6</td>\n",
       "      <td>received</td>\n",
       "    </tr>\n",
       "  </tbody>\n",
       "</table>\n",
       "</div>"
      ],
      "text/plain": [
       "             is_short is_personalized  hour  weekday country  purchases  \\\n",
       "email_id                                                                  \n",
       "85120     short_email    personalized     2        7      US          5   \n",
       "966622     long_email    personalized    12        7      UK          2   \n",
       "777221     long_email    personalized    11        3      US          2   \n",
       "493711    short_email         generic     6        1      UK          1   \n",
       "106887     long_email         generic    14        1      US          6   \n",
       "\n",
       "             final  \n",
       "email_id            \n",
       "85120     received  \n",
       "966622     clicked  \n",
       "777221    received  \n",
       "493711    received  \n",
       "106887    received  "
      ]
     },
     "execution_count": 70,
     "metadata": {},
     "output_type": "execute_result"
    }
   ],
   "source": [
    "email1 = email.copy()\n",
    "email1.head()"
   ]
  },
  {
   "cell_type": "code",
   "execution_count": 71,
   "metadata": {},
   "outputs": [],
   "source": [
    "# transfer the previous categorical field into numerical field\n",
    "email1['is_short'] = (email1['is_short']=='short_email').astype(np.int)\n",
    "\n",
    "email1['is_personalized'] = (email1['is_personalized']=='personalized').astype(np.int)"
   ]
  },
  {
   "cell_type": "code",
   "execution_count": 72,
   "metadata": {},
   "outputs": [
    {
     "data": {
      "text/html": [
       "<div>\n",
       "<style scoped>\n",
       "    .dataframe tbody tr th:only-of-type {\n",
       "        vertical-align: middle;\n",
       "    }\n",
       "\n",
       "    .dataframe tbody tr th {\n",
       "        vertical-align: top;\n",
       "    }\n",
       "\n",
       "    .dataframe thead th {\n",
       "        text-align: right;\n",
       "    }\n",
       "</style>\n",
       "<table border=\"1\" class=\"dataframe\">\n",
       "  <thead>\n",
       "    <tr style=\"text-align: right;\">\n",
       "      <th></th>\n",
       "      <th>purchases</th>\n",
       "      <th>is_personalized</th>\n",
       "      <th>is_short</th>\n",
       "      <th>is_weekend</th>\n",
       "      <th>country_FR</th>\n",
       "      <th>country_UK</th>\n",
       "      <th>country_US</th>\n",
       "    </tr>\n",
       "    <tr>\n",
       "      <th>email_id</th>\n",
       "      <th></th>\n",
       "      <th></th>\n",
       "      <th></th>\n",
       "      <th></th>\n",
       "      <th></th>\n",
       "      <th></th>\n",
       "      <th></th>\n",
       "    </tr>\n",
       "  </thead>\n",
       "  <tbody>\n",
       "    <tr>\n",
       "      <th>85120</th>\n",
       "      <td>5</td>\n",
       "      <td>1</td>\n",
       "      <td>1</td>\n",
       "      <td>1</td>\n",
       "      <td>0</td>\n",
       "      <td>0</td>\n",
       "      <td>1</td>\n",
       "    </tr>\n",
       "    <tr>\n",
       "      <th>966622</th>\n",
       "      <td>2</td>\n",
       "      <td>1</td>\n",
       "      <td>0</td>\n",
       "      <td>1</td>\n",
       "      <td>0</td>\n",
       "      <td>1</td>\n",
       "      <td>0</td>\n",
       "    </tr>\n",
       "    <tr>\n",
       "      <th>777221</th>\n",
       "      <td>2</td>\n",
       "      <td>1</td>\n",
       "      <td>0</td>\n",
       "      <td>0</td>\n",
       "      <td>0</td>\n",
       "      <td>0</td>\n",
       "      <td>1</td>\n",
       "    </tr>\n",
       "    <tr>\n",
       "      <th>493711</th>\n",
       "      <td>1</td>\n",
       "      <td>0</td>\n",
       "      <td>1</td>\n",
       "      <td>0</td>\n",
       "      <td>0</td>\n",
       "      <td>1</td>\n",
       "      <td>0</td>\n",
       "    </tr>\n",
       "    <tr>\n",
       "      <th>106887</th>\n",
       "      <td>6</td>\n",
       "      <td>0</td>\n",
       "      <td>0</td>\n",
       "      <td>0</td>\n",
       "      <td>0</td>\n",
       "      <td>0</td>\n",
       "      <td>1</td>\n",
       "    </tr>\n",
       "  </tbody>\n",
       "</table>\n",
       "</div>"
      ],
      "text/plain": [
       "          purchases  is_personalized  is_short  is_weekend  country_FR  \\\n",
       "email_id                                                                 \n",
       "85120             5                1         1           1           0   \n",
       "966622            2                1         0           1           0   \n",
       "777221            2                1         0           0           0   \n",
       "493711            1                0         1           0           0   \n",
       "106887            6                0         0           0           0   \n",
       "\n",
       "          country_UK  country_US  \n",
       "email_id                          \n",
       "85120              0           1  \n",
       "966622             1           0  \n",
       "777221             0           1  \n",
       "493711             1           0  \n",
       "106887             0           1  "
      ]
     },
     "execution_count": 72,
     "metadata": {},
     "output_type": "execute_result"
    }
   ],
   "source": [
    "# select features\n",
    "X = email1.reindex(columns=['purchases','country','is_personalized','is_short'])\n",
    "\n",
    "# create new feature\n",
    "X['is_weekend'] = (email1['weekday']>=5).astype(int)\n",
    "\n",
    "# One-Hot-Encode 'country' feature\n",
    "X = pd.get_dummies(X, columns=['country'], drop_first=True)\n",
    "\n",
    "# prepare the target\n",
    "y = (email1['final']=='clicked').astype(int)\n",
    "\n",
    "X.head()"
   ]
  },
  {
   "cell_type": "code",
   "execution_count": 73,
   "metadata": {},
   "outputs": [
    {
     "name": "stdout",
     "output_type": "stream",
     "text": [
      "Train positive ratio=0.021\n",
      "Test positive ratio=0.021\n"
     ]
    }
   ],
   "source": [
    "# split for training and testing\n",
    "xtrain, xtest, ytrain, ytest = train_test_split(X, y, test_size=0.33, random_state=42,stratify=y)\n",
    "print('Train positive ratio={:.3f}'.format(ytrain.mean()))\n",
    "print('Test positive ratio={:.3f}'.format(ytest.mean()))"
   ]
  },
  {
   "cell_type": "markdown",
   "metadata": {},
   "source": [
    "From the above results, it can be found it's an imbalanced data."
   ]
  },
  {
   "cell_type": "markdown",
   "metadata": {},
   "source": [
    "### Train the model"
   ]
  },
  {
   "cell_type": "code",
   "execution_count": 74,
   "metadata": {},
   "outputs": [],
   "source": [
    "# Due to the time limitation, I will just train one GBM model.\n",
    "# If given sufficient time, I will apply following strategies to improve the model\"\n",
    "# For example, build multiple models, and ensemble them (average or stacking) to improve the predictive performance.\n",
    "# try more hyper_parameters to find better ones.\n",
    "train_matrix = xgb.DMatrix(xtrain, ytrain)\n",
    "test_matrix = xgb.DMatrix(xtest)"
   ]
  },
  {
   "cell_type": "code",
   "execution_count": 75,
   "metadata": {},
   "outputs": [
    {
     "data": {
      "text/html": [
       "<div>\n",
       "<style scoped>\n",
       "    .dataframe tbody tr th:only-of-type {\n",
       "        vertical-align: middle;\n",
       "    }\n",
       "\n",
       "    .dataframe tbody tr th {\n",
       "        vertical-align: top;\n",
       "    }\n",
       "\n",
       "    .dataframe thead th {\n",
       "        text-align: right;\n",
       "    }\n",
       "</style>\n",
       "<table border=\"1\" class=\"dataframe\">\n",
       "  <thead>\n",
       "    <tr style=\"text-align: right;\">\n",
       "      <th></th>\n",
       "      <th>train-auc-mean</th>\n",
       "      <th>train-auc-std</th>\n",
       "      <th>test-auc-mean</th>\n",
       "      <th>test-auc-std</th>\n",
       "    </tr>\n",
       "  </thead>\n",
       "  <tbody>\n",
       "    <tr>\n",
       "      <th>0</th>\n",
       "      <td>0.635124</td>\n",
       "      <td>0.003925</td>\n",
       "      <td>0.629237</td>\n",
       "      <td>0.013160</td>\n",
       "    </tr>\n",
       "    <tr>\n",
       "      <th>1</th>\n",
       "      <td>0.698144</td>\n",
       "      <td>0.045007</td>\n",
       "      <td>0.680497</td>\n",
       "      <td>0.049597</td>\n",
       "    </tr>\n",
       "    <tr>\n",
       "      <th>2</th>\n",
       "      <td>0.717900</td>\n",
       "      <td>0.035657</td>\n",
       "      <td>0.700988</td>\n",
       "      <td>0.036446</td>\n",
       "    </tr>\n",
       "    <tr>\n",
       "      <th>3</th>\n",
       "      <td>0.737558</td>\n",
       "      <td>0.007595</td>\n",
       "      <td>0.717995</td>\n",
       "      <td>0.014693</td>\n",
       "    </tr>\n",
       "    <tr>\n",
       "      <th>4</th>\n",
       "      <td>0.744811</td>\n",
       "      <td>0.003343</td>\n",
       "      <td>0.728116</td>\n",
       "      <td>0.010341</td>\n",
       "    </tr>\n",
       "    <tr>\n",
       "      <th>5</th>\n",
       "      <td>0.748163</td>\n",
       "      <td>0.001669</td>\n",
       "      <td>0.731180</td>\n",
       "      <td>0.007769</td>\n",
       "    </tr>\n",
       "    <tr>\n",
       "      <th>6</th>\n",
       "      <td>0.749900</td>\n",
       "      <td>0.001086</td>\n",
       "      <td>0.732668</td>\n",
       "      <td>0.008401</td>\n",
       "    </tr>\n",
       "    <tr>\n",
       "      <th>7</th>\n",
       "      <td>0.751234</td>\n",
       "      <td>0.001493</td>\n",
       "      <td>0.734383</td>\n",
       "      <td>0.007429</td>\n",
       "    </tr>\n",
       "    <tr>\n",
       "      <th>8</th>\n",
       "      <td>0.752353</td>\n",
       "      <td>0.002133</td>\n",
       "      <td>0.734671</td>\n",
       "      <td>0.007219</td>\n",
       "    </tr>\n",
       "    <tr>\n",
       "      <th>9</th>\n",
       "      <td>0.752943</td>\n",
       "      <td>0.001966</td>\n",
       "      <td>0.734412</td>\n",
       "      <td>0.007652</td>\n",
       "    </tr>\n",
       "    <tr>\n",
       "      <th>10</th>\n",
       "      <td>0.753327</td>\n",
       "      <td>0.001870</td>\n",
       "      <td>0.734834</td>\n",
       "      <td>0.007994</td>\n",
       "    </tr>\n",
       "    <tr>\n",
       "      <th>11</th>\n",
       "      <td>0.753160</td>\n",
       "      <td>0.002027</td>\n",
       "      <td>0.734814</td>\n",
       "      <td>0.008604</td>\n",
       "    </tr>\n",
       "    <tr>\n",
       "      <th>12</th>\n",
       "      <td>0.753577</td>\n",
       "      <td>0.001893</td>\n",
       "      <td>0.734947</td>\n",
       "      <td>0.008436</td>\n",
       "    </tr>\n",
       "    <tr>\n",
       "      <th>13</th>\n",
       "      <td>0.754241</td>\n",
       "      <td>0.001320</td>\n",
       "      <td>0.735161</td>\n",
       "      <td>0.008695</td>\n",
       "    </tr>\n",
       "    <tr>\n",
       "      <th>14</th>\n",
       "      <td>0.754718</td>\n",
       "      <td>0.001288</td>\n",
       "      <td>0.735008</td>\n",
       "      <td>0.008329</td>\n",
       "    </tr>\n",
       "    <tr>\n",
       "      <th>15</th>\n",
       "      <td>0.754663</td>\n",
       "      <td>0.001311</td>\n",
       "      <td>0.735111</td>\n",
       "      <td>0.008484</td>\n",
       "    </tr>\n",
       "    <tr>\n",
       "      <th>16</th>\n",
       "      <td>0.754839</td>\n",
       "      <td>0.001352</td>\n",
       "      <td>0.735415</td>\n",
       "      <td>0.008321</td>\n",
       "    </tr>\n",
       "    <tr>\n",
       "      <th>17</th>\n",
       "      <td>0.755024</td>\n",
       "      <td>0.001682</td>\n",
       "      <td>0.735137</td>\n",
       "      <td>0.008274</td>\n",
       "    </tr>\n",
       "    <tr>\n",
       "      <th>18</th>\n",
       "      <td>0.755007</td>\n",
       "      <td>0.001426</td>\n",
       "      <td>0.735341</td>\n",
       "      <td>0.008654</td>\n",
       "    </tr>\n",
       "    <tr>\n",
       "      <th>19</th>\n",
       "      <td>0.755287</td>\n",
       "      <td>0.001580</td>\n",
       "      <td>0.734987</td>\n",
       "      <td>0.009167</td>\n",
       "    </tr>\n",
       "    <tr>\n",
       "      <th>20</th>\n",
       "      <td>0.755388</td>\n",
       "      <td>0.001726</td>\n",
       "      <td>0.735241</td>\n",
       "      <td>0.008759</td>\n",
       "    </tr>\n",
       "    <tr>\n",
       "      <th>21</th>\n",
       "      <td>0.755637</td>\n",
       "      <td>0.001728</td>\n",
       "      <td>0.735150</td>\n",
       "      <td>0.008721</td>\n",
       "    </tr>\n",
       "    <tr>\n",
       "      <th>22</th>\n",
       "      <td>0.755759</td>\n",
       "      <td>0.001801</td>\n",
       "      <td>0.735281</td>\n",
       "      <td>0.008828</td>\n",
       "    </tr>\n",
       "    <tr>\n",
       "      <th>23</th>\n",
       "      <td>0.755981</td>\n",
       "      <td>0.001801</td>\n",
       "      <td>0.735225</td>\n",
       "      <td>0.008961</td>\n",
       "    </tr>\n",
       "    <tr>\n",
       "      <th>24</th>\n",
       "      <td>0.756241</td>\n",
       "      <td>0.001900</td>\n",
       "      <td>0.735412</td>\n",
       "      <td>0.009027</td>\n",
       "    </tr>\n",
       "    <tr>\n",
       "      <th>25</th>\n",
       "      <td>0.756437</td>\n",
       "      <td>0.001914</td>\n",
       "      <td>0.735561</td>\n",
       "      <td>0.009284</td>\n",
       "    </tr>\n",
       "    <tr>\n",
       "      <th>26</th>\n",
       "      <td>0.756577</td>\n",
       "      <td>0.001952</td>\n",
       "      <td>0.735240</td>\n",
       "      <td>0.009681</td>\n",
       "    </tr>\n",
       "    <tr>\n",
       "      <th>27</th>\n",
       "      <td>0.756775</td>\n",
       "      <td>0.002112</td>\n",
       "      <td>0.735176</td>\n",
       "      <td>0.009541</td>\n",
       "    </tr>\n",
       "    <tr>\n",
       "      <th>28</th>\n",
       "      <td>0.756971</td>\n",
       "      <td>0.002106</td>\n",
       "      <td>0.735304</td>\n",
       "      <td>0.009493</td>\n",
       "    </tr>\n",
       "    <tr>\n",
       "      <th>29</th>\n",
       "      <td>0.757187</td>\n",
       "      <td>0.002091</td>\n",
       "      <td>0.735144</td>\n",
       "      <td>0.009028</td>\n",
       "    </tr>\n",
       "    <tr>\n",
       "      <th>30</th>\n",
       "      <td>0.757374</td>\n",
       "      <td>0.002029</td>\n",
       "      <td>0.735416</td>\n",
       "      <td>0.009156</td>\n",
       "    </tr>\n",
       "    <tr>\n",
       "      <th>31</th>\n",
       "      <td>0.757609</td>\n",
       "      <td>0.002044</td>\n",
       "      <td>0.735568</td>\n",
       "      <td>0.009199</td>\n",
       "    </tr>\n",
       "    <tr>\n",
       "      <th>32</th>\n",
       "      <td>0.757861</td>\n",
       "      <td>0.002078</td>\n",
       "      <td>0.735860</td>\n",
       "      <td>0.009092</td>\n",
       "    </tr>\n",
       "    <tr>\n",
       "      <th>33</th>\n",
       "      <td>0.757967</td>\n",
       "      <td>0.002074</td>\n",
       "      <td>0.735598</td>\n",
       "      <td>0.009230</td>\n",
       "    </tr>\n",
       "    <tr>\n",
       "      <th>34</th>\n",
       "      <td>0.758157</td>\n",
       "      <td>0.002079</td>\n",
       "      <td>0.735460</td>\n",
       "      <td>0.009542</td>\n",
       "    </tr>\n",
       "    <tr>\n",
       "      <th>35</th>\n",
       "      <td>0.758304</td>\n",
       "      <td>0.002077</td>\n",
       "      <td>0.735629</td>\n",
       "      <td>0.009684</td>\n",
       "    </tr>\n",
       "    <tr>\n",
       "      <th>36</th>\n",
       "      <td>0.758449</td>\n",
       "      <td>0.002137</td>\n",
       "      <td>0.735852</td>\n",
       "      <td>0.009417</td>\n",
       "    </tr>\n",
       "    <tr>\n",
       "      <th>37</th>\n",
       "      <td>0.758583</td>\n",
       "      <td>0.002112</td>\n",
       "      <td>0.735912</td>\n",
       "      <td>0.009442</td>\n",
       "    </tr>\n",
       "  </tbody>\n",
       "</table>\n",
       "</div>"
      ],
      "text/plain": [
       "    train-auc-mean  train-auc-std  test-auc-mean  test-auc-std\n",
       "0         0.635124       0.003925       0.629237      0.013160\n",
       "1         0.698144       0.045007       0.680497      0.049597\n",
       "2         0.717900       0.035657       0.700988      0.036446\n",
       "3         0.737558       0.007595       0.717995      0.014693\n",
       "4         0.744811       0.003343       0.728116      0.010341\n",
       "5         0.748163       0.001669       0.731180      0.007769\n",
       "6         0.749900       0.001086       0.732668      0.008401\n",
       "7         0.751234       0.001493       0.734383      0.007429\n",
       "8         0.752353       0.002133       0.734671      0.007219\n",
       "9         0.752943       0.001966       0.734412      0.007652\n",
       "10        0.753327       0.001870       0.734834      0.007994\n",
       "11        0.753160       0.002027       0.734814      0.008604\n",
       "12        0.753577       0.001893       0.734947      0.008436\n",
       "13        0.754241       0.001320       0.735161      0.008695\n",
       "14        0.754718       0.001288       0.735008      0.008329\n",
       "15        0.754663       0.001311       0.735111      0.008484\n",
       "16        0.754839       0.001352       0.735415      0.008321\n",
       "17        0.755024       0.001682       0.735137      0.008274\n",
       "18        0.755007       0.001426       0.735341      0.008654\n",
       "19        0.755287       0.001580       0.734987      0.009167\n",
       "20        0.755388       0.001726       0.735241      0.008759\n",
       "21        0.755637       0.001728       0.735150      0.008721\n",
       "22        0.755759       0.001801       0.735281      0.008828\n",
       "23        0.755981       0.001801       0.735225      0.008961\n",
       "24        0.756241       0.001900       0.735412      0.009027\n",
       "25        0.756437       0.001914       0.735561      0.009284\n",
       "26        0.756577       0.001952       0.735240      0.009681\n",
       "27        0.756775       0.002112       0.735176      0.009541\n",
       "28        0.756971       0.002106       0.735304      0.009493\n",
       "29        0.757187       0.002091       0.735144      0.009028\n",
       "30        0.757374       0.002029       0.735416      0.009156\n",
       "31        0.757609       0.002044       0.735568      0.009199\n",
       "32        0.757861       0.002078       0.735860      0.009092\n",
       "33        0.757967       0.002074       0.735598      0.009230\n",
       "34        0.758157       0.002079       0.735460      0.009542\n",
       "35        0.758304       0.002077       0.735629      0.009684\n",
       "36        0.758449       0.002137       0.735852      0.009417\n",
       "37        0.758583       0.002112       0.735912      0.009442"
      ]
     },
     "execution_count": 75,
     "metadata": {},
     "output_type": "execute_result"
    }
   ],
   "source": [
    "params = {'eta':0.1,\n",
    "          'subsample':0.8,\n",
    "          'max_depth':6,\n",
    "          'colsample_bytree':0.8,\n",
    "          'scale_pos_weight':7,\n",
    "          'objective':'binary:logistic',\n",
    "          'eval_metric':'auc'}\n",
    "xgb.cv(params, \n",
    "       train_matrix, \n",
    "       num_boost_round=300, \n",
    "       nfold=5, \n",
    "       early_stopping_rounds=10, \n",
    "       seed=42)"
   ]
  },
  {
   "cell_type": "code",
   "execution_count": 76,
   "metadata": {},
   "outputs": [
    {
     "name": "stdout",
     "output_type": "stream",
     "text": [
      "[0]\ttrain-auc:0.63512+0.00392\ttest-auc:0.62924+0.01316\n",
      "[1]\ttrain-auc:0.69814+0.04501\ttest-auc:0.68050+0.04960\n",
      "[2]\ttrain-auc:0.71790+0.03566\ttest-auc:0.70099+0.03645\n",
      "[3]\ttrain-auc:0.73756+0.00760\ttest-auc:0.71800+0.01469\n",
      "[4]\ttrain-auc:0.74481+0.00334\ttest-auc:0.72812+0.01034\n",
      "[5]\ttrain-auc:0.74816+0.00167\ttest-auc:0.73118+0.00777\n",
      "[6]\ttrain-auc:0.74990+0.00109\ttest-auc:0.73267+0.00840\n",
      "[7]\ttrain-auc:0.75123+0.00149\ttest-auc:0.73438+0.00743\n",
      "[8]\ttrain-auc:0.75235+0.00213\ttest-auc:0.73467+0.00722\n",
      "[9]\ttrain-auc:0.75294+0.00197\ttest-auc:0.73441+0.00765\n",
      "[10]\ttrain-auc:0.75333+0.00187\ttest-auc:0.73483+0.00799\n",
      "[11]\ttrain-auc:0.75316+0.00203\ttest-auc:0.73481+0.00860\n",
      "[12]\ttrain-auc:0.75358+0.00189\ttest-auc:0.73495+0.00844\n",
      "[13]\ttrain-auc:0.75424+0.00132\ttest-auc:0.73516+0.00870\n",
      "[14]\ttrain-auc:0.75472+0.00129\ttest-auc:0.73501+0.00833\n",
      "[15]\ttrain-auc:0.75466+0.00131\ttest-auc:0.73511+0.00848\n",
      "[16]\ttrain-auc:0.75484+0.00135\ttest-auc:0.73542+0.00832\n",
      "[17]\ttrain-auc:0.75502+0.00168\ttest-auc:0.73514+0.00827\n",
      "[18]\ttrain-auc:0.75501+0.00143\ttest-auc:0.73534+0.00865\n",
      "[19]\ttrain-auc:0.75529+0.00158\ttest-auc:0.73499+0.00917\n",
      "[20]\ttrain-auc:0.75539+0.00173\ttest-auc:0.73524+0.00876\n",
      "[21]\ttrain-auc:0.75564+0.00173\ttest-auc:0.73515+0.00872\n",
      "[22]\ttrain-auc:0.75576+0.00180\ttest-auc:0.73528+0.00883\n",
      "[23]\ttrain-auc:0.75598+0.00180\ttest-auc:0.73523+0.00896\n",
      "[24]\ttrain-auc:0.75624+0.00190\ttest-auc:0.73541+0.00903\n",
      "[25]\ttrain-auc:0.75644+0.00191\ttest-auc:0.73556+0.00928\n",
      "[26]\ttrain-auc:0.75658+0.00195\ttest-auc:0.73524+0.00968\n",
      "[27]\ttrain-auc:0.75677+0.00211\ttest-auc:0.73518+0.00954\n",
      "[28]\ttrain-auc:0.75697+0.00211\ttest-auc:0.73530+0.00949\n",
      "[29]\ttrain-auc:0.75719+0.00209\ttest-auc:0.73514+0.00903\n",
      "[30]\ttrain-auc:0.75737+0.00203\ttest-auc:0.73542+0.00916\n",
      "[31]\ttrain-auc:0.75761+0.00204\ttest-auc:0.73557+0.00920\n",
      "[32]\ttrain-auc:0.75786+0.00208\ttest-auc:0.73586+0.00909\n",
      "[33]\ttrain-auc:0.75797+0.00207\ttest-auc:0.73560+0.00923\n",
      "[34]\ttrain-auc:0.75816+0.00208\ttest-auc:0.73546+0.00954\n",
      "[35]\ttrain-auc:0.75830+0.00208\ttest-auc:0.73563+0.00968\n",
      "[36]\ttrain-auc:0.75845+0.00214\ttest-auc:0.73585+0.00942\n",
      "[37]\ttrain-auc:0.75858+0.00211\ttest-auc:0.73591+0.00944\n",
      "[38]\ttrain-auc:0.75868+0.00213\ttest-auc:0.73590+0.00944\n",
      "[39]\ttrain-auc:0.75879+0.00211\ttest-auc:0.73565+0.00939\n",
      "[40]\ttrain-auc:0.75892+0.00212\ttest-auc:0.73567+0.00926\n",
      "[41]\ttrain-auc:0.75902+0.00206\ttest-auc:0.73576+0.00940\n",
      "[42]\ttrain-auc:0.75915+0.00210\ttest-auc:0.73569+0.00940\n",
      "[43]\ttrain-auc:0.75934+0.00208\ttest-auc:0.73587+0.00933\n",
      "[44]\ttrain-auc:0.75947+0.00210\ttest-auc:0.73571+0.00955\n",
      "[45]\ttrain-auc:0.75963+0.00217\ttest-auc:0.73573+0.00958\n",
      "[46]\ttrain-auc:0.75982+0.00222\ttest-auc:0.73579+0.00990\n",
      "[47]\ttrain-auc:0.76002+0.00227\ttest-auc:0.73572+0.00989\n"
     ]
    }
   ],
   "source": [
    "cv_result=xgb.cv(params, \n",
    "       train_matrix, \n",
    "       num_boost_round=300, \n",
    "       nfold=5, \n",
    "       early_stopping_rounds=10, \n",
    "       seed=42,\n",
    "       verbose_eval=True)"
   ]
  },
  {
   "cell_type": "code",
   "execution_count": 77,
   "metadata": {},
   "outputs": [
    {
     "data": {
      "text/plain": [
       "38"
      ]
     },
     "execution_count": 77,
     "metadata": {},
     "output_type": "execute_result"
    }
   ],
   "source": [
    "n_best_trees = cv_result.shape[0]\n",
    "n_best_trees"
   ]
  },
  {
   "cell_type": "code",
   "execution_count": 78,
   "metadata": {},
   "outputs": [
    {
     "name": "stdout",
     "output_type": "stream",
     "text": [
      "[0]\ttrain-auc:0.63430\n",
      "[1]\ttrain-auc:0.72807\n",
      "[2]\ttrain-auc:0.71563\n",
      "[3]\ttrain-auc:0.73467\n",
      "[4]\ttrain-auc:0.73649\n",
      "[5]\ttrain-auc:0.74294\n",
      "[6]\ttrain-auc:0.74577\n",
      "[7]\ttrain-auc:0.74589\n",
      "[8]\ttrain-auc:0.74751\n",
      "[9]\ttrain-auc:0.74732\n",
      "[10]\ttrain-auc:0.74835\n",
      "[11]\ttrain-auc:0.74900\n",
      "[12]\ttrain-auc:0.74840\n",
      "[13]\ttrain-auc:0.74834\n",
      "[14]\ttrain-auc:0.74863\n",
      "[15]\ttrain-auc:0.74994\n",
      "[16]\ttrain-auc:0.75194\n",
      "[17]\ttrain-auc:0.75244\n",
      "[18]\ttrain-auc:0.75264\n",
      "[19]\ttrain-auc:0.75347\n",
      "[20]\ttrain-auc:0.75336\n",
      "[21]\ttrain-auc:0.75311\n",
      "[22]\ttrain-auc:0.75323\n",
      "[23]\ttrain-auc:0.75367\n",
      "[24]\ttrain-auc:0.75419\n",
      "[25]\ttrain-auc:0.75457\n",
      "[26]\ttrain-auc:0.75453\n",
      "[27]\ttrain-auc:0.75460\n",
      "[28]\ttrain-auc:0.75488\n",
      "[29]\ttrain-auc:0.75487\n",
      "[30]\ttrain-auc:0.75493\n",
      "[31]\ttrain-auc:0.75506\n",
      "[32]\ttrain-auc:0.75514\n",
      "[33]\ttrain-auc:0.75549\n",
      "[34]\ttrain-auc:0.75540\n",
      "[35]\ttrain-auc:0.75538\n",
      "[36]\ttrain-auc:0.75556\n",
      "[37]\ttrain-auc:0.75585\n"
     ]
    }
   ],
   "source": [
    "watchlist=[(train_matrix,'train')]\n",
    "gbt = xgb.train(params,train_matrix,cv_result.shape[0],watchlist)"
   ]
  },
  {
   "cell_type": "code",
   "execution_count": 79,
   "metadata": {},
   "outputs": [
    {
     "data": {
      "text/plain": [
       "<matplotlib.axes._subplots.AxesSubplot at 0x22107c116a0>"
      ]
     },
     "execution_count": 79,
     "metadata": {},
     "output_type": "execute_result"
    },
    {
     "data": {
      "image/png": "[encoded data removed]",
      "text/plain": [
       "<Figure size 432x288 with 1 Axes>"
      ]
     },
     "metadata": {
      "needs_background": "light"
     },
     "output_type": "display_data"
    }
   ],
   "source": [
    "xgb.plot_importance(gbt)"
   ]
  },
  {
   "cell_type": "code",
   "execution_count": 88,
   "metadata": {},
   "outputs": [
    {
     "data": {
      "text/plain": [
       "0.7394678648384236"
      ]
     },
     "execution_count": 88,
     "metadata": {},
     "output_type": "execute_result"
    }
   ],
   "source": [
    "\n",
    "ytest_predo = gbt.predict(test_matrix, ntree_limit=n_best_trees)\n",
    "from sklearn.metrics import roc_auc_score\n",
    "roc_auc_score(ytest, ytest_predo)"
   ]
  },
  {
   "cell_type": "code",
   "execution_count": 98,
   "metadata": {},
   "outputs": [
    {
     "data": {
      "text/plain": [
       "0.6695678245388436"
      ]
     },
     "execution_count": 98,
     "metadata": {},
     "output_type": "execute_result"
    }
   ],
   "source": [
    "ypreds = np.where(ytest_pred> best_threshold,1,0)\n",
    "roc_auc_score(ytest, ypreds)"
   ]
  },
  {
   "cell_type": "markdown",
   "metadata": {},
   "source": [
    "### Plot ROC curve and choose better probability threshold\n",
    "Since the data is highly imbalanced,if using default probability threshold(0.5), the model will classify every example as negative. So a better probability threshold should be chosen."
   ]
  },
  {
   "cell_type": "code",
   "execution_count": 80,
   "metadata": {},
   "outputs": [],
   "source": [
    "# split the previous train data to train and validation data, and use the validation data to find the best threshold \n",
    "xtrain_new, xvalid, ytrain_new, yvalid = train_test_split(xtrain,ytrain, test_size=0.2,random_state=42)\n",
    "\n",
    "train_new_matrix = xgb.DMatrix(xtrain_new, ytrain_new)\n",
    "valid_matrix = xgb.DMatrix(xvalid)\n",
    "\n",
    "# retrain the new train data\n",
    "gbt_new = xgb.train(params, train_new_matrix, n_best_trees)\n",
    "\n",
    "# predict on validation set\n",
    "yvalid_probas = gbt_new.predict(valid_matrix, ntree_limit = n_best_trees)"
   ]
  },
  {
   "cell_type": "code",
   "execution_count": 81,
   "metadata": {},
   "outputs": [
    {
     "data": {
      "text/plain": [
       "Text(0, 0.5, 'TPR')"
      ]
     },
     "execution_count": 81,
     "metadata": {},
     "output_type": "execute_result"
    },
    {
     "data": {
      "image/png": "[encoded data removed]",
      "text/plain": [
       "<Figure size 432x288 with 1 Axes>"
      ]
     },
     "metadata": {
      "needs_background": "light"
     },
     "output_type": "display_data"
    }
   ],
   "source": [
    "# plot the roc curve and find the threshold which is nearest to the left-top of the ROC curve\n",
    "fpr,tpr,thresholds=roc_curve(yvalid,yvalid_probas)\n",
    "\n",
    "gmeans=np.sqrt(tpr*(1-fpr))\n",
    "i_max=np.argmax(gmeans)\n",
    "\n",
    "plt.plot(fpr,tpr)\n",
    "plt.scatter(fpr[i_max],tpr[i_max],marker='o',color='red',label='Best Threshold')\n",
    "plt.xlabel('FPR')\n",
    "plt.ylabel('TPR')"
   ]
  },
  {
   "cell_type": "code",
   "execution_count": 82,
   "metadata": {},
   "outputs": [
    {
     "name": "stdout",
     "output_type": "stream",
     "text": [
      "Best Threshold: 0.152\n"
     ]
    }
   ],
   "source": [
    "best_threshold = thresholds[i_max]\n",
    "print('Best Threshold: {:.3f}'.format(thresholds[i_max]))"
   ]
  },
  {
   "cell_type": "markdown",
   "metadata": {},
   "source": [
    "<a id='question3(1)'></a>\n",
    "## Question 3 (1)\n",
    "How much do you think your model would improve click through rate? "
   ]
  },
  {
   "cell_type": "code",
   "execution_count": 100,
   "metadata": {},
   "outputs": [
    {
     "name": "stdout",
     "output_type": "stream",
     "text": [
      "              precision    recall  f1-score   support\n",
      "\n",
      "           0       0.99      0.67      0.80     32301\n",
      "           1       0.04      0.67      0.08       699\n",
      "\n",
      "    accuracy                           0.67     33000\n",
      "   macro avg       0.52      0.67      0.44     33000\n",
      "weighted avg       0.97      0.67      0.78     33000\n",
      "\n"
     ]
    }
   ],
   "source": [
    "# adjust the prediction\n",
    "ytest_pred = gbt_new.predict(test_matrix, ntree_limit = n_best_trees)\n",
    "#ytest_pred = (ytest_pred > best_threshold).astype(int)\n",
    "preds = np.where(ytest_pred> best_threshold,1,0)\n",
    "#print (classification_report(ytest, ytest_pred))\n",
    "print (classification_report(ytest,preds))"
   ]
  },
  {
   "cell_type": "code",
   "execution_count": 93,
   "metadata": {},
   "outputs": [
    {
     "data": {
      "text/html": [
       "<div>\n",
       "<style scoped>\n",
       "    .dataframe tbody tr th:only-of-type {\n",
       "        vertical-align: middle;\n",
       "    }\n",
       "\n",
       "    .dataframe tbody tr th {\n",
       "        vertical-align: top;\n",
       "    }\n",
       "\n",
       "    .dataframe thead th {\n",
       "        text-align: right;\n",
       "    }\n",
       "</style>\n",
       "<table border=\"1\" class=\"dataframe\">\n",
       "  <thead>\n",
       "    <tr style=\"text-align: right;\">\n",
       "      <th></th>\n",
       "      <th>aa</th>\n",
       "      <th>bb</th>\n",
       "    </tr>\n",
       "  </thead>\n",
       "  <tbody>\n",
       "    <tr>\n",
       "      <th>0</th>\n",
       "      <td>0.236220</td>\n",
       "      <td>1</td>\n",
       "    </tr>\n",
       "    <tr>\n",
       "      <th>1</th>\n",
       "      <td>0.082838</td>\n",
       "      <td>0</td>\n",
       "    </tr>\n",
       "    <tr>\n",
       "      <th>2</th>\n",
       "      <td>0.319803</td>\n",
       "      <td>1</td>\n",
       "    </tr>\n",
       "    <tr>\n",
       "      <th>3</th>\n",
       "      <td>0.082247</td>\n",
       "      <td>0</td>\n",
       "    </tr>\n",
       "    <tr>\n",
       "      <th>4</th>\n",
       "      <td>0.059839</td>\n",
       "      <td>0</td>\n",
       "    </tr>\n",
       "    <tr>\n",
       "      <th>...</th>\n",
       "      <td>...</td>\n",
       "      <td>...</td>\n",
       "    </tr>\n",
       "    <tr>\n",
       "      <th>32995</th>\n",
       "      <td>0.077056</td>\n",
       "      <td>0</td>\n",
       "    </tr>\n",
       "    <tr>\n",
       "      <th>32996</th>\n",
       "      <td>0.196711</td>\n",
       "      <td>1</td>\n",
       "    </tr>\n",
       "    <tr>\n",
       "      <th>32997</th>\n",
       "      <td>0.174287</td>\n",
       "      <td>1</td>\n",
       "    </tr>\n",
       "    <tr>\n",
       "      <th>32998</th>\n",
       "      <td>0.112874</td>\n",
       "      <td>0</td>\n",
       "    </tr>\n",
       "    <tr>\n",
       "      <th>32999</th>\n",
       "      <td>0.034902</td>\n",
       "      <td>0</td>\n",
       "    </tr>\n",
       "  </tbody>\n",
       "</table>\n",
       "<p>33000 rows × 2 columns</p>\n",
       "</div>"
      ],
      "text/plain": [
       "             aa  bb\n",
       "0      0.236220   1\n",
       "1      0.082838   0\n",
       "2      0.319803   1\n",
       "3      0.082247   0\n",
       "4      0.059839   0\n",
       "...         ...  ..\n",
       "32995  0.077056   0\n",
       "32996  0.196711   1\n",
       "32997  0.174287   1\n",
       "32998  0.112874   0\n",
       "32999  0.034902   0\n",
       "\n",
       "[33000 rows x 2 columns]"
      ]
     },
     "execution_count": 93,
     "metadata": {},
     "output_type": "execute_result"
    }
   ],
   "source": [
    "b=pd.DataFrame()\n",
    "b['aa']=ytest_pred\n",
    "b['bb']=preds\n",
    "b"
   ]
  },
  {
   "cell_type": "code",
   "execution_count": 86,
   "metadata": {},
   "outputs": [
    {
     "data": {
      "text/plain": [
       "0.7355595274935126"
      ]
     },
     "execution_count": 86,
     "metadata": {},
     "output_type": "execute_result"
    }
   ],
   "source": [
    "\n",
    "roc_auc_score(ytest, ytest_pred)"
   ]
  },
  {
   "cell_type": "code",
   "execution_count": 89,
   "metadata": {},
   "outputs": [
    {
     "data": {
      "text/plain": [
       "0.6695678245388436"
      ]
     },
     "execution_count": 89,
     "metadata": {},
     "output_type": "execute_result"
    }
   ],
   "source": [
    "roc_auc_score(ytest, preds)"
   ]
  },
  {
   "cell_type": "code",
   "execution_count": 102,
   "metadata": {},
   "outputs": [
    {
     "name": "stdout",
     "output_type": "stream",
     "text": [
      "New_Test_Precision: 4.20%\n"
     ]
    },
    {
     "ename": "ValueError",
     "evalue": "Classification metrics can't handle a mix of binary and continuous targets",
     "output_type": "error",
     "traceback": [
      "\u001b[1;31m---------------------------------------------------------------------------\u001b[0m",
      "\u001b[1;31mValueError\u001b[0m                                Traceback (most recent call last)",
      "\u001b[1;32m<ipython-input-102-515b2183d2c5>\u001b[0m in \u001b[0;36m<module>\u001b[1;34m\u001b[0m\n\u001b[0;32m      1\u001b[0m \u001b[1;31m# check the Precision and Recall\u001b[0m\u001b[1;33m\u001b[0m\u001b[1;33m\u001b[0m\u001b[1;33m\u001b[0m\u001b[0m\n\u001b[0;32m      2\u001b[0m \u001b[0mprint\u001b[0m \u001b[1;33m(\u001b[0m\u001b[1;34m'New_Test_Precision: {:.2f}%'\u001b[0m\u001b[1;33m.\u001b[0m\u001b[0mformat\u001b[0m\u001b[1;33m(\u001b[0m\u001b[0mprecision_score\u001b[0m\u001b[1;33m(\u001b[0m\u001b[0mytest\u001b[0m\u001b[1;33m,\u001b[0m \u001b[0mpreds\u001b[0m\u001b[1;33m)\u001b[0m \u001b[1;33m*\u001b[0m \u001b[1;36m100\u001b[0m\u001b[1;33m)\u001b[0m\u001b[1;33m)\u001b[0m\u001b[1;33m\u001b[0m\u001b[1;33m\u001b[0m\u001b[0m\n\u001b[1;32m----> 3\u001b[1;33m \u001b[0mprint\u001b[0m \u001b[1;33m(\u001b[0m\u001b[1;34m'New_Test_Recall: {:.2f}%'\u001b[0m\u001b[1;33m.\u001b[0m\u001b[0mformat\u001b[0m\u001b[1;33m(\u001b[0m\u001b[0mrecall_score\u001b[0m\u001b[1;33m(\u001b[0m\u001b[0mytest\u001b[0m\u001b[1;33m,\u001b[0m \u001b[0mytest_pred\u001b[0m\u001b[1;33m)\u001b[0m \u001b[1;33m*\u001b[0m \u001b[1;36m100\u001b[0m\u001b[1;33m)\u001b[0m\u001b[1;33m)\u001b[0m\u001b[1;33m\u001b[0m\u001b[1;33m\u001b[0m\u001b[0m\n\u001b[0m",
      "\u001b[1;32m~\\anaconda3\\lib\\site-packages\\sklearn\\utils\\validation.py\u001b[0m in \u001b[0;36minner_f\u001b[1;34m(*args, **kwargs)\u001b[0m\n\u001b[0;32m     71\u001b[0m                           FutureWarning)\n\u001b[0;32m     72\u001b[0m         \u001b[0mkwargs\u001b[0m\u001b[1;33m.\u001b[0m\u001b[0mupdate\u001b[0m\u001b[1;33m(\u001b[0m\u001b[1;33m{\u001b[0m\u001b[0mk\u001b[0m\u001b[1;33m:\u001b[0m \u001b[0marg\u001b[0m \u001b[1;32mfor\u001b[0m \u001b[0mk\u001b[0m\u001b[1;33m,\u001b[0m \u001b[0marg\u001b[0m \u001b[1;32min\u001b[0m \u001b[0mzip\u001b[0m\u001b[1;33m(\u001b[0m\u001b[0msig\u001b[0m\u001b[1;33m.\u001b[0m\u001b[0mparameters\u001b[0m\u001b[1;33m,\u001b[0m \u001b[0margs\u001b[0m\u001b[1;33m)\u001b[0m\u001b[1;33m}\u001b[0m\u001b[1;33m)\u001b[0m\u001b[1;33m\u001b[0m\u001b[1;33m\u001b[0m\u001b[0m\n\u001b[1;32m---> 73\u001b[1;33m         \u001b[1;32mreturn\u001b[0m \u001b[0mf\u001b[0m\u001b[1;33m(\u001b[0m\u001b[1;33m**\u001b[0m\u001b[0mkwargs\u001b[0m\u001b[1;33m)\u001b[0m\u001b[1;33m\u001b[0m\u001b[1;33m\u001b[0m\u001b[0m\n\u001b[0m\u001b[0;32m     74\u001b[0m     \u001b[1;32mreturn\u001b[0m \u001b[0minner_f\u001b[0m\u001b[1;33m\u001b[0m\u001b[1;33m\u001b[0m\u001b[0m\n\u001b[0;32m     75\u001b[0m \u001b[1;33m\u001b[0m\u001b[0m\n",
      "\u001b[1;32m~\\anaconda3\\lib\\site-packages\\sklearn\\metrics\\_classification.py\u001b[0m in \u001b[0;36mrecall_score\u001b[1;34m(y_true, y_pred, labels, pos_label, average, sample_weight, zero_division)\u001b[0m\n\u001b[0;32m   1733\u001b[0m     \u001b[0;31m`\u001b[0m\u001b[0;31m`\u001b[0m\u001b[0mzero_division\u001b[0m\u001b[0;31m`\u001b[0m\u001b[0;31m`\u001b[0m\u001b[1;33m.\u001b[0m\u001b[1;33m\u001b[0m\u001b[1;33m\u001b[0m\u001b[0m\n\u001b[0;32m   1734\u001b[0m     \"\"\"\n\u001b[1;32m-> 1735\u001b[1;33m     _, r, _, _ = precision_recall_fscore_support(y_true, y_pred,\n\u001b[0m\u001b[0;32m   1736\u001b[0m                                                  \u001b[0mlabels\u001b[0m\u001b[1;33m=\u001b[0m\u001b[0mlabels\u001b[0m\u001b[1;33m,\u001b[0m\u001b[1;33m\u001b[0m\u001b[1;33m\u001b[0m\u001b[0m\n\u001b[0;32m   1737\u001b[0m                                                  \u001b[0mpos_label\u001b[0m\u001b[1;33m=\u001b[0m\u001b[0mpos_label\u001b[0m\u001b[1;33m,\u001b[0m\u001b[1;33m\u001b[0m\u001b[1;33m\u001b[0m\u001b[0m\n",
      "\u001b[1;32m~\\anaconda3\\lib\\site-packages\\sklearn\\utils\\validation.py\u001b[0m in \u001b[0;36minner_f\u001b[1;34m(*args, **kwargs)\u001b[0m\n\u001b[0;32m     71\u001b[0m                           FutureWarning)\n\u001b[0;32m     72\u001b[0m         \u001b[0mkwargs\u001b[0m\u001b[1;33m.\u001b[0m\u001b[0mupdate\u001b[0m\u001b[1;33m(\u001b[0m\u001b[1;33m{\u001b[0m\u001b[0mk\u001b[0m\u001b[1;33m:\u001b[0m \u001b[0marg\u001b[0m \u001b[1;32mfor\u001b[0m \u001b[0mk\u001b[0m\u001b[1;33m,\u001b[0m \u001b[0marg\u001b[0m \u001b[1;32min\u001b[0m \u001b[0mzip\u001b[0m\u001b[1;33m(\u001b[0m\u001b[0msig\u001b[0m\u001b[1;33m.\u001b[0m\u001b[0mparameters\u001b[0m\u001b[1;33m,\u001b[0m \u001b[0margs\u001b[0m\u001b[1;33m)\u001b[0m\u001b[1;33m}\u001b[0m\u001b[1;33m)\u001b[0m\u001b[1;33m\u001b[0m\u001b[1;33m\u001b[0m\u001b[0m\n\u001b[1;32m---> 73\u001b[1;33m         \u001b[1;32mreturn\u001b[0m \u001b[0mf\u001b[0m\u001b[1;33m(\u001b[0m\u001b[1;33m**\u001b[0m\u001b[0mkwargs\u001b[0m\u001b[1;33m)\u001b[0m\u001b[1;33m\u001b[0m\u001b[1;33m\u001b[0m\u001b[0m\n\u001b[0m\u001b[0;32m     74\u001b[0m     \u001b[1;32mreturn\u001b[0m \u001b[0minner_f\u001b[0m\u001b[1;33m\u001b[0m\u001b[1;33m\u001b[0m\u001b[0m\n\u001b[0;32m     75\u001b[0m \u001b[1;33m\u001b[0m\u001b[0m\n",
      "\u001b[1;32m~\\anaconda3\\lib\\site-packages\\sklearn\\metrics\\_classification.py\u001b[0m in \u001b[0;36mprecision_recall_fscore_support\u001b[1;34m(y_true, y_pred, beta, labels, pos_label, average, warn_for, sample_weight, zero_division)\u001b[0m\n\u001b[0;32m   1431\u001b[0m     \u001b[1;32mif\u001b[0m \u001b[0mbeta\u001b[0m \u001b[1;33m<\u001b[0m \u001b[1;36m0\u001b[0m\u001b[1;33m:\u001b[0m\u001b[1;33m\u001b[0m\u001b[1;33m\u001b[0m\u001b[0m\n\u001b[0;32m   1432\u001b[0m         \u001b[1;32mraise\u001b[0m \u001b[0mValueError\u001b[0m\u001b[1;33m(\u001b[0m\u001b[1;34m\"beta should be >=0 in the F-beta score\"\u001b[0m\u001b[1;33m)\u001b[0m\u001b[1;33m\u001b[0m\u001b[1;33m\u001b[0m\u001b[0m\n\u001b[1;32m-> 1433\u001b[1;33m     labels = _check_set_wise_labels(y_true, y_pred, average, labels,\n\u001b[0m\u001b[0;32m   1434\u001b[0m                                     pos_label)\n\u001b[0;32m   1435\u001b[0m \u001b[1;33m\u001b[0m\u001b[0m\n",
      "\u001b[1;32m~\\anaconda3\\lib\\site-packages\\sklearn\\metrics\\_classification.py\u001b[0m in \u001b[0;36m_check_set_wise_labels\u001b[1;34m(y_true, y_pred, average, labels, pos_label)\u001b[0m\n\u001b[0;32m   1248\u001b[0m                          str(average_options))\n\u001b[0;32m   1249\u001b[0m \u001b[1;33m\u001b[0m\u001b[0m\n\u001b[1;32m-> 1250\u001b[1;33m     \u001b[0my_type\u001b[0m\u001b[1;33m,\u001b[0m \u001b[0my_true\u001b[0m\u001b[1;33m,\u001b[0m \u001b[0my_pred\u001b[0m \u001b[1;33m=\u001b[0m \u001b[0m_check_targets\u001b[0m\u001b[1;33m(\u001b[0m\u001b[0my_true\u001b[0m\u001b[1;33m,\u001b[0m \u001b[0my_pred\u001b[0m\u001b[1;33m)\u001b[0m\u001b[1;33m\u001b[0m\u001b[1;33m\u001b[0m\u001b[0m\n\u001b[0m\u001b[0;32m   1251\u001b[0m     \u001b[0mpresent_labels\u001b[0m \u001b[1;33m=\u001b[0m \u001b[0munique_labels\u001b[0m\u001b[1;33m(\u001b[0m\u001b[0my_true\u001b[0m\u001b[1;33m,\u001b[0m \u001b[0my_pred\u001b[0m\u001b[1;33m)\u001b[0m\u001b[1;33m\u001b[0m\u001b[1;33m\u001b[0m\u001b[0m\n\u001b[0;32m   1252\u001b[0m     \u001b[1;32mif\u001b[0m \u001b[0maverage\u001b[0m \u001b[1;33m==\u001b[0m \u001b[1;34m'binary'\u001b[0m\u001b[1;33m:\u001b[0m\u001b[1;33m\u001b[0m\u001b[1;33m\u001b[0m\u001b[0m\n",
      "\u001b[1;32m~\\anaconda3\\lib\\site-packages\\sklearn\\metrics\\_classification.py\u001b[0m in \u001b[0;36m_check_targets\u001b[1;34m(y_true, y_pred)\u001b[0m\n\u001b[0;32m     88\u001b[0m \u001b[1;33m\u001b[0m\u001b[0m\n\u001b[0;32m     89\u001b[0m     \u001b[1;32mif\u001b[0m \u001b[0mlen\u001b[0m\u001b[1;33m(\u001b[0m\u001b[0my_type\u001b[0m\u001b[1;33m)\u001b[0m \u001b[1;33m>\u001b[0m \u001b[1;36m1\u001b[0m\u001b[1;33m:\u001b[0m\u001b[1;33m\u001b[0m\u001b[1;33m\u001b[0m\u001b[0m\n\u001b[1;32m---> 90\u001b[1;33m         raise ValueError(\"Classification metrics can't handle a mix of {0} \"\n\u001b[0m\u001b[0;32m     91\u001b[0m                          \"and {1} targets\".format(type_true, type_pred))\n\u001b[0;32m     92\u001b[0m \u001b[1;33m\u001b[0m\u001b[0m\n",
      "\u001b[1;31mValueError\u001b[0m: Classification metrics can't handle a mix of binary and continuous targets"
     ]
    }
   ],
   "source": [
    "# check the Precision and Recall\n",
    "print ('New_Test_Precision: {:.2f}%'.format(precision_score(ytest, preds) * 100))\n",
    "print ('New_Test_Recall: {:.2f}%'.format(recall_score(ytest, ytest_pred) * 100))"
   ]
  },
  {
   "cell_type": "code",
   "execution_count": 48,
   "metadata": {},
   "outputs": [],
   "source": [
    "gbt.save_model('gbt.model')"
   ]
  },
  {
   "cell_type": "markdown",
   "metadata": {},
   "source": [
    "<a id='question2'></a>\n",
    "## Question 2\n",
    "Build a model to optimize in future email campaigns to maximize the probability of users clicking on the link inside the email."
   ]
  },
  {
   "cell_type": "markdown",
   "metadata": {},
   "source": [
    "I just built a Gradient Boosting Tree model in previous section which predicts whether a user will click the link or not. The new email campaign strategy will only send emmail to uses which my model predicts positive."
   ]
  },
  {
   "cell_type": "code",
   "execution_count": 154,
   "metadata": {},
   "outputs": [
    {
     "name": "stdout",
     "output_type": "stream",
     "text": [
      "Previous emails sent: 33000.00 \n",
      "New emails sent: 11140.00 \n",
      "Saving percentage: 66.24 \n"
     ]
    }
   ],
   "source": [
    "old_emails_sent = ytest_pred.shape[0]\n",
    "new_email_sent = ytest_pred.sum()\n",
    "saving_percentage = 100 - new_email_sent * 100.0/old_emails_sent\n",
    "\n",
    "print('Previous emails sent: {:.2f} '.format(old_emails_sent))\n",
    "print('New emails sent: {:.2f} '.format(new_email_sent))\n",
    "print('Saving percentage: {:.2f} '.format(saving_percentage))"
   ]
  },
  {
   "cell_type": "markdown",
   "metadata": {},
   "source": [
    "According to the predictive result on test set:\n",
    "- 4.20% of the receivers will open email and click the link. By compared with old strategy, whose click rate is 2.12%, my new strategy can double the click rate.\n",
    "- my model saved 66.2% amount, and only need to 33.8% of the old email amount.\n",
    "- my model will cover 67% valued users which click the link."
   ]
  },
  {
   "cell_type": "markdown",
   "metadata": {},
   "source": [
    "<a id='question3(2)'></a>\n",
    "## Question 3 (2)\n",
    "How would you test that?"
   ]
  },
  {
   "cell_type": "markdown",
   "metadata": {},
   "source": [
    "To test my conclusion, we need to perform a A/B test:\n",
    "1. Randomly assign users to two groups, control and experimental group.\n",
    "2. In control group,user still use the old email-campaign strategy,i.e.,just send emails to all users in control group.\n",
    "3. In experiment group,use the model I built to predict whether the user will click the link r not, and only send emails to those users whose predictive result is positive.\n",
    "4. Perform a one-taill t-test to test whether experiment group's population proportion is higher than control groups's."
   ]
  },
  {
   "cell_type": "code",
   "execution_count": null,
   "metadata": {},
   "outputs": [],
   "source": []
  }
 ],
 "metadata": {
  "kernelspec": {
   "display_name": "Python 3",
   "language": "python",
   "name": "python3"
  },
  "language_info": {
   "codemirror_mode": {
    "name": "ipython",
    "version": 3
   },
   "file_extension": ".py",
   "mimetype": "text/x-python",
   "name": "python",
   "nbconvert_exporter": "python",
   "pygments_lexer": "ipython3",
   "version": "3.8.3"
  }
 },
 "nbformat": 4,
 "nbformat_minor": 4
}
